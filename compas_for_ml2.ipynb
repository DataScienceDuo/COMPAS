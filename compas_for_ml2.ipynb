{
 "cells": [
  {
   "cell_type": "code",
   "execution_count": 10,
   "metadata": {},
   "outputs": [],
   "source": [
    "import pandas as pd\n",
    "import numpy as np\n",
    "import copy\n",
    "%matplotlib inline"
   ]
  },
  {
   "cell_type": "code",
   "execution_count": 11,
   "metadata": {},
   "outputs": [],
   "source": [
    "compas = pd.read_csv('C:/Users/sjaco/OneDrive/Desktop/final project/compas.csv')"
   ]
  },
  {
   "cell_type": "code",
   "execution_count": 12,
   "metadata": {},
   "outputs": [
    {
     "data": {
      "text/html": [
       "<div>\n",
       "<style scoped>\n",
       "    .dataframe tbody tr th:only-of-type {\n",
       "        vertical-align: middle;\n",
       "    }\n",
       "\n",
       "    .dataframe tbody tr th {\n",
       "        vertical-align: top;\n",
       "    }\n",
       "\n",
       "    .dataframe thead th {\n",
       "        text-align: right;\n",
       "    }\n",
       "</style>\n",
       "<table border=\"1\" class=\"dataframe\">\n",
       "  <thead>\n",
       "    <tr style=\"text-align: right;\">\n",
       "      <th></th>\n",
       "      <th>Person_ID</th>\n",
       "      <th>AssessmentID</th>\n",
       "      <th>Case_ID</th>\n",
       "      <th>Agency_Text</th>\n",
       "      <th>LastName</th>\n",
       "      <th>FirstName</th>\n",
       "      <th>MiddleName</th>\n",
       "      <th>Sex_Code_Text</th>\n",
       "      <th>Ethnic_Code_Text</th>\n",
       "      <th>DateOfBirth</th>\n",
       "      <th>...</th>\n",
       "      <th>RecSupervisionLevel</th>\n",
       "      <th>RecSupervisionLevelText</th>\n",
       "      <th>Scale_ID</th>\n",
       "      <th>DisplayText</th>\n",
       "      <th>RawScore</th>\n",
       "      <th>DecileScore</th>\n",
       "      <th>ScoreText</th>\n",
       "      <th>AssessmentType</th>\n",
       "      <th>IsCompleted</th>\n",
       "      <th>IsDeleted</th>\n",
       "    </tr>\n",
       "  </thead>\n",
       "  <tbody>\n",
       "    <tr>\n",
       "      <th>0</th>\n",
       "      <td>50844</td>\n",
       "      <td>57167</td>\n",
       "      <td>51950</td>\n",
       "      <td>PRETRIAL</td>\n",
       "      <td>Fisher</td>\n",
       "      <td>Kevin</td>\n",
       "      <td>NaN</td>\n",
       "      <td>Male</td>\n",
       "      <td>Caucasian</td>\n",
       "      <td>12/5/1992</td>\n",
       "      <td>...</td>\n",
       "      <td>1</td>\n",
       "      <td>Low</td>\n",
       "      <td>7</td>\n",
       "      <td>Risk of Violence</td>\n",
       "      <td>-2.08</td>\n",
       "      <td>4</td>\n",
       "      <td>Low</td>\n",
       "      <td>New</td>\n",
       "      <td>1</td>\n",
       "      <td>0</td>\n",
       "    </tr>\n",
       "    <tr>\n",
       "      <th>1</th>\n",
       "      <td>50844</td>\n",
       "      <td>57167</td>\n",
       "      <td>51950</td>\n",
       "      <td>PRETRIAL</td>\n",
       "      <td>Fisher</td>\n",
       "      <td>Kevin</td>\n",
       "      <td>NaN</td>\n",
       "      <td>Male</td>\n",
       "      <td>Caucasian</td>\n",
       "      <td>12/5/1992</td>\n",
       "      <td>...</td>\n",
       "      <td>1</td>\n",
       "      <td>Low</td>\n",
       "      <td>8</td>\n",
       "      <td>Risk of Recidivism</td>\n",
       "      <td>-1.06</td>\n",
       "      <td>2</td>\n",
       "      <td>Low</td>\n",
       "      <td>New</td>\n",
       "      <td>1</td>\n",
       "      <td>0</td>\n",
       "    </tr>\n",
       "    <tr>\n",
       "      <th>2</th>\n",
       "      <td>50844</td>\n",
       "      <td>57167</td>\n",
       "      <td>51950</td>\n",
       "      <td>PRETRIAL</td>\n",
       "      <td>Fisher</td>\n",
       "      <td>Kevin</td>\n",
       "      <td>NaN</td>\n",
       "      <td>Male</td>\n",
       "      <td>Caucasian</td>\n",
       "      <td>12/5/1992</td>\n",
       "      <td>...</td>\n",
       "      <td>1</td>\n",
       "      <td>Low</td>\n",
       "      <td>18</td>\n",
       "      <td>Risk of Failure to Appear</td>\n",
       "      <td>15.00</td>\n",
       "      <td>1</td>\n",
       "      <td>Low</td>\n",
       "      <td>New</td>\n",
       "      <td>1</td>\n",
       "      <td>0</td>\n",
       "    </tr>\n",
       "    <tr>\n",
       "      <th>3</th>\n",
       "      <td>50848</td>\n",
       "      <td>57174</td>\n",
       "      <td>51956</td>\n",
       "      <td>PRETRIAL</td>\n",
       "      <td>KENDALL</td>\n",
       "      <td>KEVIN</td>\n",
       "      <td>NaN</td>\n",
       "      <td>Male</td>\n",
       "      <td>Caucasian</td>\n",
       "      <td>9/16/1984</td>\n",
       "      <td>...</td>\n",
       "      <td>1</td>\n",
       "      <td>Low</td>\n",
       "      <td>7</td>\n",
       "      <td>Risk of Violence</td>\n",
       "      <td>-2.84</td>\n",
       "      <td>2</td>\n",
       "      <td>Low</td>\n",
       "      <td>New</td>\n",
       "      <td>1</td>\n",
       "      <td>0</td>\n",
       "    </tr>\n",
       "    <tr>\n",
       "      <th>4</th>\n",
       "      <td>50848</td>\n",
       "      <td>57174</td>\n",
       "      <td>51956</td>\n",
       "      <td>PRETRIAL</td>\n",
       "      <td>KENDALL</td>\n",
       "      <td>KEVIN</td>\n",
       "      <td>NaN</td>\n",
       "      <td>Male</td>\n",
       "      <td>Caucasian</td>\n",
       "      <td>9/16/1984</td>\n",
       "      <td>...</td>\n",
       "      <td>1</td>\n",
       "      <td>Low</td>\n",
       "      <td>8</td>\n",
       "      <td>Risk of Recidivism</td>\n",
       "      <td>-1.50</td>\n",
       "      <td>1</td>\n",
       "      <td>Low</td>\n",
       "      <td>New</td>\n",
       "      <td>1</td>\n",
       "      <td>0</td>\n",
       "    </tr>\n",
       "  </tbody>\n",
       "</table>\n",
       "<p>5 rows × 28 columns</p>\n",
       "</div>"
      ],
      "text/plain": [
       "   Person_ID  AssessmentID  Case_ID Agency_Text LastName FirstName MiddleName  \\\n",
       "0      50844         57167    51950    PRETRIAL   Fisher     Kevin        NaN   \n",
       "1      50844         57167    51950    PRETRIAL   Fisher     Kevin        NaN   \n",
       "2      50844         57167    51950    PRETRIAL   Fisher     Kevin        NaN   \n",
       "3      50848         57174    51956    PRETRIAL  KENDALL     KEVIN        NaN   \n",
       "4      50848         57174    51956    PRETRIAL  KENDALL     KEVIN        NaN   \n",
       "\n",
       "  Sex_Code_Text Ethnic_Code_Text DateOfBirth  ...  RecSupervisionLevel  \\\n",
       "0          Male        Caucasian   12/5/1992  ...                    1   \n",
       "1          Male        Caucasian   12/5/1992  ...                    1   \n",
       "2          Male        Caucasian   12/5/1992  ...                    1   \n",
       "3          Male        Caucasian   9/16/1984  ...                    1   \n",
       "4          Male        Caucasian   9/16/1984  ...                    1   \n",
       "\n",
       "  RecSupervisionLevelText Scale_ID                DisplayText RawScore  \\\n",
       "0                     Low        7           Risk of Violence    -2.08   \n",
       "1                     Low        8         Risk of Recidivism    -1.06   \n",
       "2                     Low       18  Risk of Failure to Appear    15.00   \n",
       "3                     Low        7           Risk of Violence    -2.84   \n",
       "4                     Low        8         Risk of Recidivism    -1.50   \n",
       "\n",
       "  DecileScore ScoreText AssessmentType  IsCompleted IsDeleted  \n",
       "0           4       Low            New            1         0  \n",
       "1           2       Low            New            1         0  \n",
       "2           1       Low            New            1         0  \n",
       "3           2       Low            New            1         0  \n",
       "4           1       Low            New            1         0  \n",
       "\n",
       "[5 rows x 28 columns]"
      ]
     },
     "execution_count": 12,
     "metadata": {},
     "output_type": "execute_result"
    }
   ],
   "source": [
    "compas.head()"
   ]
  },
  {
   "cell_type": "code",
   "execution_count": 13,
   "metadata": {
    "scrolled": false
   },
   "outputs": [
    {
     "name": "stdout",
     "output_type": "stream",
     "text": [
      "<class 'pandas.core.frame.DataFrame'>\n",
      "RangeIndex: 60843 entries, 0 to 60842\n",
      "Data columns (total 28 columns):\n",
      " #   Column                   Non-Null Count  Dtype  \n",
      "---  ------                   --------------  -----  \n",
      " 0   Person_ID                60843 non-null  int64  \n",
      " 1   AssessmentID             60843 non-null  int64  \n",
      " 2   Case_ID                  60843 non-null  int64  \n",
      " 3   Agency_Text              60843 non-null  object \n",
      " 4   LastName                 60843 non-null  object \n",
      " 5   FirstName                60843 non-null  object \n",
      " 6   MiddleName               15648 non-null  object \n",
      " 7   Sex_Code_Text            60843 non-null  object \n",
      " 8   Ethnic_Code_Text         60843 non-null  object \n",
      " 9   DateOfBirth              60843 non-null  object \n",
      " 10  ScaleSet_ID              60843 non-null  int64  \n",
      " 11  ScaleSet                 60843 non-null  object \n",
      " 12  AssessmentReason         60843 non-null  object \n",
      " 13  Language                 60843 non-null  object \n",
      " 14  LegalStatus              60843 non-null  object \n",
      " 15  CustodyStatus            60843 non-null  object \n",
      " 16  MaritalStatus            60843 non-null  object \n",
      " 17  Screening_Date           60843 non-null  object \n",
      " 18  RecSupervisionLevel      60843 non-null  int64  \n",
      " 19  RecSupervisionLevelText  60843 non-null  object \n",
      " 20  Scale_ID                 60843 non-null  int64  \n",
      " 21  DisplayText              60843 non-null  object \n",
      " 22  RawScore                 60843 non-null  float64\n",
      " 23  DecileScore              60843 non-null  int64  \n",
      " 24  ScoreText                60798 non-null  object \n",
      " 25  AssessmentType           60843 non-null  object \n",
      " 26  IsCompleted              60843 non-null  int64  \n",
      " 27  IsDeleted                60843 non-null  int64  \n",
      "dtypes: float64(1), int64(9), object(18)\n",
      "memory usage: 13.0+ MB\n",
      "None\n"
     ]
    }
   ],
   "source": [
    "print(compas.info())"
   ]
  },
  {
   "cell_type": "code",
   "execution_count": 14,
   "metadata": {},
   "outputs": [],
   "source": [
    "cat_compas = compas.select_dtypes(include=['object']).copy()"
   ]
  },
  {
   "cell_type": "code",
   "execution_count": 15,
   "metadata": {},
   "outputs": [
    {
     "data": {
      "text/html": [
       "<div>\n",
       "<style scoped>\n",
       "    .dataframe tbody tr th:only-of-type {\n",
       "        vertical-align: middle;\n",
       "    }\n",
       "\n",
       "    .dataframe tbody tr th {\n",
       "        vertical-align: top;\n",
       "    }\n",
       "\n",
       "    .dataframe thead th {\n",
       "        text-align: right;\n",
       "    }\n",
       "</style>\n",
       "<table border=\"1\" class=\"dataframe\">\n",
       "  <thead>\n",
       "    <tr style=\"text-align: right;\">\n",
       "      <th></th>\n",
       "      <th>Agency_Text</th>\n",
       "      <th>LastName</th>\n",
       "      <th>FirstName</th>\n",
       "      <th>MiddleName</th>\n",
       "      <th>Sex_Code_Text</th>\n",
       "      <th>Ethnic_Code_Text</th>\n",
       "      <th>DateOfBirth</th>\n",
       "      <th>ScaleSet</th>\n",
       "      <th>AssessmentReason</th>\n",
       "      <th>Language</th>\n",
       "      <th>LegalStatus</th>\n",
       "      <th>CustodyStatus</th>\n",
       "      <th>MaritalStatus</th>\n",
       "      <th>Screening_Date</th>\n",
       "      <th>RecSupervisionLevelText</th>\n",
       "      <th>DisplayText</th>\n",
       "      <th>ScoreText</th>\n",
       "      <th>AssessmentType</th>\n",
       "    </tr>\n",
       "  </thead>\n",
       "  <tbody>\n",
       "    <tr>\n",
       "      <th>0</th>\n",
       "      <td>PRETRIAL</td>\n",
       "      <td>Fisher</td>\n",
       "      <td>Kevin</td>\n",
       "      <td>NaN</td>\n",
       "      <td>Male</td>\n",
       "      <td>Caucasian</td>\n",
       "      <td>12/5/1992</td>\n",
       "      <td>Risk and Prescreen</td>\n",
       "      <td>Intake</td>\n",
       "      <td>English</td>\n",
       "      <td>Pretrial</td>\n",
       "      <td>Jail Inmate</td>\n",
       "      <td>Single</td>\n",
       "      <td>1/1/2013 0:00</td>\n",
       "      <td>Low</td>\n",
       "      <td>Risk of Violence</td>\n",
       "      <td>Low</td>\n",
       "      <td>New</td>\n",
       "    </tr>\n",
       "    <tr>\n",
       "      <th>1</th>\n",
       "      <td>PRETRIAL</td>\n",
       "      <td>Fisher</td>\n",
       "      <td>Kevin</td>\n",
       "      <td>NaN</td>\n",
       "      <td>Male</td>\n",
       "      <td>Caucasian</td>\n",
       "      <td>12/5/1992</td>\n",
       "      <td>Risk and Prescreen</td>\n",
       "      <td>Intake</td>\n",
       "      <td>English</td>\n",
       "      <td>Pretrial</td>\n",
       "      <td>Jail Inmate</td>\n",
       "      <td>Single</td>\n",
       "      <td>1/1/2013 0:00</td>\n",
       "      <td>Low</td>\n",
       "      <td>Risk of Recidivism</td>\n",
       "      <td>Low</td>\n",
       "      <td>New</td>\n",
       "    </tr>\n",
       "    <tr>\n",
       "      <th>2</th>\n",
       "      <td>PRETRIAL</td>\n",
       "      <td>Fisher</td>\n",
       "      <td>Kevin</td>\n",
       "      <td>NaN</td>\n",
       "      <td>Male</td>\n",
       "      <td>Caucasian</td>\n",
       "      <td>12/5/1992</td>\n",
       "      <td>Risk and Prescreen</td>\n",
       "      <td>Intake</td>\n",
       "      <td>English</td>\n",
       "      <td>Pretrial</td>\n",
       "      <td>Jail Inmate</td>\n",
       "      <td>Single</td>\n",
       "      <td>1/1/2013 0:00</td>\n",
       "      <td>Low</td>\n",
       "      <td>Risk of Failure to Appear</td>\n",
       "      <td>Low</td>\n",
       "      <td>New</td>\n",
       "    </tr>\n",
       "    <tr>\n",
       "      <th>3</th>\n",
       "      <td>PRETRIAL</td>\n",
       "      <td>KENDALL</td>\n",
       "      <td>KEVIN</td>\n",
       "      <td>NaN</td>\n",
       "      <td>Male</td>\n",
       "      <td>Caucasian</td>\n",
       "      <td>9/16/1984</td>\n",
       "      <td>Risk and Prescreen</td>\n",
       "      <td>Intake</td>\n",
       "      <td>English</td>\n",
       "      <td>Pretrial</td>\n",
       "      <td>Jail Inmate</td>\n",
       "      <td>Married</td>\n",
       "      <td>1/1/2013 0:00</td>\n",
       "      <td>Low</td>\n",
       "      <td>Risk of Violence</td>\n",
       "      <td>Low</td>\n",
       "      <td>New</td>\n",
       "    </tr>\n",
       "    <tr>\n",
       "      <th>4</th>\n",
       "      <td>PRETRIAL</td>\n",
       "      <td>KENDALL</td>\n",
       "      <td>KEVIN</td>\n",
       "      <td>NaN</td>\n",
       "      <td>Male</td>\n",
       "      <td>Caucasian</td>\n",
       "      <td>9/16/1984</td>\n",
       "      <td>Risk and Prescreen</td>\n",
       "      <td>Intake</td>\n",
       "      <td>English</td>\n",
       "      <td>Pretrial</td>\n",
       "      <td>Jail Inmate</td>\n",
       "      <td>Married</td>\n",
       "      <td>1/1/2013 0:00</td>\n",
       "      <td>Low</td>\n",
       "      <td>Risk of Recidivism</td>\n",
       "      <td>Low</td>\n",
       "      <td>New</td>\n",
       "    </tr>\n",
       "  </tbody>\n",
       "</table>\n",
       "</div>"
      ],
      "text/plain": [
       "  Agency_Text LastName FirstName MiddleName Sex_Code_Text Ethnic_Code_Text  \\\n",
       "0    PRETRIAL   Fisher     Kevin        NaN          Male        Caucasian   \n",
       "1    PRETRIAL   Fisher     Kevin        NaN          Male        Caucasian   \n",
       "2    PRETRIAL   Fisher     Kevin        NaN          Male        Caucasian   \n",
       "3    PRETRIAL  KENDALL     KEVIN        NaN          Male        Caucasian   \n",
       "4    PRETRIAL  KENDALL     KEVIN        NaN          Male        Caucasian   \n",
       "\n",
       "  DateOfBirth            ScaleSet AssessmentReason Language LegalStatus  \\\n",
       "0   12/5/1992  Risk and Prescreen           Intake  English    Pretrial   \n",
       "1   12/5/1992  Risk and Prescreen           Intake  English    Pretrial   \n",
       "2   12/5/1992  Risk and Prescreen           Intake  English    Pretrial   \n",
       "3   9/16/1984  Risk and Prescreen           Intake  English    Pretrial   \n",
       "4   9/16/1984  Risk and Prescreen           Intake  English    Pretrial   \n",
       "\n",
       "  CustodyStatus MaritalStatus Screening_Date RecSupervisionLevelText  \\\n",
       "0   Jail Inmate        Single  1/1/2013 0:00                     Low   \n",
       "1   Jail Inmate        Single  1/1/2013 0:00                     Low   \n",
       "2   Jail Inmate        Single  1/1/2013 0:00                     Low   \n",
       "3   Jail Inmate       Married  1/1/2013 0:00                     Low   \n",
       "4   Jail Inmate       Married  1/1/2013 0:00                     Low   \n",
       "\n",
       "                 DisplayText ScoreText AssessmentType  \n",
       "0           Risk of Violence       Low            New  \n",
       "1         Risk of Recidivism       Low            New  \n",
       "2  Risk of Failure to Appear       Low            New  \n",
       "3           Risk of Violence       Low            New  \n",
       "4         Risk of Recidivism       Low            New  "
      ]
     },
     "execution_count": 15,
     "metadata": {},
     "output_type": "execute_result"
    }
   ],
   "source": [
    "cat_compas.head()"
   ]
  },
  {
   "cell_type": "code",
   "execution_count": 16,
   "metadata": {},
   "outputs": [
    {
     "name": "stdout",
     "output_type": "stream",
     "text": [
      "45240\n"
     ]
    }
   ],
   "source": [
    "print(cat_compas.isnull().values.sum())"
   ]
  },
  {
   "cell_type": "code",
   "execution_count": 17,
   "metadata": {},
   "outputs": [
    {
     "name": "stdout",
     "output_type": "stream",
     "text": [
      "Agency_Text                    0\n",
      "LastName                       0\n",
      "FirstName                      0\n",
      "MiddleName                 45195\n",
      "Sex_Code_Text                  0\n",
      "Ethnic_Code_Text               0\n",
      "DateOfBirth                    0\n",
      "ScaleSet                       0\n",
      "AssessmentReason               0\n",
      "Language                       0\n",
      "LegalStatus                    0\n",
      "CustodyStatus                  0\n",
      "MaritalStatus                  0\n",
      "Screening_Date                 0\n",
      "RecSupervisionLevelText        0\n",
      "DisplayText                    0\n",
      "ScoreText                     45\n",
      "AssessmentType                 0\n",
      "dtype: int64\n"
     ]
    }
   ],
   "source": [
    "print(cat_compas.isnull().sum())"
   ]
  },
  {
   "cell_type": "code",
   "execution_count": 18,
   "metadata": {},
   "outputs": [],
   "source": [
    "#MiddleName is the most incomplete and has enough NULL values that I think it's better just to drop it completely"
   ]
  },
  {
   "cell_type": "code",
   "execution_count": 19,
   "metadata": {},
   "outputs": [],
   "source": [
    "del cat_compas['MiddleName']"
   ]
  },
  {
   "cell_type": "code",
   "execution_count": 20,
   "metadata": {},
   "outputs": [
    {
     "data": {
      "text/html": [
       "<div>\n",
       "<style scoped>\n",
       "    .dataframe tbody tr th:only-of-type {\n",
       "        vertical-align: middle;\n",
       "    }\n",
       "\n",
       "    .dataframe tbody tr th {\n",
       "        vertical-align: top;\n",
       "    }\n",
       "\n",
       "    .dataframe thead th {\n",
       "        text-align: right;\n",
       "    }\n",
       "</style>\n",
       "<table border=\"1\" class=\"dataframe\">\n",
       "  <thead>\n",
       "    <tr style=\"text-align: right;\">\n",
       "      <th></th>\n",
       "      <th>Agency_Text</th>\n",
       "      <th>LastName</th>\n",
       "      <th>FirstName</th>\n",
       "      <th>Sex_Code_Text</th>\n",
       "      <th>Ethnic_Code_Text</th>\n",
       "      <th>DateOfBirth</th>\n",
       "      <th>ScaleSet</th>\n",
       "      <th>AssessmentReason</th>\n",
       "      <th>Language</th>\n",
       "      <th>LegalStatus</th>\n",
       "      <th>CustodyStatus</th>\n",
       "      <th>MaritalStatus</th>\n",
       "      <th>Screening_Date</th>\n",
       "      <th>RecSupervisionLevelText</th>\n",
       "      <th>DisplayText</th>\n",
       "      <th>ScoreText</th>\n",
       "      <th>AssessmentType</th>\n",
       "    </tr>\n",
       "  </thead>\n",
       "  <tbody>\n",
       "    <tr>\n",
       "      <th>0</th>\n",
       "      <td>PRETRIAL</td>\n",
       "      <td>Fisher</td>\n",
       "      <td>Kevin</td>\n",
       "      <td>Male</td>\n",
       "      <td>Caucasian</td>\n",
       "      <td>12/5/1992</td>\n",
       "      <td>Risk and Prescreen</td>\n",
       "      <td>Intake</td>\n",
       "      <td>English</td>\n",
       "      <td>Pretrial</td>\n",
       "      <td>Jail Inmate</td>\n",
       "      <td>Single</td>\n",
       "      <td>1/1/2013 0:00</td>\n",
       "      <td>Low</td>\n",
       "      <td>Risk of Violence</td>\n",
       "      <td>Low</td>\n",
       "      <td>New</td>\n",
       "    </tr>\n",
       "    <tr>\n",
       "      <th>1</th>\n",
       "      <td>PRETRIAL</td>\n",
       "      <td>Fisher</td>\n",
       "      <td>Kevin</td>\n",
       "      <td>Male</td>\n",
       "      <td>Caucasian</td>\n",
       "      <td>12/5/1992</td>\n",
       "      <td>Risk and Prescreen</td>\n",
       "      <td>Intake</td>\n",
       "      <td>English</td>\n",
       "      <td>Pretrial</td>\n",
       "      <td>Jail Inmate</td>\n",
       "      <td>Single</td>\n",
       "      <td>1/1/2013 0:00</td>\n",
       "      <td>Low</td>\n",
       "      <td>Risk of Recidivism</td>\n",
       "      <td>Low</td>\n",
       "      <td>New</td>\n",
       "    </tr>\n",
       "    <tr>\n",
       "      <th>2</th>\n",
       "      <td>PRETRIAL</td>\n",
       "      <td>Fisher</td>\n",
       "      <td>Kevin</td>\n",
       "      <td>Male</td>\n",
       "      <td>Caucasian</td>\n",
       "      <td>12/5/1992</td>\n",
       "      <td>Risk and Prescreen</td>\n",
       "      <td>Intake</td>\n",
       "      <td>English</td>\n",
       "      <td>Pretrial</td>\n",
       "      <td>Jail Inmate</td>\n",
       "      <td>Single</td>\n",
       "      <td>1/1/2013 0:00</td>\n",
       "      <td>Low</td>\n",
       "      <td>Risk of Failure to Appear</td>\n",
       "      <td>Low</td>\n",
       "      <td>New</td>\n",
       "    </tr>\n",
       "    <tr>\n",
       "      <th>3</th>\n",
       "      <td>PRETRIAL</td>\n",
       "      <td>KENDALL</td>\n",
       "      <td>KEVIN</td>\n",
       "      <td>Male</td>\n",
       "      <td>Caucasian</td>\n",
       "      <td>9/16/1984</td>\n",
       "      <td>Risk and Prescreen</td>\n",
       "      <td>Intake</td>\n",
       "      <td>English</td>\n",
       "      <td>Pretrial</td>\n",
       "      <td>Jail Inmate</td>\n",
       "      <td>Married</td>\n",
       "      <td>1/1/2013 0:00</td>\n",
       "      <td>Low</td>\n",
       "      <td>Risk of Violence</td>\n",
       "      <td>Low</td>\n",
       "      <td>New</td>\n",
       "    </tr>\n",
       "    <tr>\n",
       "      <th>4</th>\n",
       "      <td>PRETRIAL</td>\n",
       "      <td>KENDALL</td>\n",
       "      <td>KEVIN</td>\n",
       "      <td>Male</td>\n",
       "      <td>Caucasian</td>\n",
       "      <td>9/16/1984</td>\n",
       "      <td>Risk and Prescreen</td>\n",
       "      <td>Intake</td>\n",
       "      <td>English</td>\n",
       "      <td>Pretrial</td>\n",
       "      <td>Jail Inmate</td>\n",
       "      <td>Married</td>\n",
       "      <td>1/1/2013 0:00</td>\n",
       "      <td>Low</td>\n",
       "      <td>Risk of Recidivism</td>\n",
       "      <td>Low</td>\n",
       "      <td>New</td>\n",
       "    </tr>\n",
       "  </tbody>\n",
       "</table>\n",
       "</div>"
      ],
      "text/plain": [
       "  Agency_Text LastName FirstName Sex_Code_Text Ethnic_Code_Text DateOfBirth  \\\n",
       "0    PRETRIAL   Fisher     Kevin          Male        Caucasian   12/5/1992   \n",
       "1    PRETRIAL   Fisher     Kevin          Male        Caucasian   12/5/1992   \n",
       "2    PRETRIAL   Fisher     Kevin          Male        Caucasian   12/5/1992   \n",
       "3    PRETRIAL  KENDALL     KEVIN          Male        Caucasian   9/16/1984   \n",
       "4    PRETRIAL  KENDALL     KEVIN          Male        Caucasian   9/16/1984   \n",
       "\n",
       "             ScaleSet AssessmentReason Language LegalStatus CustodyStatus  \\\n",
       "0  Risk and Prescreen           Intake  English    Pretrial   Jail Inmate   \n",
       "1  Risk and Prescreen           Intake  English    Pretrial   Jail Inmate   \n",
       "2  Risk and Prescreen           Intake  English    Pretrial   Jail Inmate   \n",
       "3  Risk and Prescreen           Intake  English    Pretrial   Jail Inmate   \n",
       "4  Risk and Prescreen           Intake  English    Pretrial   Jail Inmate   \n",
       "\n",
       "  MaritalStatus Screening_Date RecSupervisionLevelText  \\\n",
       "0        Single  1/1/2013 0:00                     Low   \n",
       "1        Single  1/1/2013 0:00                     Low   \n",
       "2        Single  1/1/2013 0:00                     Low   \n",
       "3       Married  1/1/2013 0:00                     Low   \n",
       "4       Married  1/1/2013 0:00                     Low   \n",
       "\n",
       "                 DisplayText ScoreText AssessmentType  \n",
       "0           Risk of Violence       Low            New  \n",
       "1         Risk of Recidivism       Low            New  \n",
       "2  Risk of Failure to Appear       Low            New  \n",
       "3           Risk of Violence       Low            New  \n",
       "4         Risk of Recidivism       Low            New  "
      ]
     },
     "execution_count": 20,
     "metadata": {},
     "output_type": "execute_result"
    }
   ],
   "source": [
    "cat_compas.head()"
   ]
  },
  {
   "cell_type": "code",
   "execution_count": 21,
   "metadata": {},
   "outputs": [],
   "source": [
    "cat_compas = cat_compas.fillna(cat_compas['ScoreText'].value_counts().index[0])"
   ]
  },
  {
   "cell_type": "code",
   "execution_count": 22,
   "metadata": {},
   "outputs": [
    {
     "name": "stdout",
     "output_type": "stream",
     "text": [
      "0\n"
     ]
    }
   ],
   "source": [
    "print(cat_compas.isnull().values.sum())"
   ]
  },
  {
   "cell_type": "code",
   "execution_count": 23,
   "metadata": {},
   "outputs": [],
   "source": [
    "#no NULL values left so now we can move on "
   ]
  },
  {
   "cell_type": "code",
   "execution_count": 24,
   "metadata": {},
   "outputs": [
    {
     "name": "stdout",
     "output_type": "stream",
     "text": [
      "African-American    27018\n",
      "Caucasian           21783\n",
      "Hispanic             8742\n",
      "Other                2592\n",
      "Asian                 324\n",
      "Native American       219\n",
      "Arabic                 75\n",
      "African-Am             51\n",
      "Oriental               39\n",
      "Name: Ethnic_Code_Text, dtype: int64\n"
     ]
    }
   ],
   "source": [
    "print(cat_compas['Ethnic_Code_Text'].value_counts())"
   ]
  },
  {
   "cell_type": "code",
   "execution_count": 25,
   "metadata": {},
   "outputs": [],
   "source": [
    "#combine \"African-American\" and \"African-Am\", also \"Asian\" and \"Oriental\" -problematic yeesh"
   ]
  },
  {
   "cell_type": "code",
   "execution_count": 26,
   "metadata": {},
   "outputs": [],
   "source": [
    "def race (series): \n",
    "    if series == \"African-American\":\n",
    "        return 0\n",
    "    if series == \"Caucasian\": \n",
    "        return 1\n",
    "    if series == \"Hispanic\":\n",
    "        return 2\n",
    "    if series == \"Other\":\n",
    "        return 3\n",
    "    if series == \"Asian\":\n",
    "        return 4\n",
    "    if series == \"Native American\":\n",
    "        return 5\n",
    "    if series == \"Arabic\":\n",
    "        return 6\n",
    "    if series == \"African-Am\":\n",
    "        return 0\n",
    "    if series == \"Oriental\":\n",
    "        return 4\n",
    "    \n",
    "cat_compas['Ethnic_Code_TextR'] = cat_compas['Ethnic_Code_Text'].apply(race)"
   ]
  },
  {
   "cell_type": "code",
   "execution_count": 27,
   "metadata": {
    "scrolled": true
   },
   "outputs": [
    {
     "name": "stdout",
     "output_type": "stream",
     "text": [
      "0    27069\n",
      "1    21783\n",
      "2     8742\n",
      "3     2592\n",
      "4      363\n",
      "5      219\n",
      "6       75\n",
      "Name: Ethnic_Code_TextR, dtype: int64\n"
     ]
    }
   ],
   "source": [
    "print(cat_compas['Ethnic_Code_TextR'].value_counts())"
   ]
  },
  {
   "cell_type": "code",
   "execution_count": 28,
   "metadata": {
    "scrolled": true
   },
   "outputs": [
    {
     "data": {
      "text/html": [
       "<div>\n",
       "<style scoped>\n",
       "    .dataframe tbody tr th:only-of-type {\n",
       "        vertical-align: middle;\n",
       "    }\n",
       "\n",
       "    .dataframe tbody tr th {\n",
       "        vertical-align: top;\n",
       "    }\n",
       "\n",
       "    .dataframe thead th {\n",
       "        text-align: right;\n",
       "    }\n",
       "</style>\n",
       "<table border=\"1\" class=\"dataframe\">\n",
       "  <thead>\n",
       "    <tr style=\"text-align: right;\">\n",
       "      <th></th>\n",
       "      <th>Agency_Text</th>\n",
       "      <th>LastName</th>\n",
       "      <th>FirstName</th>\n",
       "      <th>Sex_Code_Text</th>\n",
       "      <th>Ethnic_Code_Text</th>\n",
       "      <th>DateOfBirth</th>\n",
       "      <th>ScaleSet</th>\n",
       "      <th>AssessmentReason</th>\n",
       "      <th>Language</th>\n",
       "      <th>LegalStatus</th>\n",
       "      <th>CustodyStatus</th>\n",
       "      <th>MaritalStatus</th>\n",
       "      <th>Screening_Date</th>\n",
       "      <th>RecSupervisionLevelText</th>\n",
       "      <th>DisplayText</th>\n",
       "      <th>ScoreText</th>\n",
       "      <th>AssessmentType</th>\n",
       "      <th>Ethnic_Code_TextR</th>\n",
       "    </tr>\n",
       "  </thead>\n",
       "  <tbody>\n",
       "    <tr>\n",
       "      <th>0</th>\n",
       "      <td>PRETRIAL</td>\n",
       "      <td>Fisher</td>\n",
       "      <td>Kevin</td>\n",
       "      <td>Male</td>\n",
       "      <td>Caucasian</td>\n",
       "      <td>12/5/1992</td>\n",
       "      <td>Risk and Prescreen</td>\n",
       "      <td>Intake</td>\n",
       "      <td>English</td>\n",
       "      <td>Pretrial</td>\n",
       "      <td>Jail Inmate</td>\n",
       "      <td>Single</td>\n",
       "      <td>1/1/2013 0:00</td>\n",
       "      <td>Low</td>\n",
       "      <td>Risk of Violence</td>\n",
       "      <td>Low</td>\n",
       "      <td>New</td>\n",
       "      <td>1</td>\n",
       "    </tr>\n",
       "    <tr>\n",
       "      <th>1</th>\n",
       "      <td>PRETRIAL</td>\n",
       "      <td>Fisher</td>\n",
       "      <td>Kevin</td>\n",
       "      <td>Male</td>\n",
       "      <td>Caucasian</td>\n",
       "      <td>12/5/1992</td>\n",
       "      <td>Risk and Prescreen</td>\n",
       "      <td>Intake</td>\n",
       "      <td>English</td>\n",
       "      <td>Pretrial</td>\n",
       "      <td>Jail Inmate</td>\n",
       "      <td>Single</td>\n",
       "      <td>1/1/2013 0:00</td>\n",
       "      <td>Low</td>\n",
       "      <td>Risk of Recidivism</td>\n",
       "      <td>Low</td>\n",
       "      <td>New</td>\n",
       "      <td>1</td>\n",
       "    </tr>\n",
       "    <tr>\n",
       "      <th>2</th>\n",
       "      <td>PRETRIAL</td>\n",
       "      <td>Fisher</td>\n",
       "      <td>Kevin</td>\n",
       "      <td>Male</td>\n",
       "      <td>Caucasian</td>\n",
       "      <td>12/5/1992</td>\n",
       "      <td>Risk and Prescreen</td>\n",
       "      <td>Intake</td>\n",
       "      <td>English</td>\n",
       "      <td>Pretrial</td>\n",
       "      <td>Jail Inmate</td>\n",
       "      <td>Single</td>\n",
       "      <td>1/1/2013 0:00</td>\n",
       "      <td>Low</td>\n",
       "      <td>Risk of Failure to Appear</td>\n",
       "      <td>Low</td>\n",
       "      <td>New</td>\n",
       "      <td>1</td>\n",
       "    </tr>\n",
       "    <tr>\n",
       "      <th>3</th>\n",
       "      <td>PRETRIAL</td>\n",
       "      <td>KENDALL</td>\n",
       "      <td>KEVIN</td>\n",
       "      <td>Male</td>\n",
       "      <td>Caucasian</td>\n",
       "      <td>9/16/1984</td>\n",
       "      <td>Risk and Prescreen</td>\n",
       "      <td>Intake</td>\n",
       "      <td>English</td>\n",
       "      <td>Pretrial</td>\n",
       "      <td>Jail Inmate</td>\n",
       "      <td>Married</td>\n",
       "      <td>1/1/2013 0:00</td>\n",
       "      <td>Low</td>\n",
       "      <td>Risk of Violence</td>\n",
       "      <td>Low</td>\n",
       "      <td>New</td>\n",
       "      <td>1</td>\n",
       "    </tr>\n",
       "    <tr>\n",
       "      <th>4</th>\n",
       "      <td>PRETRIAL</td>\n",
       "      <td>KENDALL</td>\n",
       "      <td>KEVIN</td>\n",
       "      <td>Male</td>\n",
       "      <td>Caucasian</td>\n",
       "      <td>9/16/1984</td>\n",
       "      <td>Risk and Prescreen</td>\n",
       "      <td>Intake</td>\n",
       "      <td>English</td>\n",
       "      <td>Pretrial</td>\n",
       "      <td>Jail Inmate</td>\n",
       "      <td>Married</td>\n",
       "      <td>1/1/2013 0:00</td>\n",
       "      <td>Low</td>\n",
       "      <td>Risk of Recidivism</td>\n",
       "      <td>Low</td>\n",
       "      <td>New</td>\n",
       "      <td>1</td>\n",
       "    </tr>\n",
       "  </tbody>\n",
       "</table>\n",
       "</div>"
      ],
      "text/plain": [
       "  Agency_Text LastName FirstName Sex_Code_Text Ethnic_Code_Text DateOfBirth  \\\n",
       "0    PRETRIAL   Fisher     Kevin          Male        Caucasian   12/5/1992   \n",
       "1    PRETRIAL   Fisher     Kevin          Male        Caucasian   12/5/1992   \n",
       "2    PRETRIAL   Fisher     Kevin          Male        Caucasian   12/5/1992   \n",
       "3    PRETRIAL  KENDALL     KEVIN          Male        Caucasian   9/16/1984   \n",
       "4    PRETRIAL  KENDALL     KEVIN          Male        Caucasian   9/16/1984   \n",
       "\n",
       "             ScaleSet AssessmentReason Language LegalStatus CustodyStatus  \\\n",
       "0  Risk and Prescreen           Intake  English    Pretrial   Jail Inmate   \n",
       "1  Risk and Prescreen           Intake  English    Pretrial   Jail Inmate   \n",
       "2  Risk and Prescreen           Intake  English    Pretrial   Jail Inmate   \n",
       "3  Risk and Prescreen           Intake  English    Pretrial   Jail Inmate   \n",
       "4  Risk and Prescreen           Intake  English    Pretrial   Jail Inmate   \n",
       "\n",
       "  MaritalStatus Screening_Date RecSupervisionLevelText  \\\n",
       "0        Single  1/1/2013 0:00                     Low   \n",
       "1        Single  1/1/2013 0:00                     Low   \n",
       "2        Single  1/1/2013 0:00                     Low   \n",
       "3       Married  1/1/2013 0:00                     Low   \n",
       "4       Married  1/1/2013 0:00                     Low   \n",
       "\n",
       "                 DisplayText ScoreText AssessmentType  Ethnic_Code_TextR  \n",
       "0           Risk of Violence       Low            New                  1  \n",
       "1         Risk of Recidivism       Low            New                  1  \n",
       "2  Risk of Failure to Appear       Low            New                  1  \n",
       "3           Risk of Violence       Low            New                  1  \n",
       "4         Risk of Recidivism       Low            New                  1  "
      ]
     },
     "execution_count": 28,
     "metadata": {},
     "output_type": "execute_result"
    }
   ],
   "source": [
    "cat_compas.head()"
   ]
  },
  {
   "cell_type": "code",
   "execution_count": 29,
   "metadata": {},
   "outputs": [
    {
     "data": {
      "image/png": "[encoded data removed]",
      "text/plain": [
       "<Figure size 432x288 with 1 Axes>"
      ]
     },
     "metadata": {},
     "output_type": "display_data"
    }
   ],
   "source": [
    "%matplotlib inline\n",
    "import seaborn as sns\n",
    "import matplotlib.pyplot as plt\n",
    "ethnicity_count = cat_compas['Ethnic_Code_TextR'].value_counts()\n",
    "sns.set(style=\"darkgrid\")\n",
    "sns.barplot(ethnicity_count.index, ethnicity_count.values, alpha=0.9)\n",
    "plt.title('Frequency Distribution of Ethnicity')\n",
    "plt.ylabel('Number of Occurrences', fontsize=12)\n",
    "plt.xlabel('Ethnic Code', fontsize=12)\n",
    "plt.show()"
   ]
  },
  {
   "cell_type": "code",
   "execution_count": 30,
   "metadata": {},
   "outputs": [],
   "source": [
    "#If nothing else we can see that African Americans are arrested far more frequently than the other races classified in this dataset."
   ]
  },
  {
   "cell_type": "code",
   "execution_count": 31,
   "metadata": {},
   "outputs": [],
   "source": [
    "#recode the rest of the columns"
   ]
  },
  {
   "cell_type": "code",
   "execution_count": 32,
   "metadata": {},
   "outputs": [
    {
     "name": "stdout",
     "output_type": "stream",
     "text": [
      "English    60591\n",
      "Spanish      252\n",
      "Name: Language, dtype: int64\n"
     ]
    }
   ],
   "source": [
    "print(cat_compas['Language'].value_counts())"
   ]
  },
  {
   "cell_type": "code",
   "execution_count": 33,
   "metadata": {},
   "outputs": [],
   "source": [
    "def language (series): \n",
    "    if series == \"English\":\n",
    "        return 0\n",
    "    if series == \"Spanish\": \n",
    "        return 1\n",
    "cat_compas['LanguageR'] = cat_compas['Language'].apply(language)"
   ]
  },
  {
   "cell_type": "code",
   "execution_count": 34,
   "metadata": {},
   "outputs": [
    {
     "name": "stdout",
     "output_type": "stream",
     "text": [
      "Pretrial               37578\n",
      "Post Sentence          18333\n",
      "Other                   4356\n",
      "Conditional Release      420\n",
      "Probation Violator       126\n",
      "Parole Violator           18\n",
      "Deferred Sentencing       12\n",
      "Name: LegalStatus, dtype: int64\n"
     ]
    }
   ],
   "source": [
    "print(cat_compas['LegalStatus'].value_counts())"
   ]
  },
  {
   "cell_type": "code",
   "execution_count": 35,
   "metadata": {},
   "outputs": [],
   "source": [
    "def status (series): \n",
    "    if series == \"Pretrial\":\n",
    "        return 0\n",
    "    if series == \"Post Sentence\": \n",
    "        return 1\n",
    "    if series == \"Other\":\n",
    "        return 2\n",
    "    if series == \"Conditional Release\":\n",
    "        return 3\n",
    "    if series == \"Probation Violator\":\n",
    "        return 4\n",
    "    if series == \"Parole Violator\":\n",
    "        return 5\n",
    "    if series == \"Deferred Sentencing\":\n",
    "        return 6\n",
    "cat_compas['LegalStatusR'] = cat_compas['LegalStatus'].apply(status)"
   ]
  },
  {
   "cell_type": "code",
   "execution_count": 36,
   "metadata": {},
   "outputs": [
    {
     "name": "stdout",
     "output_type": "stream",
     "text": [
      "Jail Inmate            30129\n",
      "Probation              22968\n",
      "Pretrial Defendant      7644\n",
      "Residential Program       66\n",
      "Parole                    21\n",
      "Prison Inmate             15\n",
      "Name: CustodyStatus, dtype: int64\n"
     ]
    }
   ],
   "source": [
    "print(cat_compas['CustodyStatus'].value_counts())"
   ]
  },
  {
   "cell_type": "code",
   "execution_count": 37,
   "metadata": {},
   "outputs": [],
   "source": [
    "def cust (series): \n",
    "    if series == \"Jail Inmate\":\n",
    "        return 0\n",
    "    if series == \"Probation\": \n",
    "        return 1\n",
    "    if series == \"Pretrial Defendant\":\n",
    "        return 2\n",
    "    if series == \"Residential Program\":\n",
    "        return 3\n",
    "    if series == \"Parole\":\n",
    "        return 4\n",
    "    if series == \"Prison Inmate\":\n",
    "        return 5\n",
    "cat_compas['CustodyStatusR'] = cat_compas['CustodyStatus'].apply(cust)"
   ]
  },
  {
   "cell_type": "code",
   "execution_count": 38,
   "metadata": {},
   "outputs": [
    {
     "name": "stdout",
     "output_type": "stream",
     "text": [
      "Single               45126\n",
      "Married               8172\n",
      "Divorced              3879\n",
      "Separated             1803\n",
      "Significant Other     1260\n",
      "Widowed                390\n",
      "Unknown                213\n",
      "Name: MaritalStatus, dtype: int64\n"
     ]
    }
   ],
   "source": [
    "print(cat_compas['MaritalStatus'].value_counts())"
   ]
  },
  {
   "cell_type": "code",
   "execution_count": 39,
   "metadata": {},
   "outputs": [],
   "source": [
    "def love (series): \n",
    "    if series == \"Single\":\n",
    "        return 0\n",
    "    if series == \"Married\": \n",
    "        return 1\n",
    "    if series == \"Divorced\":\n",
    "        return 2\n",
    "    if series == \"Separated\":\n",
    "        return 3\n",
    "    if series == \"Significant Other\":\n",
    "        return 4\n",
    "    if series == \"Widowed\":\n",
    "        return 5\n",
    "    if series == \"Unknown\":\n",
    "        return 6\n",
    "cat_compas['MaritalStatusR'] = cat_compas['MaritalStatus'].apply(love)"
   ]
  },
  {
   "cell_type": "code",
   "execution_count": 40,
   "metadata": {
    "scrolled": true
   },
   "outputs": [
    {
     "name": "stdout",
     "output_type": "stream",
     "text": [
      "Low                                   38472\n",
      "Medium                                10476\n",
      "Medium with Override Consideration     7827\n",
      "High                                   4068\n",
      "Name: RecSupervisionLevelText, dtype: int64\n"
     ]
    }
   ],
   "source": [
    "print(cat_compas['RecSupervisionLevelText'].value_counts())"
   ]
  },
  {
   "cell_type": "code",
   "execution_count": 41,
   "metadata": {},
   "outputs": [
    {
     "name": "stdout",
     "output_type": "stream",
     "text": [
      "Agency_Text                object\n",
      "LastName                   object\n",
      "FirstName                  object\n",
      "Sex_Code_Text              object\n",
      "Ethnic_Code_Text           object\n",
      "DateOfBirth                object\n",
      "ScaleSet                   object\n",
      "AssessmentReason           object\n",
      "Language                   object\n",
      "LegalStatus                object\n",
      "CustodyStatus              object\n",
      "MaritalStatus              object\n",
      "Screening_Date             object\n",
      "RecSupervisionLevelText    object\n",
      "DisplayText                object\n",
      "ScoreText                  object\n",
      "AssessmentType             object\n",
      "Ethnic_Code_TextR           int64\n",
      "LanguageR                   int64\n",
      "LegalStatusR                int64\n",
      "CustodyStatusR              int64\n",
      "MaritalStatusR              int64\n",
      "dtype: object\n"
     ]
    }
   ],
   "source": [
    "print(cat_compas.dtypes)"
   ]
  },
  {
   "cell_type": "code",
   "execution_count": 42,
   "metadata": {},
   "outputs": [
    {
     "name": "stdout",
     "output_type": "stream",
     "text": [
      "Agency_Text                category\n",
      "LastName                   category\n",
      "FirstName                  category\n",
      "Sex_Code_Text              category\n",
      "Ethnic_Code_Text           category\n",
      "DateOfBirth                category\n",
      "ScaleSet                   category\n",
      "AssessmentReason           category\n",
      "Language                   category\n",
      "LegalStatus                category\n",
      "CustodyStatus              category\n",
      "MaritalStatus              category\n",
      "Screening_Date             category\n",
      "RecSupervisionLevelText    category\n",
      "DisplayText                category\n",
      "ScoreText                  category\n",
      "AssessmentType             category\n",
      "Ethnic_Code_TextR             int64\n",
      "LanguageR                     int64\n",
      "LegalStatusR                  int64\n",
      "CustodyStatusR                int64\n",
      "MaritalStatusR                int64\n",
      "dtype: object\n"
     ]
    }
   ],
   "source": [
    "cat_compas['Agency_Text'] = cat_compas['Agency_Text'].astype('category')\n",
    "cat_compas['LastName'] = cat_compas['LastName'].astype('category') \n",
    "cat_compas['FirstName'] = cat_compas['FirstName'].astype('category') \n",
    "cat_compas['Sex_Code_Text'] = cat_compas['Sex_Code_Text'].astype('category') \n",
    "cat_compas['Ethnic_Code_Text'] = cat_compas['Ethnic_Code_Text'].astype('category')\n",
    "cat_compas['DateOfBirth'] = cat_compas['DateOfBirth'].astype('category') \n",
    "cat_compas['ScaleSet'] = cat_compas['ScaleSet'].astype('category') \n",
    "cat_compas['AssessmentReason'] = cat_compas['AssessmentReason'].astype('category') \n",
    "cat_compas['Language'] = cat_compas['Language'].astype('category')\n",
    "cat_compas['LegalStatus'] = cat_compas['LegalStatus'].astype('category') \n",
    "cat_compas['CustodyStatus'] = cat_compas['CustodyStatus'].astype('category') \n",
    "cat_compas['MaritalStatus'] = cat_compas['MaritalStatus'].astype('category') \n",
    "cat_compas['Screening_Date'] = cat_compas['Screening_Date'].astype('category')\n",
    "cat_compas['RecSupervisionLevelText'] = cat_compas['RecSupervisionLevelText'].astype('category') \n",
    "cat_compas['DisplayText'] = cat_compas['DisplayText'].astype('category') \n",
    "cat_compas['ScoreText'] = cat_compas['ScoreText'].astype('category') \n",
    "cat_compas['AssessmentType'] = cat_compas['AssessmentType'].astype('category') \n",
    "\n",
    "print(cat_compas.dtypes)"
   ]
  },
  {
   "cell_type": "code",
   "execution_count": 167,
   "metadata": {
    "scrolled": true
   },
   "outputs": [
    {
     "ename": "AttributeError",
     "evalue": "Can only use .cat accessor with a 'category' dtype",
     "output_type": "error",
     "traceback": [
      "\u001b[1;31m---------------------------------------------------------------------------\u001b[0m",
      "\u001b[1;31mAttributeError\u001b[0m                            Traceback (most recent call last)",
      "\u001b[1;32m<ipython-input-167-2a0012899ecd>\u001b[0m in \u001b[0;36m<module>\u001b[1;34m\u001b[0m\n\u001b[1;32m----> 1\u001b[1;33m \u001b[0mcat_compas\u001b[0m\u001b[1;33m[\u001b[0m\u001b[1;34m'RecSupervisionLevelText'\u001b[0m\u001b[1;33m]\u001b[0m \u001b[1;33m=\u001b[0m \u001b[0mcat_compas\u001b[0m\u001b[1;33m[\u001b[0m\u001b[1;34m'RecSupervisionLevelText'\u001b[0m\u001b[1;33m]\u001b[0m\u001b[1;33m.\u001b[0m\u001b[0mcat\u001b[0m\u001b[1;33m.\u001b[0m\u001b[0mcodes\u001b[0m\u001b[1;33m\u001b[0m\u001b[1;33m\u001b[0m\u001b[0m\n\u001b[0m",
      "\u001b[1;32m~\\anaconda3\\lib\\site-packages\\pandas\\core\\generic.py\u001b[0m in \u001b[0;36m__getattr__\u001b[1;34m(self, name)\u001b[0m\n\u001b[0;32m   5268\u001b[0m             \u001b[1;32mor\u001b[0m \u001b[0mname\u001b[0m \u001b[1;32min\u001b[0m \u001b[0mself\u001b[0m\u001b[1;33m.\u001b[0m\u001b[0m_accessors\u001b[0m\u001b[1;33m\u001b[0m\u001b[1;33m\u001b[0m\u001b[0m\n\u001b[0;32m   5269\u001b[0m         ):\n\u001b[1;32m-> 5270\u001b[1;33m             \u001b[1;32mreturn\u001b[0m \u001b[0mobject\u001b[0m\u001b[1;33m.\u001b[0m\u001b[0m__getattribute__\u001b[0m\u001b[1;33m(\u001b[0m\u001b[0mself\u001b[0m\u001b[1;33m,\u001b[0m \u001b[0mname\u001b[0m\u001b[1;33m)\u001b[0m\u001b[1;33m\u001b[0m\u001b[1;33m\u001b[0m\u001b[0m\n\u001b[0m\u001b[0;32m   5271\u001b[0m         \u001b[1;32melse\u001b[0m\u001b[1;33m:\u001b[0m\u001b[1;33m\u001b[0m\u001b[1;33m\u001b[0m\u001b[0m\n\u001b[0;32m   5272\u001b[0m             \u001b[1;32mif\u001b[0m \u001b[0mself\u001b[0m\u001b[1;33m.\u001b[0m\u001b[0m_info_axis\u001b[0m\u001b[1;33m.\u001b[0m\u001b[0m_can_hold_identifiers_and_holds_name\u001b[0m\u001b[1;33m(\u001b[0m\u001b[0mname\u001b[0m\u001b[1;33m)\u001b[0m\u001b[1;33m:\u001b[0m\u001b[1;33m\u001b[0m\u001b[1;33m\u001b[0m\u001b[0m\n",
      "\u001b[1;32m~\\anaconda3\\lib\\site-packages\\pandas\\core\\accessor.py\u001b[0m in \u001b[0;36m__get__\u001b[1;34m(self, obj, cls)\u001b[0m\n\u001b[0;32m    185\u001b[0m             \u001b[1;31m# we're accessing the attribute of the class, i.e., Dataset.geo\u001b[0m\u001b[1;33m\u001b[0m\u001b[1;33m\u001b[0m\u001b[1;33m\u001b[0m\u001b[0m\n\u001b[0;32m    186\u001b[0m             \u001b[1;32mreturn\u001b[0m \u001b[0mself\u001b[0m\u001b[1;33m.\u001b[0m\u001b[0m_accessor\u001b[0m\u001b[1;33m\u001b[0m\u001b[1;33m\u001b[0m\u001b[0m\n\u001b[1;32m--> 187\u001b[1;33m         \u001b[0maccessor_obj\u001b[0m \u001b[1;33m=\u001b[0m \u001b[0mself\u001b[0m\u001b[1;33m.\u001b[0m\u001b[0m_accessor\u001b[0m\u001b[1;33m(\u001b[0m\u001b[0mobj\u001b[0m\u001b[1;33m)\u001b[0m\u001b[1;33m\u001b[0m\u001b[1;33m\u001b[0m\u001b[0m\n\u001b[0m\u001b[0;32m    188\u001b[0m         \u001b[1;31m# Replace the property with the accessor object. Inspired by:\u001b[0m\u001b[1;33m\u001b[0m\u001b[1;33m\u001b[0m\u001b[1;33m\u001b[0m\u001b[0m\n\u001b[0;32m    189\u001b[0m         \u001b[1;31m# http://www.pydanny.com/cached-property.html\u001b[0m\u001b[1;33m\u001b[0m\u001b[1;33m\u001b[0m\u001b[1;33m\u001b[0m\u001b[0m\n",
      "\u001b[1;32m~\\anaconda3\\lib\\site-packages\\pandas\\core\\arrays\\categorical.py\u001b[0m in \u001b[0;36m__init__\u001b[1;34m(self, data)\u001b[0m\n\u001b[0;32m   2510\u001b[0m \u001b[1;33m\u001b[0m\u001b[0m\n\u001b[0;32m   2511\u001b[0m     \u001b[1;32mdef\u001b[0m \u001b[0m__init__\u001b[0m\u001b[1;33m(\u001b[0m\u001b[0mself\u001b[0m\u001b[1;33m,\u001b[0m \u001b[0mdata\u001b[0m\u001b[1;33m)\u001b[0m\u001b[1;33m:\u001b[0m\u001b[1;33m\u001b[0m\u001b[1;33m\u001b[0m\u001b[0m\n\u001b[1;32m-> 2512\u001b[1;33m         \u001b[0mself\u001b[0m\u001b[1;33m.\u001b[0m\u001b[0m_validate\u001b[0m\u001b[1;33m(\u001b[0m\u001b[0mdata\u001b[0m\u001b[1;33m)\u001b[0m\u001b[1;33m\u001b[0m\u001b[1;33m\u001b[0m\u001b[0m\n\u001b[0m\u001b[0;32m   2513\u001b[0m         \u001b[0mself\u001b[0m\u001b[1;33m.\u001b[0m\u001b[0m_parent\u001b[0m \u001b[1;33m=\u001b[0m \u001b[0mdata\u001b[0m\u001b[1;33m.\u001b[0m\u001b[0mvalues\u001b[0m\u001b[1;33m\u001b[0m\u001b[1;33m\u001b[0m\u001b[0m\n\u001b[0;32m   2514\u001b[0m         \u001b[0mself\u001b[0m\u001b[1;33m.\u001b[0m\u001b[0m_index\u001b[0m \u001b[1;33m=\u001b[0m \u001b[0mdata\u001b[0m\u001b[1;33m.\u001b[0m\u001b[0mindex\u001b[0m\u001b[1;33m\u001b[0m\u001b[1;33m\u001b[0m\u001b[0m\n",
      "\u001b[1;32m~\\anaconda3\\lib\\site-packages\\pandas\\core\\arrays\\categorical.py\u001b[0m in \u001b[0;36m_validate\u001b[1;34m(data)\u001b[0m\n\u001b[0;32m   2519\u001b[0m     \u001b[1;32mdef\u001b[0m \u001b[0m_validate\u001b[0m\u001b[1;33m(\u001b[0m\u001b[0mdata\u001b[0m\u001b[1;33m)\u001b[0m\u001b[1;33m:\u001b[0m\u001b[1;33m\u001b[0m\u001b[1;33m\u001b[0m\u001b[0m\n\u001b[0;32m   2520\u001b[0m         \u001b[1;32mif\u001b[0m \u001b[1;32mnot\u001b[0m \u001b[0mis_categorical_dtype\u001b[0m\u001b[1;33m(\u001b[0m\u001b[0mdata\u001b[0m\u001b[1;33m.\u001b[0m\u001b[0mdtype\u001b[0m\u001b[1;33m)\u001b[0m\u001b[1;33m:\u001b[0m\u001b[1;33m\u001b[0m\u001b[1;33m\u001b[0m\u001b[0m\n\u001b[1;32m-> 2521\u001b[1;33m             \u001b[1;32mraise\u001b[0m \u001b[0mAttributeError\u001b[0m\u001b[1;33m(\u001b[0m\u001b[1;34m\"Can only use .cat accessor with a 'category' dtype\"\u001b[0m\u001b[1;33m)\u001b[0m\u001b[1;33m\u001b[0m\u001b[1;33m\u001b[0m\u001b[0m\n\u001b[0m\u001b[0;32m   2522\u001b[0m \u001b[1;33m\u001b[0m\u001b[0m\n\u001b[0;32m   2523\u001b[0m     \u001b[1;32mdef\u001b[0m \u001b[0m_delegate_property_get\u001b[0m\u001b[1;33m(\u001b[0m\u001b[0mself\u001b[0m\u001b[1;33m,\u001b[0m \u001b[0mname\u001b[0m\u001b[1;33m)\u001b[0m\u001b[1;33m:\u001b[0m\u001b[1;33m\u001b[0m\u001b[1;33m\u001b[0m\u001b[0m\n",
      "\u001b[1;31mAttributeError\u001b[0m: Can only use .cat accessor with a 'category' dtype"
     ]
    }
   ],
   "source": [
    "cat_compas['RecSupervisionLevelText'] = cat_compas['RecSupervisionLevelText'].cat.codes"
   ]
  },
  {
   "cell_type": "code",
   "execution_count": 44,
   "metadata": {},
   "outputs": [
    {
     "data": {
      "text/html": [
       "<div>\n",
       "<style scoped>\n",
       "    .dataframe tbody tr th:only-of-type {\n",
       "        vertical-align: middle;\n",
       "    }\n",
       "\n",
       "    .dataframe tbody tr th {\n",
       "        vertical-align: top;\n",
       "    }\n",
       "\n",
       "    .dataframe thead th {\n",
       "        text-align: right;\n",
       "    }\n",
       "</style>\n",
       "<table border=\"1\" class=\"dataframe\">\n",
       "  <thead>\n",
       "    <tr style=\"text-align: right;\">\n",
       "      <th></th>\n",
       "      <th>Agency_Text</th>\n",
       "      <th>LastName</th>\n",
       "      <th>FirstName</th>\n",
       "      <th>Sex_Code_Text</th>\n",
       "      <th>Ethnic_Code_Text</th>\n",
       "      <th>DateOfBirth</th>\n",
       "      <th>ScaleSet</th>\n",
       "      <th>AssessmentReason</th>\n",
       "      <th>Language</th>\n",
       "      <th>LegalStatus</th>\n",
       "      <th>...</th>\n",
       "      <th>Screening_Date</th>\n",
       "      <th>RecSupervisionLevelText</th>\n",
       "      <th>DisplayText</th>\n",
       "      <th>ScoreText</th>\n",
       "      <th>AssessmentType</th>\n",
       "      <th>Ethnic_Code_TextR</th>\n",
       "      <th>LanguageR</th>\n",
       "      <th>LegalStatusR</th>\n",
       "      <th>CustodyStatusR</th>\n",
       "      <th>MaritalStatusR</th>\n",
       "    </tr>\n",
       "  </thead>\n",
       "  <tbody>\n",
       "    <tr>\n",
       "      <th>0</th>\n",
       "      <td>PRETRIAL</td>\n",
       "      <td>Fisher</td>\n",
       "      <td>Kevin</td>\n",
       "      <td>Male</td>\n",
       "      <td>Caucasian</td>\n",
       "      <td>12/5/1992</td>\n",
       "      <td>Risk and Prescreen</td>\n",
       "      <td>Intake</td>\n",
       "      <td>English</td>\n",
       "      <td>Pretrial</td>\n",
       "      <td>...</td>\n",
       "      <td>1/1/2013 0:00</td>\n",
       "      <td>1</td>\n",
       "      <td>Risk of Violence</td>\n",
       "      <td>Low</td>\n",
       "      <td>New</td>\n",
       "      <td>1</td>\n",
       "      <td>0</td>\n",
       "      <td>0</td>\n",
       "      <td>0</td>\n",
       "      <td>0</td>\n",
       "    </tr>\n",
       "    <tr>\n",
       "      <th>1</th>\n",
       "      <td>PRETRIAL</td>\n",
       "      <td>Fisher</td>\n",
       "      <td>Kevin</td>\n",
       "      <td>Male</td>\n",
       "      <td>Caucasian</td>\n",
       "      <td>12/5/1992</td>\n",
       "      <td>Risk and Prescreen</td>\n",
       "      <td>Intake</td>\n",
       "      <td>English</td>\n",
       "      <td>Pretrial</td>\n",
       "      <td>...</td>\n",
       "      <td>1/1/2013 0:00</td>\n",
       "      <td>1</td>\n",
       "      <td>Risk of Recidivism</td>\n",
       "      <td>Low</td>\n",
       "      <td>New</td>\n",
       "      <td>1</td>\n",
       "      <td>0</td>\n",
       "      <td>0</td>\n",
       "      <td>0</td>\n",
       "      <td>0</td>\n",
       "    </tr>\n",
       "    <tr>\n",
       "      <th>2</th>\n",
       "      <td>PRETRIAL</td>\n",
       "      <td>Fisher</td>\n",
       "      <td>Kevin</td>\n",
       "      <td>Male</td>\n",
       "      <td>Caucasian</td>\n",
       "      <td>12/5/1992</td>\n",
       "      <td>Risk and Prescreen</td>\n",
       "      <td>Intake</td>\n",
       "      <td>English</td>\n",
       "      <td>Pretrial</td>\n",
       "      <td>...</td>\n",
       "      <td>1/1/2013 0:00</td>\n",
       "      <td>1</td>\n",
       "      <td>Risk of Failure to Appear</td>\n",
       "      <td>Low</td>\n",
       "      <td>New</td>\n",
       "      <td>1</td>\n",
       "      <td>0</td>\n",
       "      <td>0</td>\n",
       "      <td>0</td>\n",
       "      <td>0</td>\n",
       "    </tr>\n",
       "    <tr>\n",
       "      <th>3</th>\n",
       "      <td>PRETRIAL</td>\n",
       "      <td>KENDALL</td>\n",
       "      <td>KEVIN</td>\n",
       "      <td>Male</td>\n",
       "      <td>Caucasian</td>\n",
       "      <td>9/16/1984</td>\n",
       "      <td>Risk and Prescreen</td>\n",
       "      <td>Intake</td>\n",
       "      <td>English</td>\n",
       "      <td>Pretrial</td>\n",
       "      <td>...</td>\n",
       "      <td>1/1/2013 0:00</td>\n",
       "      <td>1</td>\n",
       "      <td>Risk of Violence</td>\n",
       "      <td>Low</td>\n",
       "      <td>New</td>\n",
       "      <td>1</td>\n",
       "      <td>0</td>\n",
       "      <td>0</td>\n",
       "      <td>0</td>\n",
       "      <td>1</td>\n",
       "    </tr>\n",
       "    <tr>\n",
       "      <th>4</th>\n",
       "      <td>PRETRIAL</td>\n",
       "      <td>KENDALL</td>\n",
       "      <td>KEVIN</td>\n",
       "      <td>Male</td>\n",
       "      <td>Caucasian</td>\n",
       "      <td>9/16/1984</td>\n",
       "      <td>Risk and Prescreen</td>\n",
       "      <td>Intake</td>\n",
       "      <td>English</td>\n",
       "      <td>Pretrial</td>\n",
       "      <td>...</td>\n",
       "      <td>1/1/2013 0:00</td>\n",
       "      <td>1</td>\n",
       "      <td>Risk of Recidivism</td>\n",
       "      <td>Low</td>\n",
       "      <td>New</td>\n",
       "      <td>1</td>\n",
       "      <td>0</td>\n",
       "      <td>0</td>\n",
       "      <td>0</td>\n",
       "      <td>1</td>\n",
       "    </tr>\n",
       "  </tbody>\n",
       "</table>\n",
       "<p>5 rows × 22 columns</p>\n",
       "</div>"
      ],
      "text/plain": [
       "  Agency_Text LastName FirstName Sex_Code_Text Ethnic_Code_Text DateOfBirth  \\\n",
       "0    PRETRIAL   Fisher     Kevin          Male        Caucasian   12/5/1992   \n",
       "1    PRETRIAL   Fisher     Kevin          Male        Caucasian   12/5/1992   \n",
       "2    PRETRIAL   Fisher     Kevin          Male        Caucasian   12/5/1992   \n",
       "3    PRETRIAL  KENDALL     KEVIN          Male        Caucasian   9/16/1984   \n",
       "4    PRETRIAL  KENDALL     KEVIN          Male        Caucasian   9/16/1984   \n",
       "\n",
       "             ScaleSet AssessmentReason Language LegalStatus  ...  \\\n",
       "0  Risk and Prescreen           Intake  English    Pretrial  ...   \n",
       "1  Risk and Prescreen           Intake  English    Pretrial  ...   \n",
       "2  Risk and Prescreen           Intake  English    Pretrial  ...   \n",
       "3  Risk and Prescreen           Intake  English    Pretrial  ...   \n",
       "4  Risk and Prescreen           Intake  English    Pretrial  ...   \n",
       "\n",
       "  Screening_Date RecSupervisionLevelText                DisplayText  \\\n",
       "0  1/1/2013 0:00                       1           Risk of Violence   \n",
       "1  1/1/2013 0:00                       1         Risk of Recidivism   \n",
       "2  1/1/2013 0:00                       1  Risk of Failure to Appear   \n",
       "3  1/1/2013 0:00                       1           Risk of Violence   \n",
       "4  1/1/2013 0:00                       1         Risk of Recidivism   \n",
       "\n",
       "   ScoreText AssessmentType Ethnic_Code_TextR LanguageR  LegalStatusR  \\\n",
       "0        Low            New                 1         0             0   \n",
       "1        Low            New                 1         0             0   \n",
       "2        Low            New                 1         0             0   \n",
       "3        Low            New                 1         0             0   \n",
       "4        Low            New                 1         0             0   \n",
       "\n",
       "   CustodyStatusR  MaritalStatusR  \n",
       "0               0               0  \n",
       "1               0               0  \n",
       "2               0               0  \n",
       "3               0               1  \n",
       "4               0               1  \n",
       "\n",
       "[5 rows x 22 columns]"
      ]
     },
     "execution_count": 44,
     "metadata": {},
     "output_type": "execute_result"
    }
   ],
   "source": [
    "cat_compas.head()"
   ]
  },
  {
   "cell_type": "code",
   "execution_count": 45,
   "metadata": {
    "scrolled": true
   },
   "outputs": [
    {
     "data": {
      "text/html": [
       "<div>\n",
       "<style scoped>\n",
       "    .dataframe tbody tr th:only-of-type {\n",
       "        vertical-align: middle;\n",
       "    }\n",
       "\n",
       "    .dataframe tbody tr th {\n",
       "        vertical-align: top;\n",
       "    }\n",
       "\n",
       "    .dataframe thead th {\n",
       "        text-align: right;\n",
       "    }\n",
       "</style>\n",
       "<table border=\"1\" class=\"dataframe\">\n",
       "  <thead>\n",
       "    <tr style=\"text-align: right;\">\n",
       "      <th></th>\n",
       "      <th>Agency_Text</th>\n",
       "      <th>LastName</th>\n",
       "      <th>FirstName</th>\n",
       "      <th>Sex_Code_Text</th>\n",
       "      <th>Ethnic_Code_Text</th>\n",
       "      <th>DateOfBirth</th>\n",
       "      <th>ScaleSet</th>\n",
       "      <th>AssessmentReason</th>\n",
       "      <th>Language</th>\n",
       "      <th>LegalStatus</th>\n",
       "      <th>...</th>\n",
       "      <th>Screening_Date</th>\n",
       "      <th>RecSupervisionLevelText</th>\n",
       "      <th>DisplayText</th>\n",
       "      <th>ScoreText</th>\n",
       "      <th>AssessmentType</th>\n",
       "      <th>Ethnic_Code_TextR</th>\n",
       "      <th>LanguageR</th>\n",
       "      <th>LegalStatusR</th>\n",
       "      <th>CustodyStatusR</th>\n",
       "      <th>MaritalStatusR</th>\n",
       "    </tr>\n",
       "  </thead>\n",
       "  <tbody>\n",
       "    <tr>\n",
       "      <th>0</th>\n",
       "      <td>PRETRIAL</td>\n",
       "      <td>Fisher</td>\n",
       "      <td>Kevin</td>\n",
       "      <td>Male</td>\n",
       "      <td>Caucasian</td>\n",
       "      <td>12/5/1992</td>\n",
       "      <td>Risk and Prescreen</td>\n",
       "      <td>Intake</td>\n",
       "      <td>English</td>\n",
       "      <td>Pretrial</td>\n",
       "      <td>...</td>\n",
       "      <td>1/1/2013 0:00</td>\n",
       "      <td>1</td>\n",
       "      <td>Risk of Violence</td>\n",
       "      <td>1</td>\n",
       "      <td>New</td>\n",
       "      <td>1</td>\n",
       "      <td>0</td>\n",
       "      <td>0</td>\n",
       "      <td>0</td>\n",
       "      <td>0</td>\n",
       "    </tr>\n",
       "    <tr>\n",
       "      <th>1</th>\n",
       "      <td>PRETRIAL</td>\n",
       "      <td>Fisher</td>\n",
       "      <td>Kevin</td>\n",
       "      <td>Male</td>\n",
       "      <td>Caucasian</td>\n",
       "      <td>12/5/1992</td>\n",
       "      <td>Risk and Prescreen</td>\n",
       "      <td>Intake</td>\n",
       "      <td>English</td>\n",
       "      <td>Pretrial</td>\n",
       "      <td>...</td>\n",
       "      <td>1/1/2013 0:00</td>\n",
       "      <td>1</td>\n",
       "      <td>Risk of Recidivism</td>\n",
       "      <td>1</td>\n",
       "      <td>New</td>\n",
       "      <td>1</td>\n",
       "      <td>0</td>\n",
       "      <td>0</td>\n",
       "      <td>0</td>\n",
       "      <td>0</td>\n",
       "    </tr>\n",
       "    <tr>\n",
       "      <th>2</th>\n",
       "      <td>PRETRIAL</td>\n",
       "      <td>Fisher</td>\n",
       "      <td>Kevin</td>\n",
       "      <td>Male</td>\n",
       "      <td>Caucasian</td>\n",
       "      <td>12/5/1992</td>\n",
       "      <td>Risk and Prescreen</td>\n",
       "      <td>Intake</td>\n",
       "      <td>English</td>\n",
       "      <td>Pretrial</td>\n",
       "      <td>...</td>\n",
       "      <td>1/1/2013 0:00</td>\n",
       "      <td>1</td>\n",
       "      <td>Risk of Failure to Appear</td>\n",
       "      <td>1</td>\n",
       "      <td>New</td>\n",
       "      <td>1</td>\n",
       "      <td>0</td>\n",
       "      <td>0</td>\n",
       "      <td>0</td>\n",
       "      <td>0</td>\n",
       "    </tr>\n",
       "    <tr>\n",
       "      <th>3</th>\n",
       "      <td>PRETRIAL</td>\n",
       "      <td>KENDALL</td>\n",
       "      <td>KEVIN</td>\n",
       "      <td>Male</td>\n",
       "      <td>Caucasian</td>\n",
       "      <td>9/16/1984</td>\n",
       "      <td>Risk and Prescreen</td>\n",
       "      <td>Intake</td>\n",
       "      <td>English</td>\n",
       "      <td>Pretrial</td>\n",
       "      <td>...</td>\n",
       "      <td>1/1/2013 0:00</td>\n",
       "      <td>1</td>\n",
       "      <td>Risk of Violence</td>\n",
       "      <td>1</td>\n",
       "      <td>New</td>\n",
       "      <td>1</td>\n",
       "      <td>0</td>\n",
       "      <td>0</td>\n",
       "      <td>0</td>\n",
       "      <td>1</td>\n",
       "    </tr>\n",
       "    <tr>\n",
       "      <th>4</th>\n",
       "      <td>PRETRIAL</td>\n",
       "      <td>KENDALL</td>\n",
       "      <td>KEVIN</td>\n",
       "      <td>Male</td>\n",
       "      <td>Caucasian</td>\n",
       "      <td>9/16/1984</td>\n",
       "      <td>Risk and Prescreen</td>\n",
       "      <td>Intake</td>\n",
       "      <td>English</td>\n",
       "      <td>Pretrial</td>\n",
       "      <td>...</td>\n",
       "      <td>1/1/2013 0:00</td>\n",
       "      <td>1</td>\n",
       "      <td>Risk of Recidivism</td>\n",
       "      <td>1</td>\n",
       "      <td>New</td>\n",
       "      <td>1</td>\n",
       "      <td>0</td>\n",
       "      <td>0</td>\n",
       "      <td>0</td>\n",
       "      <td>1</td>\n",
       "    </tr>\n",
       "  </tbody>\n",
       "</table>\n",
       "<p>5 rows × 22 columns</p>\n",
       "</div>"
      ],
      "text/plain": [
       "  Agency_Text LastName FirstName Sex_Code_Text Ethnic_Code_Text DateOfBirth  \\\n",
       "0    PRETRIAL   Fisher     Kevin          Male        Caucasian   12/5/1992   \n",
       "1    PRETRIAL   Fisher     Kevin          Male        Caucasian   12/5/1992   \n",
       "2    PRETRIAL   Fisher     Kevin          Male        Caucasian   12/5/1992   \n",
       "3    PRETRIAL  KENDALL     KEVIN          Male        Caucasian   9/16/1984   \n",
       "4    PRETRIAL  KENDALL     KEVIN          Male        Caucasian   9/16/1984   \n",
       "\n",
       "             ScaleSet AssessmentReason Language LegalStatus  ...  \\\n",
       "0  Risk and Prescreen           Intake  English    Pretrial  ...   \n",
       "1  Risk and Prescreen           Intake  English    Pretrial  ...   \n",
       "2  Risk and Prescreen           Intake  English    Pretrial  ...   \n",
       "3  Risk and Prescreen           Intake  English    Pretrial  ...   \n",
       "4  Risk and Prescreen           Intake  English    Pretrial  ...   \n",
       "\n",
       "  Screening_Date RecSupervisionLevelText                DisplayText  \\\n",
       "0  1/1/2013 0:00                       1           Risk of Violence   \n",
       "1  1/1/2013 0:00                       1         Risk of Recidivism   \n",
       "2  1/1/2013 0:00                       1  Risk of Failure to Appear   \n",
       "3  1/1/2013 0:00                       1           Risk of Violence   \n",
       "4  1/1/2013 0:00                       1         Risk of Recidivism   \n",
       "\n",
       "   ScoreText AssessmentType  Ethnic_Code_TextR LanguageR  LegalStatusR  \\\n",
       "0          1            New                  1         0             0   \n",
       "1          1            New                  1         0             0   \n",
       "2          1            New                  1         0             0   \n",
       "3          1            New                  1         0             0   \n",
       "4          1            New                  1         0             0   \n",
       "\n",
       "   CustodyStatusR  MaritalStatusR  \n",
       "0               0               0  \n",
       "1               0               0  \n",
       "2               0               0  \n",
       "3               0               1  \n",
       "4               0               1  \n",
       "\n",
       "[5 rows x 22 columns]"
      ]
     },
     "execution_count": 45,
     "metadata": {},
     "output_type": "execute_result"
    }
   ],
   "source": [
    "cat_compas_sklearn = cat_compas.copy()\n",
    "\n",
    "from sklearn.preprocessing import LabelEncoder\n",
    "\n",
    "lb_make = LabelEncoder()\n",
    "cat_compas_sklearn['ScoreText'] = lb_make.fit_transform(cat_compas['ScoreText'])\n",
    "\n",
    "cat_compas_sklearn.head() #Results in appending a new column to df"
   ]
  },
  {
   "cell_type": "code",
   "execution_count": 46,
   "metadata": {},
   "outputs": [],
   "source": [
    "#quick encoding for the remaining categories"
   ]
  },
  {
   "cell_type": "code",
   "execution_count": 47,
   "metadata": {},
   "outputs": [],
   "source": [
    "cat_compas_sklearn['AssessmentType'] = lb_make.fit_transform(cat_compas['AssessmentType'])\n",
    "cat_compas_sklearn['DisplayText'] = lb_make.fit_transform(cat_compas['DisplayText'])\n",
    "cat_compas_sklearn['Screening_Date'] = lb_make.fit_transform(cat_compas['Screening_Date'])\n",
    "cat_compas_sklearn['AssessmentReason'] = lb_make.fit_transform(cat_compas['AssessmentReason'])\n",
    "cat_compas_sklearn['ScaleSet'] = lb_make.fit_transform(cat_compas['ScaleSet'])\n",
    "cat_compas_sklearn['LastName'] = lb_make.fit_transform(cat_compas['LastName'])\n",
    "cat_compas_sklearn['FirstName'] = lb_make.fit_transform(cat_compas['FirstName'])"
   ]
  },
  {
   "cell_type": "code",
   "execution_count": 48,
   "metadata": {},
   "outputs": [
    {
     "data": {
      "text/html": [
       "<div>\n",
       "<style scoped>\n",
       "    .dataframe tbody tr th:only-of-type {\n",
       "        vertical-align: middle;\n",
       "    }\n",
       "\n",
       "    .dataframe tbody tr th {\n",
       "        vertical-align: top;\n",
       "    }\n",
       "\n",
       "    .dataframe thead th {\n",
       "        text-align: right;\n",
       "    }\n",
       "</style>\n",
       "<table border=\"1\" class=\"dataframe\">\n",
       "  <thead>\n",
       "    <tr style=\"text-align: right;\">\n",
       "      <th></th>\n",
       "      <th>Agency_Text</th>\n",
       "      <th>LastName</th>\n",
       "      <th>FirstName</th>\n",
       "      <th>Sex_Code_Text</th>\n",
       "      <th>Ethnic_Code_Text</th>\n",
       "      <th>DateOfBirth</th>\n",
       "      <th>ScaleSet</th>\n",
       "      <th>AssessmentReason</th>\n",
       "      <th>Language</th>\n",
       "      <th>LegalStatus</th>\n",
       "      <th>...</th>\n",
       "      <th>Screening_Date</th>\n",
       "      <th>RecSupervisionLevelText</th>\n",
       "      <th>DisplayText</th>\n",
       "      <th>ScoreText</th>\n",
       "      <th>AssessmentType</th>\n",
       "      <th>Ethnic_Code_TextR</th>\n",
       "      <th>LanguageR</th>\n",
       "      <th>LegalStatusR</th>\n",
       "      <th>CustodyStatusR</th>\n",
       "      <th>MaritalStatusR</th>\n",
       "    </tr>\n",
       "  </thead>\n",
       "  <tbody>\n",
       "    <tr>\n",
       "      <th>0</th>\n",
       "      <td>PRETRIAL</td>\n",
       "      <td>3005</td>\n",
       "      <td>3197</td>\n",
       "      <td>Male</td>\n",
       "      <td>Caucasian</td>\n",
       "      <td>12/5/1992</td>\n",
       "      <td>1</td>\n",
       "      <td>0</td>\n",
       "      <td>English</td>\n",
       "      <td>Pretrial</td>\n",
       "      <td>...</td>\n",
       "      <td>0</td>\n",
       "      <td>1</td>\n",
       "      <td>2</td>\n",
       "      <td>1</td>\n",
       "      <td>1</td>\n",
       "      <td>1</td>\n",
       "      <td>0</td>\n",
       "      <td>0</td>\n",
       "      <td>0</td>\n",
       "      <td>0</td>\n",
       "    </tr>\n",
       "    <tr>\n",
       "      <th>1</th>\n",
       "      <td>PRETRIAL</td>\n",
       "      <td>3005</td>\n",
       "      <td>3197</td>\n",
       "      <td>Male</td>\n",
       "      <td>Caucasian</td>\n",
       "      <td>12/5/1992</td>\n",
       "      <td>1</td>\n",
       "      <td>0</td>\n",
       "      <td>English</td>\n",
       "      <td>Pretrial</td>\n",
       "      <td>...</td>\n",
       "      <td>0</td>\n",
       "      <td>1</td>\n",
       "      <td>1</td>\n",
       "      <td>1</td>\n",
       "      <td>1</td>\n",
       "      <td>1</td>\n",
       "      <td>0</td>\n",
       "      <td>0</td>\n",
       "      <td>0</td>\n",
       "      <td>0</td>\n",
       "    </tr>\n",
       "    <tr>\n",
       "      <th>2</th>\n",
       "      <td>PRETRIAL</td>\n",
       "      <td>3005</td>\n",
       "      <td>3197</td>\n",
       "      <td>Male</td>\n",
       "      <td>Caucasian</td>\n",
       "      <td>12/5/1992</td>\n",
       "      <td>1</td>\n",
       "      <td>0</td>\n",
       "      <td>English</td>\n",
       "      <td>Pretrial</td>\n",
       "      <td>...</td>\n",
       "      <td>0</td>\n",
       "      <td>1</td>\n",
       "      <td>0</td>\n",
       "      <td>1</td>\n",
       "      <td>1</td>\n",
       "      <td>1</td>\n",
       "      <td>0</td>\n",
       "      <td>0</td>\n",
       "      <td>0</td>\n",
       "      <td>0</td>\n",
       "    </tr>\n",
       "    <tr>\n",
       "      <th>3</th>\n",
       "      <td>PRETRIAL</td>\n",
       "      <td>4426</td>\n",
       "      <td>3017</td>\n",
       "      <td>Male</td>\n",
       "      <td>Caucasian</td>\n",
       "      <td>9/16/1984</td>\n",
       "      <td>1</td>\n",
       "      <td>0</td>\n",
       "      <td>English</td>\n",
       "      <td>Pretrial</td>\n",
       "      <td>...</td>\n",
       "      <td>0</td>\n",
       "      <td>1</td>\n",
       "      <td>2</td>\n",
       "      <td>1</td>\n",
       "      <td>1</td>\n",
       "      <td>1</td>\n",
       "      <td>0</td>\n",
       "      <td>0</td>\n",
       "      <td>0</td>\n",
       "      <td>1</td>\n",
       "    </tr>\n",
       "    <tr>\n",
       "      <th>4</th>\n",
       "      <td>PRETRIAL</td>\n",
       "      <td>4426</td>\n",
       "      <td>3017</td>\n",
       "      <td>Male</td>\n",
       "      <td>Caucasian</td>\n",
       "      <td>9/16/1984</td>\n",
       "      <td>1</td>\n",
       "      <td>0</td>\n",
       "      <td>English</td>\n",
       "      <td>Pretrial</td>\n",
       "      <td>...</td>\n",
       "      <td>0</td>\n",
       "      <td>1</td>\n",
       "      <td>1</td>\n",
       "      <td>1</td>\n",
       "      <td>1</td>\n",
       "      <td>1</td>\n",
       "      <td>0</td>\n",
       "      <td>0</td>\n",
       "      <td>0</td>\n",
       "      <td>1</td>\n",
       "    </tr>\n",
       "  </tbody>\n",
       "</table>\n",
       "<p>5 rows × 22 columns</p>\n",
       "</div>"
      ],
      "text/plain": [
       "  Agency_Text  LastName  FirstName Sex_Code_Text Ethnic_Code_Text DateOfBirth  \\\n",
       "0    PRETRIAL      3005       3197          Male        Caucasian   12/5/1992   \n",
       "1    PRETRIAL      3005       3197          Male        Caucasian   12/5/1992   \n",
       "2    PRETRIAL      3005       3197          Male        Caucasian   12/5/1992   \n",
       "3    PRETRIAL      4426       3017          Male        Caucasian   9/16/1984   \n",
       "4    PRETRIAL      4426       3017          Male        Caucasian   9/16/1984   \n",
       "\n",
       "   ScaleSet  AssessmentReason Language LegalStatus  ... Screening_Date  \\\n",
       "0         1                 0  English    Pretrial  ...              0   \n",
       "1         1                 0  English    Pretrial  ...              0   \n",
       "2         1                 0  English    Pretrial  ...              0   \n",
       "3         1                 0  English    Pretrial  ...              0   \n",
       "4         1                 0  English    Pretrial  ...              0   \n",
       "\n",
       "  RecSupervisionLevelText  DisplayText  ScoreText  AssessmentType  \\\n",
       "0                       1            2          1               1   \n",
       "1                       1            1          1               1   \n",
       "2                       1            0          1               1   \n",
       "3                       1            2          1               1   \n",
       "4                       1            1          1               1   \n",
       "\n",
       "   Ethnic_Code_TextR  LanguageR  LegalStatusR  CustodyStatusR  MaritalStatusR  \n",
       "0                  1          0             0               0               0  \n",
       "1                  1          0             0               0               0  \n",
       "2                  1          0             0               0               0  \n",
       "3                  1          0             0               0               1  \n",
       "4                  1          0             0               0               1  \n",
       "\n",
       "[5 rows x 22 columns]"
      ]
     },
     "execution_count": 48,
     "metadata": {},
     "output_type": "execute_result"
    }
   ],
   "source": [
    "cat_compas_sklearn.head()"
   ]
  },
  {
   "cell_type": "code",
   "execution_count": 49,
   "metadata": {},
   "outputs": [],
   "source": [
    "cat_compas_sklearn[\"DateOfBirth\"] = pd.to_datetime(cat_compas_sklearn['DateOfBirth'])"
   ]
  },
  {
   "cell_type": "code",
   "execution_count": 50,
   "metadata": {
    "scrolled": true
   },
   "outputs": [
    {
     "data": {
      "text/html": [
       "<div>\n",
       "<style scoped>\n",
       "    .dataframe tbody tr th:only-of-type {\n",
       "        vertical-align: middle;\n",
       "    }\n",
       "\n",
       "    .dataframe tbody tr th {\n",
       "        vertical-align: top;\n",
       "    }\n",
       "\n",
       "    .dataframe thead th {\n",
       "        text-align: right;\n",
       "    }\n",
       "</style>\n",
       "<table border=\"1\" class=\"dataframe\">\n",
       "  <thead>\n",
       "    <tr style=\"text-align: right;\">\n",
       "      <th></th>\n",
       "      <th>Agency_Text</th>\n",
       "      <th>LastName</th>\n",
       "      <th>FirstName</th>\n",
       "      <th>Sex_Code_Text</th>\n",
       "      <th>Ethnic_Code_Text</th>\n",
       "      <th>DateOfBirth</th>\n",
       "      <th>ScaleSet</th>\n",
       "      <th>AssessmentReason</th>\n",
       "      <th>Language</th>\n",
       "      <th>LegalStatus</th>\n",
       "      <th>...</th>\n",
       "      <th>Screening_Date</th>\n",
       "      <th>RecSupervisionLevelText</th>\n",
       "      <th>DisplayText</th>\n",
       "      <th>ScoreText</th>\n",
       "      <th>AssessmentType</th>\n",
       "      <th>Ethnic_Code_TextR</th>\n",
       "      <th>LanguageR</th>\n",
       "      <th>LegalStatusR</th>\n",
       "      <th>CustodyStatusR</th>\n",
       "      <th>MaritalStatusR</th>\n",
       "    </tr>\n",
       "  </thead>\n",
       "  <tbody>\n",
       "    <tr>\n",
       "      <th>0</th>\n",
       "      <td>PRETRIAL</td>\n",
       "      <td>3005</td>\n",
       "      <td>3197</td>\n",
       "      <td>Male</td>\n",
       "      <td>Caucasian</td>\n",
       "      <td>1992-12-05</td>\n",
       "      <td>1</td>\n",
       "      <td>0</td>\n",
       "      <td>English</td>\n",
       "      <td>Pretrial</td>\n",
       "      <td>...</td>\n",
       "      <td>0</td>\n",
       "      <td>1</td>\n",
       "      <td>2</td>\n",
       "      <td>1</td>\n",
       "      <td>1</td>\n",
       "      <td>1</td>\n",
       "      <td>0</td>\n",
       "      <td>0</td>\n",
       "      <td>0</td>\n",
       "      <td>0</td>\n",
       "    </tr>\n",
       "    <tr>\n",
       "      <th>1</th>\n",
       "      <td>PRETRIAL</td>\n",
       "      <td>3005</td>\n",
       "      <td>3197</td>\n",
       "      <td>Male</td>\n",
       "      <td>Caucasian</td>\n",
       "      <td>1992-12-05</td>\n",
       "      <td>1</td>\n",
       "      <td>0</td>\n",
       "      <td>English</td>\n",
       "      <td>Pretrial</td>\n",
       "      <td>...</td>\n",
       "      <td>0</td>\n",
       "      <td>1</td>\n",
       "      <td>1</td>\n",
       "      <td>1</td>\n",
       "      <td>1</td>\n",
       "      <td>1</td>\n",
       "      <td>0</td>\n",
       "      <td>0</td>\n",
       "      <td>0</td>\n",
       "      <td>0</td>\n",
       "    </tr>\n",
       "    <tr>\n",
       "      <th>2</th>\n",
       "      <td>PRETRIAL</td>\n",
       "      <td>3005</td>\n",
       "      <td>3197</td>\n",
       "      <td>Male</td>\n",
       "      <td>Caucasian</td>\n",
       "      <td>1992-12-05</td>\n",
       "      <td>1</td>\n",
       "      <td>0</td>\n",
       "      <td>English</td>\n",
       "      <td>Pretrial</td>\n",
       "      <td>...</td>\n",
       "      <td>0</td>\n",
       "      <td>1</td>\n",
       "      <td>0</td>\n",
       "      <td>1</td>\n",
       "      <td>1</td>\n",
       "      <td>1</td>\n",
       "      <td>0</td>\n",
       "      <td>0</td>\n",
       "      <td>0</td>\n",
       "      <td>0</td>\n",
       "    </tr>\n",
       "    <tr>\n",
       "      <th>3</th>\n",
       "      <td>PRETRIAL</td>\n",
       "      <td>4426</td>\n",
       "      <td>3017</td>\n",
       "      <td>Male</td>\n",
       "      <td>Caucasian</td>\n",
       "      <td>1984-09-16</td>\n",
       "      <td>1</td>\n",
       "      <td>0</td>\n",
       "      <td>English</td>\n",
       "      <td>Pretrial</td>\n",
       "      <td>...</td>\n",
       "      <td>0</td>\n",
       "      <td>1</td>\n",
       "      <td>2</td>\n",
       "      <td>1</td>\n",
       "      <td>1</td>\n",
       "      <td>1</td>\n",
       "      <td>0</td>\n",
       "      <td>0</td>\n",
       "      <td>0</td>\n",
       "      <td>1</td>\n",
       "    </tr>\n",
       "    <tr>\n",
       "      <th>4</th>\n",
       "      <td>PRETRIAL</td>\n",
       "      <td>4426</td>\n",
       "      <td>3017</td>\n",
       "      <td>Male</td>\n",
       "      <td>Caucasian</td>\n",
       "      <td>1984-09-16</td>\n",
       "      <td>1</td>\n",
       "      <td>0</td>\n",
       "      <td>English</td>\n",
       "      <td>Pretrial</td>\n",
       "      <td>...</td>\n",
       "      <td>0</td>\n",
       "      <td>1</td>\n",
       "      <td>1</td>\n",
       "      <td>1</td>\n",
       "      <td>1</td>\n",
       "      <td>1</td>\n",
       "      <td>0</td>\n",
       "      <td>0</td>\n",
       "      <td>0</td>\n",
       "      <td>1</td>\n",
       "    </tr>\n",
       "  </tbody>\n",
       "</table>\n",
       "<p>5 rows × 22 columns</p>\n",
       "</div>"
      ],
      "text/plain": [
       "  Agency_Text  LastName  FirstName Sex_Code_Text Ethnic_Code_Text DateOfBirth  \\\n",
       "0    PRETRIAL      3005       3197          Male        Caucasian  1992-12-05   \n",
       "1    PRETRIAL      3005       3197          Male        Caucasian  1992-12-05   \n",
       "2    PRETRIAL      3005       3197          Male        Caucasian  1992-12-05   \n",
       "3    PRETRIAL      4426       3017          Male        Caucasian  1984-09-16   \n",
       "4    PRETRIAL      4426       3017          Male        Caucasian  1984-09-16   \n",
       "\n",
       "   ScaleSet  AssessmentReason Language LegalStatus  ... Screening_Date  \\\n",
       "0         1                 0  English    Pretrial  ...              0   \n",
       "1         1                 0  English    Pretrial  ...              0   \n",
       "2         1                 0  English    Pretrial  ...              0   \n",
       "3         1                 0  English    Pretrial  ...              0   \n",
       "4         1                 0  English    Pretrial  ...              0   \n",
       "\n",
       "  RecSupervisionLevelText  DisplayText  ScoreText  AssessmentType  \\\n",
       "0                       1            2          1               1   \n",
       "1                       1            1          1               1   \n",
       "2                       1            0          1               1   \n",
       "3                       1            2          1               1   \n",
       "4                       1            1          1               1   \n",
       "\n",
       "   Ethnic_Code_TextR  LanguageR  LegalStatusR  CustodyStatusR  MaritalStatusR  \n",
       "0                  1          0             0               0               0  \n",
       "1                  1          0             0               0               0  \n",
       "2                  1          0             0               0               0  \n",
       "3                  1          0             0               0               1  \n",
       "4                  1          0             0               0               1  \n",
       "\n",
       "[5 rows x 22 columns]"
      ]
     },
     "execution_count": 50,
     "metadata": {},
     "output_type": "execute_result"
    }
   ],
   "source": [
    "cat_compas_sklearn.head()"
   ]
  },
  {
   "cell_type": "code",
   "execution_count": 51,
   "metadata": {},
   "outputs": [],
   "source": [
    "import matplotlib.pyplot as plt\n",
    "import matplotlib.mlab as mlab\n",
    "import seaborn as sns\n",
    "%matplotlib inline\n",
    "from sklearn.cluster import KMeans\n",
    "from datetime import datetime\n",
    "from datetime import date"
   ]
  },
  {
   "cell_type": "code",
   "execution_count": 52,
   "metadata": {},
   "outputs": [
    {
     "data": {
      "text/plain": [
       "(60843, 22)"
      ]
     },
     "execution_count": 52,
     "metadata": {},
     "output_type": "execute_result"
    }
   ],
   "source": [
    "cat_compas_sklearn.shape"
   ]
  },
  {
   "cell_type": "code",
   "execution_count": 53,
   "metadata": {
    "scrolled": true
   },
   "outputs": [
    {
     "data": {
      "text/plain": [
       "(60843, 28)"
      ]
     },
     "execution_count": 53,
     "metadata": {},
     "output_type": "execute_result"
    }
   ],
   "source": [
    "compas.shape"
   ]
  },
  {
   "cell_type": "code",
   "execution_count": 54,
   "metadata": {},
   "outputs": [],
   "source": [
    "del cat_compas_sklearn['LegalStatus']\n",
    "del cat_compas_sklearn['Language']\n",
    "del cat_compas_sklearn['Ethnic_Code_Text']\n",
    "del cat_compas_sklearn['Sex_Code_Text']\n",
    "del cat_compas_sklearn['Agency_Text']"
   ]
  },
  {
   "cell_type": "code",
   "execution_count": 55,
   "metadata": {},
   "outputs": [
    {
     "data": {
      "text/html": [
       "<div>\n",
       "<style scoped>\n",
       "    .dataframe tbody tr th:only-of-type {\n",
       "        vertical-align: middle;\n",
       "    }\n",
       "\n",
       "    .dataframe tbody tr th {\n",
       "        vertical-align: top;\n",
       "    }\n",
       "\n",
       "    .dataframe thead th {\n",
       "        text-align: right;\n",
       "    }\n",
       "</style>\n",
       "<table border=\"1\" class=\"dataframe\">\n",
       "  <thead>\n",
       "    <tr style=\"text-align: right;\">\n",
       "      <th></th>\n",
       "      <th>LastName</th>\n",
       "      <th>FirstName</th>\n",
       "      <th>DateOfBirth</th>\n",
       "      <th>ScaleSet</th>\n",
       "      <th>AssessmentReason</th>\n",
       "      <th>CustodyStatus</th>\n",
       "      <th>MaritalStatus</th>\n",
       "      <th>Screening_Date</th>\n",
       "      <th>RecSupervisionLevelText</th>\n",
       "      <th>DisplayText</th>\n",
       "      <th>ScoreText</th>\n",
       "      <th>AssessmentType</th>\n",
       "      <th>Ethnic_Code_TextR</th>\n",
       "      <th>LanguageR</th>\n",
       "      <th>LegalStatusR</th>\n",
       "      <th>CustodyStatusR</th>\n",
       "      <th>MaritalStatusR</th>\n",
       "    </tr>\n",
       "  </thead>\n",
       "  <tbody>\n",
       "    <tr>\n",
       "      <th>0</th>\n",
       "      <td>3005</td>\n",
       "      <td>3197</td>\n",
       "      <td>1992-12-05</td>\n",
       "      <td>1</td>\n",
       "      <td>0</td>\n",
       "      <td>Jail Inmate</td>\n",
       "      <td>Single</td>\n",
       "      <td>0</td>\n",
       "      <td>1</td>\n",
       "      <td>2</td>\n",
       "      <td>1</td>\n",
       "      <td>1</td>\n",
       "      <td>1</td>\n",
       "      <td>0</td>\n",
       "      <td>0</td>\n",
       "      <td>0</td>\n",
       "      <td>0</td>\n",
       "    </tr>\n",
       "    <tr>\n",
       "      <th>1</th>\n",
       "      <td>3005</td>\n",
       "      <td>3197</td>\n",
       "      <td>1992-12-05</td>\n",
       "      <td>1</td>\n",
       "      <td>0</td>\n",
       "      <td>Jail Inmate</td>\n",
       "      <td>Single</td>\n",
       "      <td>0</td>\n",
       "      <td>1</td>\n",
       "      <td>1</td>\n",
       "      <td>1</td>\n",
       "      <td>1</td>\n",
       "      <td>1</td>\n",
       "      <td>0</td>\n",
       "      <td>0</td>\n",
       "      <td>0</td>\n",
       "      <td>0</td>\n",
       "    </tr>\n",
       "    <tr>\n",
       "      <th>2</th>\n",
       "      <td>3005</td>\n",
       "      <td>3197</td>\n",
       "      <td>1992-12-05</td>\n",
       "      <td>1</td>\n",
       "      <td>0</td>\n",
       "      <td>Jail Inmate</td>\n",
       "      <td>Single</td>\n",
       "      <td>0</td>\n",
       "      <td>1</td>\n",
       "      <td>0</td>\n",
       "      <td>1</td>\n",
       "      <td>1</td>\n",
       "      <td>1</td>\n",
       "      <td>0</td>\n",
       "      <td>0</td>\n",
       "      <td>0</td>\n",
       "      <td>0</td>\n",
       "    </tr>\n",
       "    <tr>\n",
       "      <th>3</th>\n",
       "      <td>4426</td>\n",
       "      <td>3017</td>\n",
       "      <td>1984-09-16</td>\n",
       "      <td>1</td>\n",
       "      <td>0</td>\n",
       "      <td>Jail Inmate</td>\n",
       "      <td>Married</td>\n",
       "      <td>0</td>\n",
       "      <td>1</td>\n",
       "      <td>2</td>\n",
       "      <td>1</td>\n",
       "      <td>1</td>\n",
       "      <td>1</td>\n",
       "      <td>0</td>\n",
       "      <td>0</td>\n",
       "      <td>0</td>\n",
       "      <td>1</td>\n",
       "    </tr>\n",
       "    <tr>\n",
       "      <th>4</th>\n",
       "      <td>4426</td>\n",
       "      <td>3017</td>\n",
       "      <td>1984-09-16</td>\n",
       "      <td>1</td>\n",
       "      <td>0</td>\n",
       "      <td>Jail Inmate</td>\n",
       "      <td>Married</td>\n",
       "      <td>0</td>\n",
       "      <td>1</td>\n",
       "      <td>1</td>\n",
       "      <td>1</td>\n",
       "      <td>1</td>\n",
       "      <td>1</td>\n",
       "      <td>0</td>\n",
       "      <td>0</td>\n",
       "      <td>0</td>\n",
       "      <td>1</td>\n",
       "    </tr>\n",
       "  </tbody>\n",
       "</table>\n",
       "</div>"
      ],
      "text/plain": [
       "   LastName  FirstName DateOfBirth  ScaleSet  AssessmentReason CustodyStatus  \\\n",
       "0      3005       3197  1992-12-05         1                 0   Jail Inmate   \n",
       "1      3005       3197  1992-12-05         1                 0   Jail Inmate   \n",
       "2      3005       3197  1992-12-05         1                 0   Jail Inmate   \n",
       "3      4426       3017  1984-09-16         1                 0   Jail Inmate   \n",
       "4      4426       3017  1984-09-16         1                 0   Jail Inmate   \n",
       "\n",
       "  MaritalStatus  Screening_Date  RecSupervisionLevelText  DisplayText  \\\n",
       "0        Single               0                        1            2   \n",
       "1        Single               0                        1            1   \n",
       "2        Single               0                        1            0   \n",
       "3       Married               0                        1            2   \n",
       "4       Married               0                        1            1   \n",
       "\n",
       "   ScoreText  AssessmentType  Ethnic_Code_TextR  LanguageR  LegalStatusR  \\\n",
       "0          1               1                  1          0             0   \n",
       "1          1               1                  1          0             0   \n",
       "2          1               1                  1          0             0   \n",
       "3          1               1                  1          0             0   \n",
       "4          1               1                  1          0             0   \n",
       "\n",
       "   CustodyStatusR  MaritalStatusR  \n",
       "0               0               0  \n",
       "1               0               0  \n",
       "2               0               0  \n",
       "3               0               1  \n",
       "4               0               1  "
      ]
     },
     "execution_count": 55,
     "metadata": {},
     "output_type": "execute_result"
    }
   ],
   "source": [
    "cat_compas_sklearn.head()"
   ]
  },
  {
   "cell_type": "code",
   "execution_count": 56,
   "metadata": {},
   "outputs": [],
   "source": [
    "del cat_compas_sklearn['CustodyStatus']\n",
    "del cat_compas_sklearn['MaritalStatus']"
   ]
  },
  {
   "cell_type": "code",
   "execution_count": 57,
   "metadata": {
    "scrolled": true
   },
   "outputs": [
    {
     "data": {
      "text/html": [
       "<div>\n",
       "<style scoped>\n",
       "    .dataframe tbody tr th:only-of-type {\n",
       "        vertical-align: middle;\n",
       "    }\n",
       "\n",
       "    .dataframe tbody tr th {\n",
       "        vertical-align: top;\n",
       "    }\n",
       "\n",
       "    .dataframe thead th {\n",
       "        text-align: right;\n",
       "    }\n",
       "</style>\n",
       "<table border=\"1\" class=\"dataframe\">\n",
       "  <thead>\n",
       "    <tr style=\"text-align: right;\">\n",
       "      <th></th>\n",
       "      <th>LastName</th>\n",
       "      <th>FirstName</th>\n",
       "      <th>DateOfBirth</th>\n",
       "      <th>ScaleSet</th>\n",
       "      <th>AssessmentReason</th>\n",
       "      <th>Screening_Date</th>\n",
       "      <th>RecSupervisionLevelText</th>\n",
       "      <th>DisplayText</th>\n",
       "      <th>ScoreText</th>\n",
       "      <th>AssessmentType</th>\n",
       "      <th>Ethnic_Code_TextR</th>\n",
       "      <th>LanguageR</th>\n",
       "      <th>LegalStatusR</th>\n",
       "      <th>CustodyStatusR</th>\n",
       "      <th>MaritalStatusR</th>\n",
       "    </tr>\n",
       "  </thead>\n",
       "  <tbody>\n",
       "    <tr>\n",
       "      <th>0</th>\n",
       "      <td>3005</td>\n",
       "      <td>3197</td>\n",
       "      <td>1992-12-05</td>\n",
       "      <td>1</td>\n",
       "      <td>0</td>\n",
       "      <td>0</td>\n",
       "      <td>1</td>\n",
       "      <td>2</td>\n",
       "      <td>1</td>\n",
       "      <td>1</td>\n",
       "      <td>1</td>\n",
       "      <td>0</td>\n",
       "      <td>0</td>\n",
       "      <td>0</td>\n",
       "      <td>0</td>\n",
       "    </tr>\n",
       "    <tr>\n",
       "      <th>1</th>\n",
       "      <td>3005</td>\n",
       "      <td>3197</td>\n",
       "      <td>1992-12-05</td>\n",
       "      <td>1</td>\n",
       "      <td>0</td>\n",
       "      <td>0</td>\n",
       "      <td>1</td>\n",
       "      <td>1</td>\n",
       "      <td>1</td>\n",
       "      <td>1</td>\n",
       "      <td>1</td>\n",
       "      <td>0</td>\n",
       "      <td>0</td>\n",
       "      <td>0</td>\n",
       "      <td>0</td>\n",
       "    </tr>\n",
       "    <tr>\n",
       "      <th>2</th>\n",
       "      <td>3005</td>\n",
       "      <td>3197</td>\n",
       "      <td>1992-12-05</td>\n",
       "      <td>1</td>\n",
       "      <td>0</td>\n",
       "      <td>0</td>\n",
       "      <td>1</td>\n",
       "      <td>0</td>\n",
       "      <td>1</td>\n",
       "      <td>1</td>\n",
       "      <td>1</td>\n",
       "      <td>0</td>\n",
       "      <td>0</td>\n",
       "      <td>0</td>\n",
       "      <td>0</td>\n",
       "    </tr>\n",
       "    <tr>\n",
       "      <th>3</th>\n",
       "      <td>4426</td>\n",
       "      <td>3017</td>\n",
       "      <td>1984-09-16</td>\n",
       "      <td>1</td>\n",
       "      <td>0</td>\n",
       "      <td>0</td>\n",
       "      <td>1</td>\n",
       "      <td>2</td>\n",
       "      <td>1</td>\n",
       "      <td>1</td>\n",
       "      <td>1</td>\n",
       "      <td>0</td>\n",
       "      <td>0</td>\n",
       "      <td>0</td>\n",
       "      <td>1</td>\n",
       "    </tr>\n",
       "    <tr>\n",
       "      <th>4</th>\n",
       "      <td>4426</td>\n",
       "      <td>3017</td>\n",
       "      <td>1984-09-16</td>\n",
       "      <td>1</td>\n",
       "      <td>0</td>\n",
       "      <td>0</td>\n",
       "      <td>1</td>\n",
       "      <td>1</td>\n",
       "      <td>1</td>\n",
       "      <td>1</td>\n",
       "      <td>1</td>\n",
       "      <td>0</td>\n",
       "      <td>0</td>\n",
       "      <td>0</td>\n",
       "      <td>1</td>\n",
       "    </tr>\n",
       "  </tbody>\n",
       "</table>\n",
       "</div>"
      ],
      "text/plain": [
       "   LastName  FirstName DateOfBirth  ScaleSet  AssessmentReason  \\\n",
       "0      3005       3197  1992-12-05         1                 0   \n",
       "1      3005       3197  1992-12-05         1                 0   \n",
       "2      3005       3197  1992-12-05         1                 0   \n",
       "3      4426       3017  1984-09-16         1                 0   \n",
       "4      4426       3017  1984-09-16         1                 0   \n",
       "\n",
       "   Screening_Date  RecSupervisionLevelText  DisplayText  ScoreText  \\\n",
       "0               0                        1            2          1   \n",
       "1               0                        1            1          1   \n",
       "2               0                        1            0          1   \n",
       "3               0                        1            2          1   \n",
       "4               0                        1            1          1   \n",
       "\n",
       "   AssessmentType  Ethnic_Code_TextR  LanguageR  LegalStatusR  CustodyStatusR  \\\n",
       "0               1                  1          0             0               0   \n",
       "1               1                  1          0             0               0   \n",
       "2               1                  1          0             0               0   \n",
       "3               1                  1          0             0               0   \n",
       "4               1                  1          0             0               0   \n",
       "\n",
       "   MaritalStatusR  \n",
       "0               0  \n",
       "1               0  \n",
       "2               0  \n",
       "3               1  \n",
       "4               1  "
      ]
     },
     "execution_count": 57,
     "metadata": {},
     "output_type": "execute_result"
    }
   ],
   "source": [
    "cat_compas_sklearn.head()"
   ]
  },
  {
   "cell_type": "code",
   "execution_count": 58,
   "metadata": {},
   "outputs": [
    {
     "data": {
      "text/plain": [
       "(60843, 15)"
      ]
     },
     "execution_count": 58,
     "metadata": {},
     "output_type": "execute_result"
    }
   ],
   "source": [
    "cat_compas_sklearn.shape"
   ]
  },
  {
   "cell_type": "markdown",
   "metadata": {},
   "source": [
    "Merge compas dataset with cat_compas_sklearn"
   ]
  },
  {
   "cell_type": "code",
   "execution_count": 59,
   "metadata": {
    "scrolled": false
   },
   "outputs": [],
   "source": [
    "compas_concat = pd.concat([compas, cat_compas_sklearn], axis=1)"
   ]
  },
  {
   "cell_type": "code",
   "execution_count": 60,
   "metadata": {
    "scrolled": true
   },
   "outputs": [
    {
     "data": {
      "text/html": [
       "<div>\n",
       "<style scoped>\n",
       "    .dataframe tbody tr th:only-of-type {\n",
       "        vertical-align: middle;\n",
       "    }\n",
       "\n",
       "    .dataframe tbody tr th {\n",
       "        vertical-align: top;\n",
       "    }\n",
       "\n",
       "    .dataframe thead th {\n",
       "        text-align: right;\n",
       "    }\n",
       "</style>\n",
       "<table border=\"1\" class=\"dataframe\">\n",
       "  <thead>\n",
       "    <tr style=\"text-align: right;\">\n",
       "      <th></th>\n",
       "      <th>Person_ID</th>\n",
       "      <th>AssessmentID</th>\n",
       "      <th>Case_ID</th>\n",
       "      <th>Agency_Text</th>\n",
       "      <th>LastName</th>\n",
       "      <th>FirstName</th>\n",
       "      <th>MiddleName</th>\n",
       "      <th>Sex_Code_Text</th>\n",
       "      <th>Ethnic_Code_Text</th>\n",
       "      <th>DateOfBirth</th>\n",
       "      <th>...</th>\n",
       "      <th>Screening_Date</th>\n",
       "      <th>RecSupervisionLevelText</th>\n",
       "      <th>DisplayText</th>\n",
       "      <th>ScoreText</th>\n",
       "      <th>AssessmentType</th>\n",
       "      <th>Ethnic_Code_TextR</th>\n",
       "      <th>LanguageR</th>\n",
       "      <th>LegalStatusR</th>\n",
       "      <th>CustodyStatusR</th>\n",
       "      <th>MaritalStatusR</th>\n",
       "    </tr>\n",
       "  </thead>\n",
       "  <tbody>\n",
       "    <tr>\n",
       "      <th>0</th>\n",
       "      <td>50844</td>\n",
       "      <td>57167</td>\n",
       "      <td>51950</td>\n",
       "      <td>PRETRIAL</td>\n",
       "      <td>Fisher</td>\n",
       "      <td>Kevin</td>\n",
       "      <td>NaN</td>\n",
       "      <td>Male</td>\n",
       "      <td>Caucasian</td>\n",
       "      <td>12/5/1992</td>\n",
       "      <td>...</td>\n",
       "      <td>0</td>\n",
       "      <td>1</td>\n",
       "      <td>2</td>\n",
       "      <td>1</td>\n",
       "      <td>1</td>\n",
       "      <td>1</td>\n",
       "      <td>0</td>\n",
       "      <td>0</td>\n",
       "      <td>0</td>\n",
       "      <td>0</td>\n",
       "    </tr>\n",
       "    <tr>\n",
       "      <th>1</th>\n",
       "      <td>50844</td>\n",
       "      <td>57167</td>\n",
       "      <td>51950</td>\n",
       "      <td>PRETRIAL</td>\n",
       "      <td>Fisher</td>\n",
       "      <td>Kevin</td>\n",
       "      <td>NaN</td>\n",
       "      <td>Male</td>\n",
       "      <td>Caucasian</td>\n",
       "      <td>12/5/1992</td>\n",
       "      <td>...</td>\n",
       "      <td>0</td>\n",
       "      <td>1</td>\n",
       "      <td>1</td>\n",
       "      <td>1</td>\n",
       "      <td>1</td>\n",
       "      <td>1</td>\n",
       "      <td>0</td>\n",
       "      <td>0</td>\n",
       "      <td>0</td>\n",
       "      <td>0</td>\n",
       "    </tr>\n",
       "    <tr>\n",
       "      <th>2</th>\n",
       "      <td>50844</td>\n",
       "      <td>57167</td>\n",
       "      <td>51950</td>\n",
       "      <td>PRETRIAL</td>\n",
       "      <td>Fisher</td>\n",
       "      <td>Kevin</td>\n",
       "      <td>NaN</td>\n",
       "      <td>Male</td>\n",
       "      <td>Caucasian</td>\n",
       "      <td>12/5/1992</td>\n",
       "      <td>...</td>\n",
       "      <td>0</td>\n",
       "      <td>1</td>\n",
       "      <td>0</td>\n",
       "      <td>1</td>\n",
       "      <td>1</td>\n",
       "      <td>1</td>\n",
       "      <td>0</td>\n",
       "      <td>0</td>\n",
       "      <td>0</td>\n",
       "      <td>0</td>\n",
       "    </tr>\n",
       "    <tr>\n",
       "      <th>3</th>\n",
       "      <td>50848</td>\n",
       "      <td>57174</td>\n",
       "      <td>51956</td>\n",
       "      <td>PRETRIAL</td>\n",
       "      <td>KENDALL</td>\n",
       "      <td>KEVIN</td>\n",
       "      <td>NaN</td>\n",
       "      <td>Male</td>\n",
       "      <td>Caucasian</td>\n",
       "      <td>9/16/1984</td>\n",
       "      <td>...</td>\n",
       "      <td>0</td>\n",
       "      <td>1</td>\n",
       "      <td>2</td>\n",
       "      <td>1</td>\n",
       "      <td>1</td>\n",
       "      <td>1</td>\n",
       "      <td>0</td>\n",
       "      <td>0</td>\n",
       "      <td>0</td>\n",
       "      <td>1</td>\n",
       "    </tr>\n",
       "    <tr>\n",
       "      <th>4</th>\n",
       "      <td>50848</td>\n",
       "      <td>57174</td>\n",
       "      <td>51956</td>\n",
       "      <td>PRETRIAL</td>\n",
       "      <td>KENDALL</td>\n",
       "      <td>KEVIN</td>\n",
       "      <td>NaN</td>\n",
       "      <td>Male</td>\n",
       "      <td>Caucasian</td>\n",
       "      <td>9/16/1984</td>\n",
       "      <td>...</td>\n",
       "      <td>0</td>\n",
       "      <td>1</td>\n",
       "      <td>1</td>\n",
       "      <td>1</td>\n",
       "      <td>1</td>\n",
       "      <td>1</td>\n",
       "      <td>0</td>\n",
       "      <td>0</td>\n",
       "      <td>0</td>\n",
       "      <td>1</td>\n",
       "    </tr>\n",
       "  </tbody>\n",
       "</table>\n",
       "<p>5 rows × 43 columns</p>\n",
       "</div>"
      ],
      "text/plain": [
       "   Person_ID  AssessmentID  Case_ID Agency_Text LastName FirstName MiddleName  \\\n",
       "0      50844         57167    51950    PRETRIAL   Fisher     Kevin        NaN   \n",
       "1      50844         57167    51950    PRETRIAL   Fisher     Kevin        NaN   \n",
       "2      50844         57167    51950    PRETRIAL   Fisher     Kevin        NaN   \n",
       "3      50848         57174    51956    PRETRIAL  KENDALL     KEVIN        NaN   \n",
       "4      50848         57174    51956    PRETRIAL  KENDALL     KEVIN        NaN   \n",
       "\n",
       "  Sex_Code_Text Ethnic_Code_Text DateOfBirth  ...  Screening_Date  \\\n",
       "0          Male        Caucasian   12/5/1992  ...               0   \n",
       "1          Male        Caucasian   12/5/1992  ...               0   \n",
       "2          Male        Caucasian   12/5/1992  ...               0   \n",
       "3          Male        Caucasian   9/16/1984  ...               0   \n",
       "4          Male        Caucasian   9/16/1984  ...               0   \n",
       "\n",
       "  RecSupervisionLevelText DisplayText ScoreText AssessmentType  \\\n",
       "0                       1           2         1              1   \n",
       "1                       1           1         1              1   \n",
       "2                       1           0         1              1   \n",
       "3                       1           2         1              1   \n",
       "4                       1           1         1              1   \n",
       "\n",
       "  Ethnic_Code_TextR LanguageR LegalStatusR  CustodyStatusR MaritalStatusR  \n",
       "0                 1         0            0               0              0  \n",
       "1                 1         0            0               0              0  \n",
       "2                 1         0            0               0              0  \n",
       "3                 1         0            0               0              1  \n",
       "4                 1         0            0               0              1  \n",
       "\n",
       "[5 rows x 43 columns]"
      ]
     },
     "execution_count": 60,
     "metadata": {},
     "output_type": "execute_result"
    }
   ],
   "source": [
    "compas_concat.head()"
   ]
  },
  {
   "cell_type": "code",
   "execution_count": 61,
   "metadata": {
    "scrolled": false
   },
   "outputs": [
    {
     "name": "stdout",
     "output_type": "stream",
     "text": [
      "<class 'pandas.core.frame.DataFrame'>\n",
      "RangeIndex: 60843 entries, 0 to 60842\n",
      "Data columns (total 43 columns):\n",
      " #   Column                   Non-Null Count  Dtype   \n",
      "---  ------                   --------------  -----   \n",
      " 0   Person_ID                60843 non-null  int64   \n",
      " 1   AssessmentID             60843 non-null  int64   \n",
      " 2   Case_ID                  60843 non-null  int64   \n",
      " 3   Agency_Text              60843 non-null  object  \n",
      " 4   LastName                 60843 non-null  object  \n",
      " 5   FirstName                60843 non-null  object  \n",
      " 6   MiddleName               15648 non-null  object  \n",
      " 7   Sex_Code_Text            60843 non-null  object  \n",
      " 8   Ethnic_Code_Text         60843 non-null  object  \n",
      " 9   DateOfBirth              60843 non-null  object  \n",
      " 10  ScaleSet_ID              60843 non-null  int64   \n",
      " 11  ScaleSet                 60843 non-null  object  \n",
      " 12  AssessmentReason         60843 non-null  object  \n",
      " 13  Language                 60843 non-null  object  \n",
      " 14  LegalStatus              60843 non-null  object  \n",
      " 15  CustodyStatus            60843 non-null  object  \n",
      " 16  MaritalStatus            60843 non-null  object  \n",
      " 17  Screening_Date           60843 non-null  object  \n",
      " 18  RecSupervisionLevel      60843 non-null  int64   \n",
      " 19  RecSupervisionLevelText  60843 non-null  object  \n",
      " 20  Scale_ID                 60843 non-null  int64   \n",
      " 21  DisplayText              60843 non-null  object  \n",
      " 22  RawScore                 60843 non-null  float64 \n",
      " 23  DecileScore              60843 non-null  int64   \n",
      " 24  ScoreText                60798 non-null  object  \n",
      " 25  AssessmentType           60843 non-null  object  \n",
      " 26  IsCompleted              60843 non-null  int64   \n",
      " 27  IsDeleted                60843 non-null  int64   \n",
      " 28  LastName                 60843 non-null  int32   \n",
      " 29  FirstName                60843 non-null  int32   \n",
      " 30  DateOfBirth              60843 non-null  category\n",
      " 31  ScaleSet                 60843 non-null  int32   \n",
      " 32  AssessmentReason         60843 non-null  int32   \n",
      " 33  Screening_Date           60843 non-null  int32   \n",
      " 34  RecSupervisionLevelText  60843 non-null  int8    \n",
      " 35  DisplayText              60843 non-null  int32   \n",
      " 36  ScoreText                60843 non-null  int32   \n",
      " 37  AssessmentType           60843 non-null  int32   \n",
      " 38  Ethnic_Code_TextR        60843 non-null  int64   \n",
      " 39  LanguageR                60843 non-null  int64   \n",
      " 40  LegalStatusR             60843 non-null  int64   \n",
      " 41  CustodyStatusR           60843 non-null  int64   \n",
      " 42  MaritalStatusR           60843 non-null  int64   \n",
      "dtypes: category(1), float64(1), int32(8), int64(14), int8(1), object(18)\n",
      "memory usage: 17.7+ MB\n",
      "None\n"
     ]
    }
   ],
   "source": [
    "print(compas_concat.info())"
   ]
  },
  {
   "cell_type": "markdown",
   "metadata": {},
   "source": [
    "get rid of duplicate columns"
   ]
  },
  {
   "cell_type": "code",
   "execution_count": 62,
   "metadata": {},
   "outputs": [],
   "source": [
    "del compas_concat['LastName']\n",
    "del compas_concat['FirstName']\n",
    "del compas_concat['Language']\n",
    "del compas_concat['Ethnic_Code_Text']\n",
    "del compas_concat['Sex_Code_Text']\n",
    "del compas_concat['Agency_Text']\n",
    "del compas_concat['ScaleSet']\n",
    "del compas_concat['AssessmentReason']\n",
    "del compas_concat['CustodyStatus']\n",
    "del compas_concat['MaritalStatus']\n",
    "del compas_concat['Screening_Date']\n",
    "del compas_concat['RecSupervisionLevelText']\n",
    "del compas_concat['DisplayText']\n",
    "del compas_concat['ScoreText']\n",
    "del compas_concat['AssessmentType']\n",
    "del compas_concat['LegalStatus']"
   ]
  },
  {
   "cell_type": "code",
   "execution_count": 63,
   "metadata": {
    "scrolled": true
   },
   "outputs": [
    {
     "name": "stdout",
     "output_type": "stream",
     "text": [
      "<class 'pandas.core.frame.DataFrame'>\n",
      "RangeIndex: 60843 entries, 0 to 60842\n",
      "Data columns (total 18 columns):\n",
      " #   Column               Non-Null Count  Dtype   \n",
      "---  ------               --------------  -----   \n",
      " 0   Person_ID            60843 non-null  int64   \n",
      " 1   AssessmentID         60843 non-null  int64   \n",
      " 2   Case_ID              60843 non-null  int64   \n",
      " 3   MiddleName           15648 non-null  object  \n",
      " 4   DateOfBirth          60843 non-null  object  \n",
      " 5   ScaleSet_ID          60843 non-null  int64   \n",
      " 6   RecSupervisionLevel  60843 non-null  int64   \n",
      " 7   Scale_ID             60843 non-null  int64   \n",
      " 8   RawScore             60843 non-null  float64 \n",
      " 9   DecileScore          60843 non-null  int64   \n",
      " 10  IsCompleted          60843 non-null  int64   \n",
      " 11  IsDeleted            60843 non-null  int64   \n",
      " 12  DateOfBirth          60843 non-null  category\n",
      " 13  Ethnic_Code_TextR    60843 non-null  int64   \n",
      " 14  LanguageR            60843 non-null  int64   \n",
      " 15  LegalStatusR         60843 non-null  int64   \n",
      " 16  CustodyStatusR       60843 non-null  int64   \n",
      " 17  MaritalStatusR       60843 non-null  int64   \n",
      "dtypes: category(1), float64(1), int64(14), object(2)\n",
      "memory usage: 8.4+ MB\n",
      "None\n"
     ]
    }
   ],
   "source": [
    "print(compas_concat.info())"
   ]
  },
  {
   "cell_type": "code",
   "execution_count": 64,
   "metadata": {},
   "outputs": [],
   "source": [
    "compas_concat = compas_concat.loc[:,~compas_concat.columns.duplicated()]"
   ]
  },
  {
   "cell_type": "code",
   "execution_count": 65,
   "metadata": {
    "scrolled": true
   },
   "outputs": [],
   "source": [
    "compas_concat[\"DateOfBirth\"] = pd.to_datetime(compas_concat['DateOfBirth'])"
   ]
  },
  {
   "cell_type": "code",
   "execution_count": 66,
   "metadata": {
    "scrolled": false
   },
   "outputs": [
    {
     "name": "stdout",
     "output_type": "stream",
     "text": [
      "<class 'pandas.core.frame.DataFrame'>\n",
      "RangeIndex: 60843 entries, 0 to 60842\n",
      "Data columns (total 17 columns):\n",
      " #   Column               Non-Null Count  Dtype         \n",
      "---  ------               --------------  -----         \n",
      " 0   Person_ID            60843 non-null  int64         \n",
      " 1   AssessmentID         60843 non-null  int64         \n",
      " 2   Case_ID              60843 non-null  int64         \n",
      " 3   MiddleName           15648 non-null  object        \n",
      " 4   DateOfBirth          60843 non-null  datetime64[ns]\n",
      " 5   ScaleSet_ID          60843 non-null  int64         \n",
      " 6   RecSupervisionLevel  60843 non-null  int64         \n",
      " 7   Scale_ID             60843 non-null  int64         \n",
      " 8   RawScore             60843 non-null  float64       \n",
      " 9   DecileScore          60843 non-null  int64         \n",
      " 10  IsCompleted          60843 non-null  int64         \n",
      " 11  IsDeleted            60843 non-null  int64         \n",
      " 12  Ethnic_Code_TextR    60843 non-null  int64         \n",
      " 13  LanguageR            60843 non-null  int64         \n",
      " 14  LegalStatusR         60843 non-null  int64         \n",
      " 15  CustodyStatusR       60843 non-null  int64         \n",
      " 16  MaritalStatusR       60843 non-null  int64         \n",
      "dtypes: datetime64[ns](1), float64(1), int64(14), object(1)\n",
      "memory usage: 7.9+ MB\n",
      "None\n"
     ]
    }
   ],
   "source": [
    "print(compas_concat.info())"
   ]
  },
  {
   "cell_type": "code",
   "execution_count": 123,
   "metadata": {},
   "outputs": [],
   "source": [
    "compas_concat['DateOfBirth'] = pd.to_datetime(compas_concat['DateOfBirth']).astype(np.int64)"
   ]
  },
  {
   "cell_type": "code",
   "execution_count": null,
   "metadata": {},
   "outputs": [],
   "source": []
  },
  {
   "cell_type": "markdown",
   "metadata": {},
   "source": [
    "## ALL DATA CONVERSIONS NEED TO BE DONE PRIOR TO THIS POINT"
   ]
  },
  {
   "cell_type": "code",
   "execution_count": 124,
   "metadata": {
    "scrolled": true
   },
   "outputs": [],
   "source": [
    "# Import train_test_split function\n",
    "from sklearn.model_selection import train_test_split\n",
    "\n",
    "x=compas_concat[['Person_ID', 'AssessmentID', 'Case_ID', 'DateOfBirth', 'ScaleSet_ID', 'RecSupervisionLevel', 'Scale_ID', 'RawScore', 'IsCompleted', 'IsDeleted', 'Ethnic_Code_TextR', 'LanguageR', 'LegalStatusR', 'CustodyStatusR', 'MaritalStatusR']]  # Features\n",
    "y=compas_concat['DecileScore']  # Labels\n",
    "\n",
    "# Split dataset into training set and test set\n",
    "x_train, x_test, y_train, y_test = train_test_split(x, y, test_size=0.3)\n",
    "# 70% training and 30% test"
   ]
  },
  {
   "cell_type": "code",
   "execution_count": 125,
   "metadata": {
    "scrolled": true
   },
   "outputs": [
    {
     "name": "stdout",
     "output_type": "stream",
     "text": [
      "(42590, 15) (18253, 15)\n"
     ]
    }
   ],
   "source": [
    "print(x_train.shape, x_test.shape)"
   ]
  },
  {
   "cell_type": "code",
   "execution_count": 126,
   "metadata": {},
   "outputs": [],
   "source": [
    "from sklearn.preprocessing import StandardScaler, OneHotEncoder, LabelEncoder\n",
    "from sklearn.compose import ColumnTransformer, make_column_transformer\n",
    "from sklearn.pipeline import make_pipeline\n",
    "from sklearn.linear_model import LogisticRegression"
   ]
  },
  {
   "cell_type": "code",
   "execution_count": 127,
   "metadata": {
    "scrolled": true
   },
   "outputs": [],
   "source": [
    "import pandas as pd\n",
    "from sklearn.linear_model import LinearRegression\n",
    "from sklearn.model_selection import train_test_split\n",
    "import matplotlib.pyplot as plt\n",
    "%matplotlib inline\n",
    "from sklearn import metrics\n",
    "import numpy as np"
   ]
  },
  {
   "cell_type": "code",
   "execution_count": 128,
   "metadata": {},
   "outputs": [
    {
     "data": {
      "image/png": "[encoded data removed]",
      "text/plain": [
       "<Figure size 1440x1080 with 16 Axes>"
      ]
     },
     "metadata": {
      "needs_background": "light"
     },
     "output_type": "display_data"
    }
   ],
   "source": [
    "%matplotlib inline\n",
    "# only in a Jupyter notebook\n",
    "compas_concat.hist(bins=50, figsize=(20,15))\n",
    "plt.show()"
   ]
  },
  {
   "cell_type": "code",
   "execution_count": 129,
   "metadata": {},
   "outputs": [],
   "source": [
    "corr_matrix = compas_concat.corr()"
   ]
  },
  {
   "cell_type": "code",
   "execution_count": 130,
   "metadata": {},
   "outputs": [
    {
     "data": {
      "text/plain": [
       "Ethnic_Code_TextR      1.000000\n",
       "LegalStatusR           0.132454\n",
       "Person_ID              0.124325\n",
       "MaritalStatusR         0.115191\n",
       "Case_ID                0.084052\n",
       "LanguageR              0.081438\n",
       "CustodyStatusR         0.069956\n",
       "ScaleSet_ID            0.047067\n",
       "AssessmentID           0.041093\n",
       "Scale_ID               0.000000\n",
       "RawScore              -0.039254\n",
       "DateOfBirth           -0.112459\n",
       "DecileScore           -0.217456\n",
       "RecSupervisionLevel   -0.246244\n",
       "IsCompleted                 NaN\n",
       "IsDeleted                   NaN\n",
       "Name: Ethnic_Code_TextR, dtype: float64"
      ]
     },
     "execution_count": 130,
     "metadata": {},
     "output_type": "execute_result"
    }
   ],
   "source": [
    "corr_matrix[\"Ethnic_Code_TextR\"].sort_values(ascending=False)"
   ]
  },
  {
   "cell_type": "code",
   "execution_count": 131,
   "metadata": {},
   "outputs": [],
   "source": [
    "#It looks like \"marital status\" may a value worth looking at more closely "
   ]
  },
  {
   "cell_type": "code",
   "execution_count": 132,
   "metadata": {},
   "outputs": [],
   "source": [
    "def split_train_test(data, test_ratio):    \n",
    "    shuffled_indices = np.random.permutation(len(data))    \n",
    "    test_set_size = int(len(data) * test_ratio)    \n",
    "    test_indices = shuffled_indices[:test_set_size]    \n",
    "    train_indices = shuffled_indices[test_set_size:]\n",
    "    return data.iloc[train_indices], data.iloc[test_indices]"
   ]
  },
  {
   "cell_type": "code",
   "execution_count": 133,
   "metadata": {},
   "outputs": [],
   "source": [
    "train_set, test_set = split_train_test(compas_concat, 0.2)"
   ]
  },
  {
   "cell_type": "code",
   "execution_count": 134,
   "metadata": {},
   "outputs": [
    {
     "name": "stdout",
     "output_type": "stream",
     "text": [
      "48675 train + 12168 test\n"
     ]
    }
   ],
   "source": [
    "print(len(train_set), \"train +\", len(test_set), \"test\")"
   ]
  },
  {
   "cell_type": "code",
   "execution_count": 135,
   "metadata": {},
   "outputs": [],
   "source": [
    "from pandas.plotting import scatter_matrix"
   ]
  },
  {
   "cell_type": "markdown",
   "metadata": {},
   "source": [
    "## Use bar charts instead"
   ]
  },
  {
   "cell_type": "code",
   "execution_count": 136,
   "metadata": {
    "scrolled": true
   },
   "outputs": [
    {
     "data": {
      "text/plain": [
       "array([[<matplotlib.axes._subplots.AxesSubplot object at 0x000001A6465EDD08>,\n",
       "        <matplotlib.axes._subplots.AxesSubplot object at 0x000001A6464E5608>,\n",
       "        <matplotlib.axes._subplots.AxesSubplot object at 0x000001A646623048>,\n",
       "        <matplotlib.axes._subplots.AxesSubplot object at 0x000001A646637A48>,\n",
       "        <matplotlib.axes._subplots.AxesSubplot object at 0x000001A64664F448>,\n",
       "        <matplotlib.axes._subplots.AxesSubplot object at 0x000001A646665E08>],\n",
       "       [<matplotlib.axes._subplots.AxesSubplot object at 0x000001A64668E788>,\n",
       "        <matplotlib.axes._subplots.AxesSubplot object at 0x000001A6466C8848>,\n",
       "        <matplotlib.axes._subplots.AxesSubplot object at 0x000001A6466D3408>,\n",
       "        <matplotlib.axes._subplots.AxesSubplot object at 0x000001A64670C5C8>,\n",
       "        <matplotlib.axes._subplots.AxesSubplot object at 0x000001A646771B88>,\n",
       "        <matplotlib.axes._subplots.AxesSubplot object at 0x000001A647089C48>],\n",
       "       [<matplotlib.axes._subplots.AxesSubplot object at 0x000001A6470C1D88>,\n",
       "        <matplotlib.axes._subplots.AxesSubplot object at 0x000001A6470FAEC8>,\n",
       "        <matplotlib.axes._subplots.AxesSubplot object at 0x000001A647133FC8>,\n",
       "        <matplotlib.axes._subplots.AxesSubplot object at 0x000001A64716F108>,\n",
       "        <matplotlib.axes._subplots.AxesSubplot object at 0x000001A6471A7188>,\n",
       "        <matplotlib.axes._subplots.AxesSubplot object at 0x000001A6471DD288>],\n",
       "       [<matplotlib.axes._subplots.AxesSubplot object at 0x000001A647216388>,\n",
       "        <matplotlib.axes._subplots.AxesSubplot object at 0x000001A64724E4C8>,\n",
       "        <matplotlib.axes._subplots.AxesSubplot object at 0x000001A6472875C8>,\n",
       "        <matplotlib.axes._subplots.AxesSubplot object at 0x000001A6476B3E48>,\n",
       "        <matplotlib.axes._subplots.AxesSubplot object at 0x000001A6478887C8>,\n",
       "        <matplotlib.axes._subplots.AxesSubplot object at 0x000001A6478C08C8>],\n",
       "       [<matplotlib.axes._subplots.AxesSubplot object at 0x000001A6478F99C8>,\n",
       "        <matplotlib.axes._subplots.AxesSubplot object at 0x000001A647932B08>,\n",
       "        <matplotlib.axes._subplots.AxesSubplot object at 0x000001A64796AC08>,\n",
       "        <matplotlib.axes._subplots.AxesSubplot object at 0x000001A6479A2C88>,\n",
       "        <matplotlib.axes._subplots.AxesSubplot object at 0x000001A6479DBD88>,\n",
       "        <matplotlib.axes._subplots.AxesSubplot object at 0x000001A647A13EC8>],\n",
       "       [<matplotlib.axes._subplots.AxesSubplot object at 0x000001A647CEAFC8>,\n",
       "        <matplotlib.axes._subplots.AxesSubplot object at 0x000001A64ADDA108>,\n",
       "        <matplotlib.axes._subplots.AxesSubplot object at 0x000001A64AE11208>,\n",
       "        <matplotlib.axes._subplots.AxesSubplot object at 0x000001A64AE48308>,\n",
       "        <matplotlib.axes._subplots.AxesSubplot object at 0x000001A64AE82408>,\n",
       "        <matplotlib.axes._subplots.AxesSubplot object at 0x000001A64CEEC548>]],\n",
       "      dtype=object)"
      ]
     },
     "execution_count": 136,
     "metadata": {},
     "output_type": "execute_result"
    },
    {
     "data": {
      "image/png": "[encoded data removed]",
      "text/plain": [
       "<Figure size 864x576 with 36 Axes>"
      ]
     },
     "metadata": {
      "needs_background": "light"
     },
     "output_type": "display_data"
    }
   ],
   "source": [
    "attributes = [\"Ethnic_Code_TextR\", \"LegalStatusR\", \"MaritalStatusR\", \n",
    "              \"LanguageR\", \"CustodyStatusR\", \"DecileScore\"]\n",
    "scatter_matrix(compas_concat[attributes], figsize=(12,8))"
   ]
  },
  {
   "cell_type": "code",
   "execution_count": 137,
   "metadata": {},
   "outputs": [
    {
     "data": {
      "text/plain": [
       "Ethnic_Code_TextR      1.000000\n",
       "LegalStatusR           0.132454\n",
       "Person_ID              0.124325\n",
       "MaritalStatusR         0.115191\n",
       "Case_ID                0.084052\n",
       "LanguageR              0.081438\n",
       "CustodyStatusR         0.069956\n",
       "ScaleSet_ID            0.047067\n",
       "AssessmentID           0.041093\n",
       "Scale_ID               0.000000\n",
       "RawScore              -0.039254\n",
       "DateOfBirth           -0.112459\n",
       "DecileScore           -0.217456\n",
       "RecSupervisionLevel   -0.246244\n",
       "IsCompleted                 NaN\n",
       "IsDeleted                   NaN\n",
       "Name: Ethnic_Code_TextR, dtype: float64"
      ]
     },
     "execution_count": 137,
     "metadata": {},
     "output_type": "execute_result"
    }
   ],
   "source": [
    "corr_matrix[\"Ethnic_Code_TextR\"].sort_values(ascending=False)"
   ]
  },
  {
   "cell_type": "code",
   "execution_count": 138,
   "metadata": {},
   "outputs": [],
   "source": [
    "# import the regressor \n",
    "from sklearn.tree import DecisionTreeRegressor  "
   ]
  },
  {
   "cell_type": "code",
   "execution_count": 139,
   "metadata": {},
   "outputs": [],
   "source": [
    "#Import Random Forest Model\n",
    "from sklearn.ensemble import RandomForestClassifier"
   ]
  },
  {
   "cell_type": "code",
   "execution_count": 140,
   "metadata": {},
   "outputs": [],
   "source": [
    "x_train, x_test, y_train, y_test = train_test_split(x,y, test_size = .4, random_state=101)"
   ]
  },
  {
   "cell_type": "code",
   "execution_count": 141,
   "metadata": {},
   "outputs": [
    {
     "name": "stdout",
     "output_type": "stream",
     "text": [
      "(36505, 15) (36505,)\n",
      "(24338, 15) (36505,)\n"
     ]
    }
   ],
   "source": [
    "print(x_train.shape, y_train.shape)\n",
    "print(x_test.shape, y_train.shape)"
   ]
  },
  {
   "cell_type": "code",
   "execution_count": 142,
   "metadata": {},
   "outputs": [
    {
     "name": "stdout",
     "output_type": "stream",
     "text": [
      "Requirement already satisfied: shapely in c:\\users\\sjaco\\anaconda3\\lib\\site-packages (1.7.0)\n",
      "Note: you may need to restart the kernel to use updated packages.\n"
     ]
    }
   ],
   "source": [
    "pip install shapely"
   ]
  },
  {
   "cell_type": "code",
   "execution_count": 143,
   "metadata": {},
   "outputs": [
    {
     "name": "stdout",
     "output_type": "stream",
     "text": [
      "Requirement already satisfied: lightgbm in c:\\users\\sjaco\\anaconda3\\lib\\site-packages (2.3.1)\n",
      "Requirement already satisfied: scikit-learn in c:\\users\\sjaco\\anaconda3\\lib\\site-packages (from lightgbm) (0.22.1)\n",
      "Requirement already satisfied: numpy in c:\\users\\sjaco\\anaconda3\\lib\\site-packages (from lightgbm) (1.18.1)\n",
      "Requirement already satisfied: scipy in c:\\users\\sjaco\\anaconda3\\lib\\site-packages (from lightgbm) (1.4.1)\n",
      "Requirement already satisfied: joblib>=0.11 in c:\\users\\sjaco\\anaconda3\\lib\\site-packages (from scikit-learn->lightgbm) (0.14.1)\n",
      "Note: you may need to restart the kernel to use updated packages.\n"
     ]
    }
   ],
   "source": [
    "pip install lightgbm"
   ]
  },
  {
   "cell_type": "code",
   "execution_count": 144,
   "metadata": {},
   "outputs": [],
   "source": [
    "import os\n",
    "\n",
    "import shap\n",
    "import gc\n",
    "\n",
    "from lightgbm import LGBMClassifier\n",
    "import lightgbm as lgb\n",
    "from sklearn.metrics import roc_auc_score, roc_curve\n",
    "from sklearn.model_selection import KFold, StratifiedKFold\n",
    "import matplotlib.pyplot as plt\n",
    "import seaborn as sns\n",
    "import warnings\n",
    "from sklearn.model_selection import train_test_split\n",
    "from sklearn.metrics import accuracy_score, roc_auc_score, confusion_matrix\n",
    "from sklearn.feature_selection import VarianceThreshold\n",
    "warnings.simplefilter(action='ignore', category=FutureWarning)"
   ]
  },
  {
   "cell_type": "code",
   "execution_count": 145,
   "metadata": {},
   "outputs": [],
   "source": [
    "## ----------Dataset for  LightGBM Model  -----------------------\n",
    "train_data=lgb.Dataset(x_train,label=y_train)\n",
    "valid_data=lgb.Dataset(x_test,label=y_test)"
   ]
  },
  {
   "cell_type": "markdown",
   "metadata": {},
   "source": [
    "Verify dataset is what we should be using"
   ]
  },
  {
   "cell_type": "code",
   "execution_count": 146,
   "metadata": {
    "scrolled": true
   },
   "outputs": [
    {
     "name": "stdout",
     "output_type": "stream",
     "text": [
      "Person_ID                int64\n",
      "AssessmentID             int64\n",
      "Case_ID                  int64\n",
      "MiddleName              object\n",
      "DateOfBirth              int64\n",
      "ScaleSet_ID              int64\n",
      "RecSupervisionLevel      int64\n",
      "Scale_ID                 int64\n",
      "RawScore               float64\n",
      "DecileScore              int64\n",
      "IsCompleted              int64\n",
      "IsDeleted                int64\n",
      "Ethnic_Code_TextR        int64\n",
      "LanguageR                int64\n",
      "LegalStatusR             int64\n",
      "CustodyStatusR           int64\n",
      "MaritalStatusR           int64\n",
      "dtype: object\n"
     ]
    }
   ],
   "source": [
    "print(compas_concat.dtypes)"
   ]
  },
  {
   "cell_type": "code",
   "execution_count": 120,
   "metadata": {},
   "outputs": [
    {
     "name": "stdout",
     "output_type": "stream",
     "text": [
      "Person_ID                int64\n",
      "AssessmentID             int64\n",
      "Case_ID                  int64\n",
      "MiddleName              object\n",
      "DateOfBirth              int64\n",
      "ScaleSet_ID              int64\n",
      "RecSupervisionLevel      int64\n",
      "Scale_ID                 int64\n",
      "RawScore               float64\n",
      "DecileScore              int64\n",
      "IsCompleted              int64\n",
      "IsDeleted                int64\n",
      "Ethnic_Code_TextR        int64\n",
      "LanguageR                int64\n",
      "LegalStatusR             int64\n",
      "CustodyStatusR           int64\n",
      "MaritalStatusR           int64\n",
      "dtype: object\n"
     ]
    }
   ],
   "source": [
    "print(compas_concat.dtypes)"
   ]
  },
  {
   "cell_type": "code",
   "execution_count": 147,
   "metadata": {},
   "outputs": [
    {
     "name": "stdout",
     "output_type": "stream",
     "text": [
      "Training until validation scores don't improve for 15 rounds\n",
      "[30]\tvalid_0's auc: 0.596106\n",
      "[60]\tvalid_0's auc: 0.652361\n",
      "[90]\tvalid_0's auc: 0.668344\n",
      "Early stopping, best iteration is:\n",
      "[80]\tvalid_0's auc: 0.668388\n"
     ]
    }
   ],
   "source": [
    "lgbm = lgb.train(params,\n",
    "                 train_data,\n",
    "#                  2500,\n",
    "                 valid_sets=valid_data,\n",
    "                 early_stopping_rounds= 15,\n",
    "                 verbose_eval= 30\n",
    "                 )"
   ]
  },
  {
   "cell_type": "code",
   "execution_count": 165,
   "metadata": {},
   "outputs": [],
   "source": [
    "##this is telling me the accuracy of my training data"
   ]
  },
  {
   "cell_type": "code",
   "execution_count": 166,
   "metadata": {},
   "outputs": [],
   "source": [
    "from sklearn.metrics import roc_auc_score\n",
    "def roc_auc_score_multiclass(actual_class, pred_class, average = \"macro\"):\n",
    "  #creating a set of all the unique classes using the actual class list\n",
    "  unique_class = set(actual_class)\n",
    "  roc_auc_dict = {}\n",
    "  for per_class in unique_class:\n",
    "    #creating a list of all the classes except the current class \n",
    "    other_class = [x for x in unique_class if x != per_class]\n",
    "    #marking the current class as 1 and all other classes as 0\n",
    "    new_actual_class = [0 if x in other_class else 1 for x in actual_class]\n",
    "    new_pred_class = [0 if x in other_class else 1 for x in pred_class]\n",
    "    #using the sklearn metrics method to calculate the roc_auc_score\n",
    "    roc_auc = roc_auc_score(new_actual_class, new_pred_class, average = average)\n",
    "    roc_auc_dict[per_class] = roc_auc\n",
    "  return roc_auc_dict\n",
    "\n",
    "########This is code to address a Multi_Class error I got in the following cell"
   ]
  },
  {
   "cell_type": "code",
   "execution_count": 154,
   "metadata": {
    "scrolled": false
   },
   "outputs": [
    {
     "name": "stdout",
     "output_type": "stream",
     "text": [
      "{1: 0.5, 2: 0.5, 3: 0.5, 4: 0.5, 5: 0.5, 6: 0.5, 7: 0.5, 8: 0.5, 9: 0.5, 10: 0.5, -1: 0.5}\n"
     ]
    }
   ],
   "source": [
    "y_pred = lgbm.predict(x_test)\n",
    "score = roc_auc_score_multiclass(y_test, y_pred)\n",
    "#print(\"Overall AUC on validation (not test!): {:.3f}\" .format(score))\n",
    "print(score)"
   ]
  },
  {
   "cell_type": "code",
   "execution_count": 160,
   "metadata": {},
   "outputs": [],
   "source": [
    "data = compas_concat.drop(['DecileScore', 'MiddleName'],axis=1)"
   ]
  },
  {
   "cell_type": "code",
   "execution_count": 161,
   "metadata": {},
   "outputs": [
    {
     "name": "stdout",
     "output_type": "stream",
     "text": [
      "Wall time: 7.13 s\n"
     ]
    },
    {
     "name": "stderr",
     "output_type": "stream",
     "text": [
      "LightGBM binary classifier with TreeExplainer shap values output has changed to a list of ndarray\n"
     ]
    }
   ],
   "source": [
    "import shap\n",
    "lgbm.params['objective'] = 'binary' ## workaround\n",
    "%time shap_values = shap.TreeExplainer(lgbm).shap_values(data)"
   ]
  },
  {
   "cell_type": "code",
   "execution_count": 168,
   "metadata": {},
   "outputs": [],
   "source": [
    "lm = LinearRegression()"
   ]
  },
  {
   "cell_type": "code",
   "execution_count": 169,
   "metadata": {
    "scrolled": true
   },
   "outputs": [
    {
     "data": {
      "text/plain": [
       "LinearRegression(copy_X=True, fit_intercept=True, n_jobs=None, normalize=False)"
      ]
     },
     "execution_count": 169,
     "metadata": {},
     "output_type": "execute_result"
    }
   ],
   "source": [
    "lm.fit(x_train, y_train)"
   ]
  },
  {
   "cell_type": "code",
   "execution_count": 170,
   "metadata": {},
   "outputs": [
    {
     "data": {
      "image/png": "[encoded data removed]",
      "text/plain": [
       "<Figure size 576x540 with 1 Axes>"
      ]
     },
     "metadata": {
      "needs_background": "light"
     },
     "output_type": "display_data"
    }
   ],
   "source": [
    "shap.summary_plot(shap_values, data)\n"
   ]
  },
  {
   "cell_type": "code",
   "execution_count": 172,
   "metadata": {},
   "outputs": [
    {
     "name": "stdout",
     "output_type": "stream",
     "text": [
      "Wall time: 2.57 s\n"
     ]
    },
    {
     "name": "stderr",
     "output_type": "stream",
     "text": [
      "LightGBM binary classifier with TreeExplainer shap values output has changed to a list of ndarray\n"
     ]
    }
   ],
   "source": [
    "%time shap_values = shap.TreeExplainer(lgbm).shap_values(x_test)"
   ]
  },
  {
   "cell_type": "code",
   "execution_count": 180,
   "metadata": {},
   "outputs": [
    {
     "ename": "AttributeError",
     "evalue": "module 'pandas' has no attribute 'compas_concat'",
     "output_type": "error",
     "traceback": [
      "\u001b[1;31m---------------------------------------------------------------------------\u001b[0m",
      "\u001b[1;31mAttributeError\u001b[0m                            Traceback (most recent call last)",
      "\u001b[1;32m<ipython-input-180-c3d190b23152>\u001b[0m in \u001b[0;36m<module>\u001b[1;34m\u001b[0m\n\u001b[1;32m----> 1\u001b[1;33m \u001b[0mprint\u001b[0m\u001b[1;33m(\u001b[0m\u001b[0mpd\u001b[0m\u001b[1;33m.\u001b[0m\u001b[0mcompas_concat\u001b[0m\u001b[1;33m.\u001b[0m\u001b[0msummary\u001b[0m\u001b[1;33m(\u001b[0m\u001b[1;33m)\u001b[0m\u001b[1;33m)\u001b[0m\u001b[1;33m\u001b[0m\u001b[1;33m\u001b[0m\u001b[0m\n\u001b[0m",
      "\u001b[1;32m~\\anaconda3\\lib\\site-packages\\pandas\\__init__.py\u001b[0m in \u001b[0;36m__getattr__\u001b[1;34m(name)\u001b[0m\n\u001b[0;32m    260\u001b[0m             \u001b[1;32mreturn\u001b[0m \u001b[0m_SparseArray\u001b[0m\u001b[1;33m\u001b[0m\u001b[1;33m\u001b[0m\u001b[0m\n\u001b[0;32m    261\u001b[0m \u001b[1;33m\u001b[0m\u001b[0m\n\u001b[1;32m--> 262\u001b[1;33m         \u001b[1;32mraise\u001b[0m \u001b[0mAttributeError\u001b[0m\u001b[1;33m(\u001b[0m\u001b[1;34mf\"module 'pandas' has no attribute '{name}'\"\u001b[0m\u001b[1;33m)\u001b[0m\u001b[1;33m\u001b[0m\u001b[1;33m\u001b[0m\u001b[0m\n\u001b[0m\u001b[0;32m    263\u001b[0m \u001b[1;33m\u001b[0m\u001b[0m\n\u001b[0;32m    264\u001b[0m \u001b[1;33m\u001b[0m\u001b[0m\n",
      "\u001b[1;31mAttributeError\u001b[0m: module 'pandas' has no attribute 'compas_concat'"
     ]
    }
   ],
   "source": []
  }
 ],
 "metadata": {
  "kernelspec": {
   "display_name": "Python 3",
   "language": "python",
   "name": "python3"
  },
  "language_info": {
   "codemirror_mode": {
    "name": "ipython",
    "version": 3
   },
   "file_extension": ".py",
   "mimetype": "text/x-python",
   "name": "python",
   "nbconvert_exporter": "python",
   "pygments_lexer": "ipython3",
   "version": "3.7.6"
  }
 },
 "nbformat": 4,
 "nbformat_minor": 4
}
