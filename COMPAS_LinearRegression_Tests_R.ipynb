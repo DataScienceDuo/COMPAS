{
 "cells": [
  {
   "cell_type": "code",
   "execution_count": 1,
   "metadata": {},
   "outputs": [
    {
     "name": "stderr",
     "output_type": "stream",
     "text": [
      "Installing package into 'C:/Users/pablo/Documents/R/win-library/3.6'\n",
      "(as 'lib' is unspecified)\n"
     ]
    },
    {
     "name": "stdout",
     "output_type": "stream",
     "text": [
      "package 'caret' successfully unpacked and MD5 sums checked\n",
      "\n",
      "The downloaded binary packages are in\n",
      "\tC:\\Users\\pablo\\AppData\\Local\\Temp\\RtmpW0ev4L\\downloaded_packages\n"
     ]
    },
    {
     "name": "stderr",
     "output_type": "stream",
     "text": [
      "Installing package into 'C:/Users/pablo/Documents/R/win-library/3.6'\n",
      "(as 'lib' is unspecified)\n"
     ]
    },
    {
     "name": "stdout",
     "output_type": "stream",
     "text": [
      "package 'e1071' successfully unpacked and MD5 sums checked\n",
      "\n",
      "The downloaded binary packages are in\n",
      "\tC:\\Users\\pablo\\AppData\\Local\\Temp\\RtmpW0ev4L\\downloaded_packages\n"
     ]
    },
    {
     "name": "stderr",
     "output_type": "stream",
     "text": [
      "Installing package into 'C:/Users/pablo/Documents/R/win-library/3.6'\n",
      "(as 'lib' is unspecified)\n"
     ]
    },
    {
     "name": "stdout",
     "output_type": "stream",
     "text": [
      "package 'predictmeans' successfully unpacked and MD5 sums checked\n",
      "\n",
      "The downloaded binary packages are in\n",
      "\tC:\\Users\\pablo\\AppData\\Local\\Temp\\RtmpW0ev4L\\downloaded_packages\n"
     ]
    },
    {
     "name": "stderr",
     "output_type": "stream",
     "text": [
      "Installing package into 'C:/Users/pablo/Documents/R/win-library/3.6'\n",
      "(as 'lib' is unspecified)\n"
     ]
    },
    {
     "name": "stdout",
     "output_type": "stream",
     "text": [
      "package 'gvlma' successfully unpacked and MD5 sums checked\n",
      "\n",
      "The downloaded binary packages are in\n",
      "\tC:\\Users\\pablo\\AppData\\Local\\Temp\\RtmpW0ev4L\\downloaded_packages\n"
     ]
    },
    {
     "name": "stderr",
     "output_type": "stream",
     "text": [
      "Installing package into 'C:/Users/pablo/Documents/R/win-library/3.6'\n",
      "(as 'lib' is unspecified)\n"
     ]
    },
    {
     "name": "stdout",
     "output_type": "stream",
     "text": [
      "package 'popbio' successfully unpacked and MD5 sums checked\n",
      "\n",
      "The downloaded binary packages are in\n",
      "\tC:\\Users\\pablo\\AppData\\Local\\Temp\\RtmpW0ev4L\\downloaded_packages\n"
     ]
    },
    {
     "name": "stderr",
     "output_type": "stream",
     "text": [
      "Installing package into 'C:/Users/pablo/Documents/R/win-library/3.6'\n",
      "(as 'lib' is unspecified)\n"
     ]
    },
    {
     "name": "stdout",
     "output_type": "stream",
     "text": [
      "package 'anytime' successfully unpacked and MD5 sums checked\n",
      "\n",
      "The downloaded binary packages are in\n",
      "\tC:\\Users\\pablo\\AppData\\Local\\Temp\\RtmpW0ev4L\\downloaded_packages\n"
     ]
    }
   ],
   "source": [
    "install.packages(\"caret\")\n",
    "install.packages(\"e1071\")\n",
    "install.packages(\"predictmeans\")\n",
    "install.packages(\"gvlma\")\n",
    "install.packages(\"popbio\")\n",
    "install.packages(\"anytime\")"
   ]
  },
  {
   "cell_type": "code",
   "execution_count": 2,
   "metadata": {},
   "outputs": [
    {
     "name": "stderr",
     "output_type": "stream",
     "text": [
      "Warning message:\n",
      "\"package 'readr' was built under R version 3.6.2\"Warning message:\n",
      "\"package 'IDPmisc' was built under R version 3.6.2\"Warning message:\n",
      "\"package 'anytime' was built under R version 3.6.3\"Warning message:\n",
      "\"package 'car' was built under R version 3.6.3\"Loading required package: carData\n",
      "Warning message:\n",
      "\"package 'carData' was built under R version 3.6.3\"Warning message:\n",
      "\"package 'caret' was built under R version 3.6.3\"Loading required package: lattice\n",
      "Loading required package: ggplot2\n",
      "Warning message:\n",
      "\"package 'ggplot2' was built under R version 3.6.3\"Warning message:\n",
      "\"package 'predictmeans' was built under R version 3.6.3\"Loading required package: lme4\n",
      "Warning message:\n",
      "\"package 'lme4' was built under R version 3.6.3\"Loading required package: Matrix\n",
      "Registered S3 methods overwritten by 'lme4':\n",
      "  method                          from\n",
      "  cooks.distance.influence.merMod car \n",
      "  influence.merMod                car \n",
      "  dfbeta.influence.merMod         car \n",
      "  dfbetas.influence.merMod        car \n",
      "Loading required package: nlme\n",
      "\n",
      "Attaching package: 'nlme'\n",
      "\n",
      "The following object is masked from 'package:lme4':\n",
      "\n",
      "    lmList\n",
      "\n",
      "Loading required package: parallel\n",
      "Warning message:\n",
      "\"package 'e1071' was built under R version 3.6.3\"Warning message:\n",
      "\"package 'magrittr' was built under R version 3.6.2\"Warning message:\n",
      "\"package 'dplyr' was built under R version 3.6.3\"\n",
      "Attaching package: 'dplyr'\n",
      "\n",
      "The following object is masked from 'package:nlme':\n",
      "\n",
      "    collapse\n",
      "\n",
      "The following object is masked from 'package:car':\n",
      "\n",
      "    recode\n",
      "\n",
      "The following objects are masked from 'package:stats':\n",
      "\n",
      "    filter, lag\n",
      "\n",
      "The following objects are masked from 'package:base':\n",
      "\n",
      "    intersect, setdiff, setequal, union\n",
      "\n",
      "Warning message:\n",
      "\"package 'tidyr' was built under R version 3.6.3\"\n",
      "Attaching package: 'tidyr'\n",
      "\n",
      "The following object is masked from 'package:magrittr':\n",
      "\n",
      "    extract\n",
      "\n",
      "The following objects are masked from 'package:Matrix':\n",
      "\n",
      "    expand, pack, unpack\n",
      "\n",
      "Warning message:\n",
      "\"package 'lmtest' was built under R version 3.6.2\"Loading required package: zoo\n",
      "Warning message:\n",
      "\"package 'zoo' was built under R version 3.6.3\"\n",
      "Attaching package: 'zoo'\n",
      "\n",
      "The following objects are masked from 'package:base':\n",
      "\n",
      "    as.Date, as.Date.numeric\n",
      "\n",
      "Warning message:\n",
      "\"package 'popbio' was built under R version 3.6.2\"\n",
      "Attaching package: 'popbio'\n",
      "\n",
      "The following object is masked from 'package:caret':\n",
      "\n",
      "    sensitivity\n",
      "\n"
     ]
    }
   ],
   "source": [
    "library(\"readr\")\n",
    "library(\"IDPmisc\")\n",
    "library(\"anytime\")\n",
    "library(\"car\")\n",
    "library(\"caret\")\n",
    "library(\"gvlma\")\n",
    "library(\"predictmeans\")\n",
    "library(\"e1071\")\n",
    "library(\"magrittr\")\n",
    "library(\"dplyr\")\n",
    "library(\"tidyr\")\n",
    "library(\"lmtest\")\n",
    "library(\"popbio\")"
   ]
  },
  {
   "cell_type": "code",
   "execution_count": 3,
   "metadata": {},
   "outputs": [
    {
     "name": "stderr",
     "output_type": "stream",
     "text": [
      "Parsed with column specification:\n",
      "cols(\n",
      "  .default = col_character(),\n",
      "  Person_ID = col_double(),\n",
      "  AssessmentID = col_double(),\n",
      "  Case_ID = col_double(),\n",
      "  ScaleSet_ID = col_double(),\n",
      "  RecSupervisionLevel = col_double(),\n",
      "  Scale_ID = col_double(),\n",
      "  RawScore = col_double(),\n",
      "  DecileScore = col_double(),\n",
      "  IsCompleted = col_double(),\n",
      "  IsDeleted = col_double()\n",
      ")\n",
      "See spec(...) for full column specifications.\n",
      "Warning message:\n",
      "\"Duplicated column names deduplicated: 'decile_score' => 'decile_score_1' [40], 'priors_count' => 'priors_count_1' [49]\"Parsed with column specification:\n",
      "cols(\n",
      "  .default = col_character(),\n",
      "  id = col_double(),\n",
      "  age = col_double(),\n",
      "  juv_fel_count = col_double(),\n",
      "  decile_score = col_double(),\n",
      "  juv_misd_count = col_double(),\n",
      "  juv_other_count = col_double(),\n",
      "  priors_count = col_double(),\n",
      "  days_b_screening_arrest = col_double(),\n",
      "  c_days_from_compas = col_double(),\n",
      "  is_recid = col_double(),\n",
      "  r_days_from_arrest = col_double(),\n",
      "  violent_recid = col_logical(),\n",
      "  is_violent_recid = col_double(),\n",
      "  decile_score_1 = col_double(),\n",
      "  v_decile_score = col_double(),\n",
      "  priors_count_1 = col_double(),\n",
      "  start = col_double(),\n",
      "  end = col_double(),\n",
      "  event = col_double()\n",
      ")\n",
      "See spec(...) for full column specifications.\n",
      "Warning message:\n",
      "\"Duplicated column names deduplicated: 'decile_score' => 'decile_score_1' [33], 'priors_count' => 'priors_count_1' [39]\"Parsed with column specification:\n",
      "cols(\n",
      "  .default = col_character(),\n",
      "  id = col_double(),\n",
      "  age = col_double(),\n",
      "  juv_fel_count = col_double(),\n",
      "  decile_score = col_double(),\n",
      "  juv_misd_count = col_double(),\n",
      "  juv_other_count = col_double(),\n",
      "  priors_count = col_double(),\n",
      "  days_b_screening_arrest = col_double(),\n",
      "  c_days_from_compas = col_double(),\n",
      "  is_recid = col_double(),\n",
      "  r_days_from_arrest = col_double(),\n",
      "  violent_recid = col_logical(),\n",
      "  is_violent_recid = col_double(),\n",
      "  decile_score_1 = col_double(),\n",
      "  v_decile_score = col_double(),\n",
      "  priors_count_1 = col_double(),\n",
      "  event = col_double()\n",
      ")\n",
      "See spec(...) for full column specifications.\n"
     ]
    }
   ],
   "source": [
    "compas_scores_raw <- read_csv(\"C:/Users/pablo/OneDrive/Escritorio/Proyecto Final WozU Git/COMPAS/compas-scores-raw.csv\")\n",
    "cox_violent_parsed <- read_csv(\"C:/Users/pablo/OneDrive/Escritorio/Proyecto Final WozU Git/COMPAS/COMPAS DATA FILES INPUT/cox-violent-parsed.csv\")\n",
    "cox_violent_parsed_filt <- read_csv(\"C:/Users/pablo/OneDrive/Escritorio/Proyecto Final WozU Git/COMPAS/COMPAS DATA FILES INPUT/cox-violent-parsed_filt.csv\")"
   ]
  },
  {
   "cell_type": "code",
   "execution_count": 6,
   "metadata": {},
   "outputs": [
    {
     "name": "stderr",
     "output_type": "stream",
     "text": [
      "Parsed with column specification:\n",
      "cols(\n",
      "  Two_yr_Recidivism = col_double(),\n",
      "  Number_of_Priors = col_double(),\n",
      "  score_factor = col_double(),\n",
      "  Age_Above_FourtyFive = col_double(),\n",
      "  Age_Below_TwentyFive = col_double(),\n",
      "  African_American = col_double(),\n",
      "  Asian = col_double(),\n",
      "  Hispanic = col_double(),\n",
      "  Native_American = col_double(),\n",
      "  Other = col_double(),\n",
      "  Female = col_double(),\n",
      "  Misdemeanor = col_double()\n",
      ")\n"
     ]
    }
   ],
   "source": [
    "datasets_1498_2680_propublicaCompassRecividism_data_fairml <- read_csv(\"C:/Users/pablo/OneDrive/Escritorio/Proyecto Final WozU Git/COMPAS/COMPAS DATA FILES INPUT/datasets_1498_2680_propublicaCompassRecividism_data_fairml.csv_propublica_data_for_fairml.csv\")\n"
   ]
  },
  {
   "cell_type": "code",
   "execution_count": 7,
   "metadata": {},
   "outputs": [],
   "source": [
    "logit_input <- datasets_1498_2680_propublicaCompassRecividism_data_fairml"
   ]
  },
  {
   "cell_type": "markdown",
   "metadata": {},
   "source": [
    "Testing LOGISTIC REGRESSION on COMPAS PROPUBLICA FILE (using binary output \"Two_yr_Recidivism\" as DV Variable)\n",
    "\n",
    "We will check how good predictors are some IV (like race, etc)\n",
    "Now we do a trial with a one-to-one (one IV, one DV), then with all the factors/IV\n",
    "Our DV is Two_yr_Recidivism"
   ]
  },
  {
   "cell_type": "code",
   "execution_count": 8,
   "metadata": {},
   "outputs": [],
   "source": [
    "ylogit_propub <- glm(Two_yr_Recidivism ~ ., data=logit_input, family=\"binomial\")"
   ]
  },
  {
   "cell_type": "code",
   "execution_count": 9,
   "metadata": {},
   "outputs": [],
   "source": [
    "probabilities <- predict(ylogit_propub, type = \"response\")"
   ]
  },
  {
   "cell_type": "code",
   "execution_count": 10,
   "metadata": {},
   "outputs": [],
   "source": [
    "logit_input$Pred_rec <- ifelse(probabilities > .5,\"pos\",\"neg\")\n",
    "logit_input$Pred_recR <- NA\n",
    "logit_input$Pred_recR[logit_input$Pred_rec=='pos'] <- 1\n",
    "logit_input$Pred_recR[logit_input$Pred_rec=='neg'] <- 0"
   ]
  },
  {
   "cell_type": "code",
   "execution_count": 11,
   "metadata": {},
   "outputs": [
    {
     "data": {
      "text/html": [
       "<table>\n",
       "<thead><tr><th scope=col>Two_yr_Recidivism</th><th scope=col>Number_of_Priors</th><th scope=col>score_factor</th><th scope=col>Age_Above_FourtyFive</th><th scope=col>Age_Below_TwentyFive</th><th scope=col>African_American</th><th scope=col>Asian</th><th scope=col>Hispanic</th><th scope=col>Native_American</th><th scope=col>Other</th><th scope=col>Female</th><th scope=col>Misdemeanor</th><th scope=col>Pred_rec</th><th scope=col>Pred_recR</th></tr></thead>\n",
       "<tbody>\n",
       "\t<tr><td>0  </td><td> 0 </td><td>0  </td><td>1  </td><td>0  </td><td>0  </td><td>0  </td><td>0  </td><td>0  </td><td>1  </td><td>0  </td><td>0  </td><td>neg</td><td>0  </td></tr>\n",
       "\t<tr><td>1  </td><td> 0 </td><td>0  </td><td>0  </td><td>0  </td><td>1  </td><td>0  </td><td>0  </td><td>0  </td><td>0  </td><td>0  </td><td>0  </td><td>neg</td><td>0  </td></tr>\n",
       "\t<tr><td>1  </td><td> 4 </td><td>0  </td><td>0  </td><td>1  </td><td>1  </td><td>0  </td><td>0  </td><td>0  </td><td>0  </td><td>0  </td><td>0  </td><td>pos</td><td>1  </td></tr>\n",
       "\t<tr><td>0  </td><td> 0 </td><td>0  </td><td>0  </td><td>0  </td><td>0  </td><td>0  </td><td>0  </td><td>0  </td><td>1  </td><td>0  </td><td>1  </td><td>neg</td><td>0  </td></tr>\n",
       "\t<tr><td>1  </td><td>14 </td><td>1  </td><td>0  </td><td>0  </td><td>0  </td><td>0  </td><td>0  </td><td>0  </td><td>0  </td><td>0  </td><td>0  </td><td>pos</td><td>1  </td></tr>\n",
       "\t<tr><td>0  </td><td> 3 </td><td>0  </td><td>0  </td><td>0  </td><td>0  </td><td>0  </td><td>0  </td><td>0  </td><td>1  </td><td>0  </td><td>0  </td><td>neg</td><td>0  </td></tr>\n",
       "</tbody>\n",
       "</table>\n"
      ],
      "text/latex": [
       "\\begin{tabular}{r|llllllllllllll}\n",
       " Two\\_yr\\_Recidivism & Number\\_of\\_Priors & score\\_factor & Age\\_Above\\_FourtyFive & Age\\_Below\\_TwentyFive & African\\_American & Asian & Hispanic & Native\\_American & Other & Female & Misdemeanor & Pred\\_rec & Pred\\_recR\\\\\n",
       "\\hline\n",
       "\t 0   &  0  & 0   & 1   & 0   & 0   & 0   & 0   & 0   & 1   & 0   & 0   & neg & 0  \\\\\n",
       "\t 1   &  0  & 0   & 0   & 0   & 1   & 0   & 0   & 0   & 0   & 0   & 0   & neg & 0  \\\\\n",
       "\t 1   &  4  & 0   & 0   & 1   & 1   & 0   & 0   & 0   & 0   & 0   & 0   & pos & 1  \\\\\n",
       "\t 0   &  0  & 0   & 0   & 0   & 0   & 0   & 0   & 0   & 1   & 0   & 1   & neg & 0  \\\\\n",
       "\t 1   & 14  & 1   & 0   & 0   & 0   & 0   & 0   & 0   & 0   & 0   & 0   & pos & 1  \\\\\n",
       "\t 0   &  3  & 0   & 0   & 0   & 0   & 0   & 0   & 0   & 1   & 0   & 0   & neg & 0  \\\\\n",
       "\\end{tabular}\n"
      ],
      "text/markdown": [
       "\n",
       "| Two_yr_Recidivism | Number_of_Priors | score_factor | Age_Above_FourtyFive | Age_Below_TwentyFive | African_American | Asian | Hispanic | Native_American | Other | Female | Misdemeanor | Pred_rec | Pred_recR |\n",
       "|---|---|---|---|---|---|---|---|---|---|---|---|---|---|\n",
       "| 0   |  0  | 0   | 1   | 0   | 0   | 0   | 0   | 0   | 1   | 0   | 0   | neg | 0   |\n",
       "| 1   |  0  | 0   | 0   | 0   | 1   | 0   | 0   | 0   | 0   | 0   | 0   | neg | 0   |\n",
       "| 1   |  4  | 0   | 0   | 1   | 1   | 0   | 0   | 0   | 0   | 0   | 0   | pos | 1   |\n",
       "| 0   |  0  | 0   | 0   | 0   | 0   | 0   | 0   | 0   | 1   | 0   | 1   | neg | 0   |\n",
       "| 1   | 14  | 1   | 0   | 0   | 0   | 0   | 0   | 0   | 0   | 0   | 0   | pos | 1   |\n",
       "| 0   |  3  | 0   | 0   | 0   | 0   | 0   | 0   | 0   | 1   | 0   | 0   | neg | 0   |\n",
       "\n"
      ],
      "text/plain": [
       "  Two_yr_Recidivism Number_of_Priors score_factor Age_Above_FourtyFive\n",
       "1 0                  0               0            1                   \n",
       "2 1                  0               0            0                   \n",
       "3 1                  4               0            0                   \n",
       "4 0                  0               0            0                   \n",
       "5 1                 14               1            0                   \n",
       "6 0                  3               0            0                   \n",
       "  Age_Below_TwentyFive African_American Asian Hispanic Native_American Other\n",
       "1 0                    0                0     0        0               1    \n",
       "2 0                    1                0     0        0               0    \n",
       "3 1                    1                0     0        0               0    \n",
       "4 0                    0                0     0        0               1    \n",
       "5 0                    0                0     0        0               0    \n",
       "6 0                    0                0     0        0               1    \n",
       "  Female Misdemeanor Pred_rec Pred_recR\n",
       "1 0      0           neg      0        \n",
       "2 0      0           neg      0        \n",
       "3 0      0           pos      1        \n",
       "4 0      1           neg      0        \n",
       "5 0      0           pos      1        \n",
       "6 0      0           neg      0        "
      ]
     },
     "metadata": {},
     "output_type": "display_data"
    }
   ],
   "source": [
    "head(logit_input)"
   ]
  },
  {
   "cell_type": "code",
   "execution_count": 12,
   "metadata": {},
   "outputs": [],
   "source": [
    "logit_input3 <- logit_input\n",
    "logit_input3$Pred_recR <- as.factor(logit_input$Pred_recR)\n",
    "logit_input3$Two_yr_Recidivism <- as.factor(logit_input$Two_yr_Recidivism)"
   ]
  },
  {
   "cell_type": "code",
   "execution_count": 13,
   "metadata": {},
   "outputs": [
    {
     "data": {
      "text/html": [
       "<table>\n",
       "<thead><tr><th scope=col>Two_yr_Recidivism</th><th scope=col>Number_of_Priors</th><th scope=col>score_factor</th><th scope=col>Age_Above_FourtyFive</th><th scope=col>Age_Below_TwentyFive</th><th scope=col>African_American</th><th scope=col>Asian</th><th scope=col>Hispanic</th><th scope=col>Native_American</th><th scope=col>Other</th><th scope=col>Female</th><th scope=col>Misdemeanor</th><th scope=col>Pred_rec</th><th scope=col>Pred_recR</th></tr></thead>\n",
       "<tbody>\n",
       "\t<tr><td>0  </td><td> 0 </td><td>0  </td><td>1  </td><td>0  </td><td>0  </td><td>0  </td><td>0  </td><td>0  </td><td>1  </td><td>0  </td><td>0  </td><td>neg</td><td>0  </td></tr>\n",
       "\t<tr><td>1  </td><td> 0 </td><td>0  </td><td>0  </td><td>0  </td><td>1  </td><td>0  </td><td>0  </td><td>0  </td><td>0  </td><td>0  </td><td>0  </td><td>neg</td><td>0  </td></tr>\n",
       "\t<tr><td>1  </td><td> 4 </td><td>0  </td><td>0  </td><td>1  </td><td>1  </td><td>0  </td><td>0  </td><td>0  </td><td>0  </td><td>0  </td><td>0  </td><td>pos</td><td>1  </td></tr>\n",
       "\t<tr><td>0  </td><td> 0 </td><td>0  </td><td>0  </td><td>0  </td><td>0  </td><td>0  </td><td>0  </td><td>0  </td><td>1  </td><td>0  </td><td>1  </td><td>neg</td><td>0  </td></tr>\n",
       "\t<tr><td>1  </td><td>14 </td><td>1  </td><td>0  </td><td>0  </td><td>0  </td><td>0  </td><td>0  </td><td>0  </td><td>0  </td><td>0  </td><td>0  </td><td>pos</td><td>1  </td></tr>\n",
       "\t<tr><td>0  </td><td> 3 </td><td>0  </td><td>0  </td><td>0  </td><td>0  </td><td>0  </td><td>0  </td><td>0  </td><td>1  </td><td>0  </td><td>0  </td><td>neg</td><td>0  </td></tr>\n",
       "</tbody>\n",
       "</table>\n"
      ],
      "text/latex": [
       "\\begin{tabular}{r|llllllllllllll}\n",
       " Two\\_yr\\_Recidivism & Number\\_of\\_Priors & score\\_factor & Age\\_Above\\_FourtyFive & Age\\_Below\\_TwentyFive & African\\_American & Asian & Hispanic & Native\\_American & Other & Female & Misdemeanor & Pred\\_rec & Pred\\_recR\\\\\n",
       "\\hline\n",
       "\t 0   &  0  & 0   & 1   & 0   & 0   & 0   & 0   & 0   & 1   & 0   & 0   & neg & 0  \\\\\n",
       "\t 1   &  0  & 0   & 0   & 0   & 1   & 0   & 0   & 0   & 0   & 0   & 0   & neg & 0  \\\\\n",
       "\t 1   &  4  & 0   & 0   & 1   & 1   & 0   & 0   & 0   & 0   & 0   & 0   & pos & 1  \\\\\n",
       "\t 0   &  0  & 0   & 0   & 0   & 0   & 0   & 0   & 0   & 1   & 0   & 1   & neg & 0  \\\\\n",
       "\t 1   & 14  & 1   & 0   & 0   & 0   & 0   & 0   & 0   & 0   & 0   & 0   & pos & 1  \\\\\n",
       "\t 0   &  3  & 0   & 0   & 0   & 0   & 0   & 0   & 0   & 1   & 0   & 0   & neg & 0  \\\\\n",
       "\\end{tabular}\n"
      ],
      "text/markdown": [
       "\n",
       "| Two_yr_Recidivism | Number_of_Priors | score_factor | Age_Above_FourtyFive | Age_Below_TwentyFive | African_American | Asian | Hispanic | Native_American | Other | Female | Misdemeanor | Pred_rec | Pred_recR |\n",
       "|---|---|---|---|---|---|---|---|---|---|---|---|---|---|\n",
       "| 0   |  0  | 0   | 1   | 0   | 0   | 0   | 0   | 0   | 1   | 0   | 0   | neg | 0   |\n",
       "| 1   |  0  | 0   | 0   | 0   | 1   | 0   | 0   | 0   | 0   | 0   | 0   | neg | 0   |\n",
       "| 1   |  4  | 0   | 0   | 1   | 1   | 0   | 0   | 0   | 0   | 0   | 0   | pos | 1   |\n",
       "| 0   |  0  | 0   | 0   | 0   | 0   | 0   | 0   | 0   | 1   | 0   | 1   | neg | 0   |\n",
       "| 1   | 14  | 1   | 0   | 0   | 0   | 0   | 0   | 0   | 0   | 0   | 0   | pos | 1   |\n",
       "| 0   |  3  | 0   | 0   | 0   | 0   | 0   | 0   | 0   | 1   | 0   | 0   | neg | 0   |\n",
       "\n"
      ],
      "text/plain": [
       "  Two_yr_Recidivism Number_of_Priors score_factor Age_Above_FourtyFive\n",
       "1 0                  0               0            1                   \n",
       "2 1                  0               0            0                   \n",
       "3 1                  4               0            0                   \n",
       "4 0                  0               0            0                   \n",
       "5 1                 14               1            0                   \n",
       "6 0                  3               0            0                   \n",
       "  Age_Below_TwentyFive African_American Asian Hispanic Native_American Other\n",
       "1 0                    0                0     0        0               1    \n",
       "2 0                    1                0     0        0               0    \n",
       "3 1                    1                0     0        0               0    \n",
       "4 0                    0                0     0        0               1    \n",
       "5 0                    0                0     0        0               0    \n",
       "6 0                    0                0     0        0               1    \n",
       "  Female Misdemeanor Pred_rec Pred_recR\n",
       "1 0      0           neg      0        \n",
       "2 0      0           neg      0        \n",
       "3 0      0           pos      1        \n",
       "4 0      1           neg      0        \n",
       "5 0      0           pos      1        \n",
       "6 0      0           neg      0        "
      ]
     },
     "metadata": {},
     "output_type": "display_data"
    }
   ],
   "source": [
    "head(logit_input3)"
   ]
  },
  {
   "cell_type": "markdown",
   "metadata": {},
   "source": [
    "CONFUSION MATRIX ON LOGIT"
   ]
  },
  {
   "cell_type": "code",
   "execution_count": 15,
   "metadata": {},
   "outputs": [
    {
     "data": {
      "text/plain": [
       "Confusion Matrix and Statistics\n",
       "\n",
       "          Reference\n",
       "Prediction    0    1\n",
       "         0 2583  780\n",
       "         1 1202 1607\n",
       "                                          \n",
       "               Accuracy : 0.6789          \n",
       "                 95% CI : (0.6671, 0.6905)\n",
       "    No Information Rate : 0.6133          \n",
       "    P-Value [Acc > NIR] : < 2.2e-16       \n",
       "                                          \n",
       "                  Kappa : 0.3444          \n",
       "                                          \n",
       " Mcnemar's Test P-Value : < 2.2e-16       \n",
       "                                          \n",
       "            Sensitivity : 0.6824          \n",
       "            Specificity : 0.6732          \n",
       "         Pos Pred Value : 0.7681          \n",
       "         Neg Pred Value : 0.5721          \n",
       "             Prevalence : 0.6133          \n",
       "         Detection Rate : 0.4185          \n",
       "   Detection Prevalence : 0.5449          \n",
       "      Balanced Accuracy : 0.6778          \n",
       "                                          \n",
       "       'Positive' Class : 0               \n",
       "                                          "
      ]
     },
     "metadata": {},
     "output_type": "display_data"
    }
   ],
   "source": [
    "confusion_mat_recidivism <- caret::confusionMatrix(logit_input3$Two_yr_Recidivism, logit_input3$Pred_recR)\n",
    "confusion_mat_recidivism"
   ]
  },
  {
   "cell_type": "markdown",
   "metadata": {},
   "source": [
    "ASSUMPTION TESTINGS"
   ]
  },
  {
   "cell_type": "markdown",
   "metadata": {},
   "source": [
    "LOGIT LINEARITY"
   ]
  },
  {
   "cell_type": "code",
   "execution_count": null,
   "metadata": {},
   "outputs": [],
   "source": [
    "# We keep only fields that are numeric"
   ]
  },
  {
   "cell_type": "code",
   "execution_count": 17,
   "metadata": {},
   "outputs": [],
   "source": [
    "logit_input_num <- logit_input %>% dplyr::select_if(is.numeric)\n",
    "predictors_num <- colnames(logit_input_num)\n",
    "logit_input_num <- logit_input_num %>% mutate(logit=log(probabilities/(1-probabilities))) %>% gather(key= \"predictors_num\", value=\"predictor.value\", -logit)"
   ]
  },
  {
   "cell_type": "code",
   "execution_count": 18,
   "metadata": {},
   "outputs": [
    {
     "name": "stderr",
     "output_type": "stream",
     "text": [
      "`geom_smooth()` using formula 'y ~ x'\n"
     ]
    },
    {
     "data": {
      "image/png": "[encoded data removed]",
      "text/plain": [
       "plot without title"
      ]
     },
     "metadata": {},
     "output_type": "display_data"
    }
   ],
   "source": [
    "# Now we graph\n",
    "ggplot(logit_input_num, aes(logit, predictor.value))+ geom_point(size=.5, alpha=.5)+ geom_smooth(method= \"loess\")+ theme_bw()+ facet_wrap(~predictors_num, scales=\"free_y\")\n",
    "#"
   ]
  },
  {
   "cell_type": "code",
   "execution_count": 19,
   "metadata": {},
   "outputs": [
    {
     "data": {
      "image/png": "[encoded data removed]",
      "text/plain": [
       "plot without title"
      ]
     },
     "metadata": {},
     "output_type": "display_data"
    }
   ],
   "source": [
    "plot(ylogit_propub$residuals)"
   ]
  },
  {
   "cell_type": "code",
   "execution_count": 20,
   "metadata": {},
   "outputs": [
    {
     "data": {
      "text/plain": [
       "\n",
       "\tDurbin-Watson test\n",
       "\n",
       "data:  ylogit_propub\n",
       "DW = 2.0276, p-value = 0.2781\n",
       "alternative hypothesis: true autocorrelation is not 0\n"
      ]
     },
     "metadata": {},
     "output_type": "display_data"
    }
   ],
   "source": [
    "dwtest(ylogit_propub, alternative=\"two.sided\")"
   ]
  },
  {
   "cell_type": "code",
   "execution_count": 21,
   "metadata": {},
   "outputs": [
    {
     "name": "stdout",
     "output_type": "stream",
     "text": [
      "Potentially influential observations of\n",
      "\t glm(formula = Two_yr_Recidivism ~ ., family = \"binomial\", data = logit_input) :\n",
      "\n",
      "     dfb.1_ dfb.N__P dfb.scr_ dfb.A_A_ dfb.A_B_ dfb.Af_A dfb.Asin dfb.Hspn\n",
      "132  -0.01   0.02     0.01     0.02     0.00     0.00     0.00     0.00   \n",
      "409  -0.01   0.01    -0.02     0.01     0.02     0.00    -0.18     0.00   \n",
      "414  -0.01   0.00     0.03     0.04    -0.01     0.00     0.27     0.00   \n",
      "424   0.02  -0.09     0.04    -0.02    -0.03     0.01     0.00    -0.06   \n",
      "580   0.00  -0.01     0.02     0.00     0.02    -0.01     0.24     0.00   \n",
      "647   0.00   0.01    -0.01     0.01     0.01     0.00     0.00     0.00   \n",
      "846  -0.01   0.04    -0.02     0.01     0.01     0.00     0.00     0.03   \n",
      "988  -0.01  -0.01    -0.01     0.01     0.01     0.00     0.00     0.00   \n",
      "1000  0.00   0.01     0.01     0.00     0.00     0.00     0.00     0.00   \n",
      "1010  0.00   0.00     0.01     0.01    -0.02     0.00    -0.16     0.00   \n",
      "1095 -0.01   0.00     0.01     0.01     0.01     0.00    -0.14     0.00   \n",
      "1097  0.00   0.00     0.00    -0.01     0.00     0.00    -0.06     0.00   \n",
      "1257 -0.01   0.00     0.01     0.01     0.01     0.00     0.00     0.00   \n",
      "1294  0.00  -0.01     0.01     0.01    -0.02     0.00    -0.15     0.00   \n",
      "1355  0.00   0.00     0.00    -0.01     0.00     0.00    -0.06     0.00   \n",
      "1422  0.01  -0.07     0.01     0.01    -0.01     0.00     0.00     0.00   \n",
      "1443 -0.01   0.03    -0.01     0.01     0.01     0.00     0.00     0.00   \n",
      "1530  0.00  -0.01     0.01     0.01    -0.02     0.00    -0.15     0.00   \n",
      "1585  0.00  -0.01     0.00     0.03     0.00     0.01     0.28     0.00   \n",
      "1666 -0.01   0.01     0.01     0.01     0.01     0.00     0.00     0.00   \n",
      "1738  0.01  -0.01     0.03    -0.01    -0.02     0.00     0.27     0.00   \n",
      "1813 -0.02   0.03     0.00     0.03     0.01     0.00     0.00     0.00   \n",
      "2192 -0.01  -0.01     0.04     0.04    -0.01     0.00     0.28     0.00   \n",
      "2410  0.01  -0.07     0.01     0.01    -0.01     0.00     0.00     0.00   \n",
      "2564  0.00   0.00     0.00     0.01     0.00     0.00    -0.10     0.00   \n",
      "2979  0.03  -0.08     0.01     0.02    -0.02     0.00     0.00     0.00   \n",
      "3219  0.00  -0.02     0.01     0.01     0.00     0.00    -0.17     0.00   \n",
      "3333  0.02  -0.08     0.03    -0.03    -0.02     0.01     0.00    -0.06   \n",
      "3378  0.00   0.00     0.00    -0.01     0.00     0.00    -0.07     0.00   \n",
      "3490  0.00   0.00     0.00     0.01     0.00     0.00    -0.10     0.00   \n",
      "3636 -0.01   0.00     0.00     0.01     0.01     0.00    -0.11     0.00   \n",
      "3912 -0.02   0.02    -0.02     0.03     0.01     0.00     0.29     0.00   \n",
      "3923 -0.02   0.04    -0.02     0.01     0.01     0.01     0.00     0.00   \n",
      "3952  0.00   0.01    -0.01     0.00     0.01     0.00     0.00     0.00   \n",
      "3986 -0.01   0.00     0.00     0.01     0.01     0.00    -0.11     0.00   \n",
      "4127 -0.01  -0.01     0.01     0.00     0.03     0.00     0.00     0.00   \n",
      "4143  0.00   0.00     0.00     0.01     0.00     0.00    -0.10     0.00   \n",
      "4590  0.00   0.00     0.00    -0.01     0.00     0.00    -0.07     0.00   \n",
      "4617  0.00  -0.03    -0.01     0.02     0.01     0.01    -0.28     0.00   \n",
      "4621  0.00   0.00     0.00    -0.01     0.00     0.00    -0.06     0.00   \n",
      "4645  0.00   0.00     0.00     0.01     0.00     0.00    -0.09     0.00   \n",
      "4710  0.00   0.00     0.00    -0.01     0.00     0.00    -0.07     0.00   \n",
      "4879 -0.01   0.00     0.01     0.01     0.01     0.00    -0.12     0.00   \n",
      "4929  0.00   0.00     0.00     0.01     0.00     0.00    -0.10     0.00   \n",
      "4942  0.00   0.00     0.00    -0.01     0.00     0.00    -0.07     0.00   \n",
      "5034  0.00  -0.01     0.01     0.00     0.02     0.00     0.00     0.00   \n",
      "5261 -0.01   0.02     0.00     0.01     0.01     0.00     0.00     0.00   \n",
      "5871  0.00   0.00     0.01    -0.01    -0.01     0.00     0.00     0.00   \n",
      "5959 -0.01   0.04    -0.01     0.01     0.01     0.00     0.00     0.00   \n",
      "6005  0.01  -0.07     0.01     0.01    -0.01     0.00     0.00     0.00   \n",
      "6049  0.01  -0.01     0.01     0.01    -0.02     0.00    -0.16     0.00   \n",
      "6063 -0.01   0.00     0.01     0.00     0.02    -0.01     0.22     0.00   \n",
      "6092  0.02   0.00    -0.01    -0.02    -0.01     0.00     0.29     0.00   \n",
      "     dfb.Nt_A dfb.Othr dfb.Feml dfb.Msdm dffit   cov.r   cook.d hat    \n",
      "132   0.00     0.04     0.00     0.00     0.05    1.01_*  0.00   0.00  \n",
      "409   0.00     0.00     0.00     0.01    -0.18_*  1.05_*  0.00   0.04_*\n",
      "414   0.00     0.00     0.00    -0.01     0.28_*  1.05_*  0.01   0.05_*\n",
      "424   0.00     0.00     0.00     0.01    -0.12    1.00    0.00   0.01_*\n",
      "580   0.00     0.00     0.00    -0.01     0.25_*  1.05_*  0.00   0.05_*\n",
      "647  -0.34     0.00     0.01    -0.02    -0.34_*  1.12_*  0.01   0.10_*\n",
      "846   0.00     0.00     0.00     0.00     0.05    1.01_*  0.00   0.01_*\n",
      "988  -0.43     0.00     0.01     0.01    -0.44_*  1.11_*  0.02   0.10_*\n",
      "1000 -0.16     0.00     0.00    -0.01    -0.17_*  1.07_*  0.00   0.07_*\n",
      "1010  0.00     0.00     0.00     0.01    -0.17_*  1.04_*  0.00   0.04_*\n",
      "1095  0.00     0.00     0.00     0.01    -0.14_*  1.04_*  0.00   0.04_*\n",
      "1097  0.00     0.00     0.00    -0.01    -0.07    1.02_*  0.00   0.02_*\n",
      "1257 -0.23     0.00     0.01     0.01    -0.23_*  1.09_*  0.00   0.09_*\n",
      "1294  0.00     0.00     0.00    -0.01    -0.15_*  1.04_*  0.00   0.04_*\n",
      "1355  0.00     0.00     0.00    -0.01    -0.07    1.02_*  0.00   0.02_*\n",
      "1422  0.00     0.00     0.00     0.00    -0.08    0.99_*  0.00   0.00  \n",
      "1443  0.00     0.02     0.00     0.00     0.04    1.01_*  0.00   0.01_*\n",
      "1530  0.00     0.00     0.00    -0.01    -0.15_*  1.04_*  0.00   0.04_*\n",
      "1585  0.00     0.00     0.00    -0.02     0.28_*  1.02_*  0.01   0.02_*\n",
      "1666 -0.19     0.00     0.00     0.01    -0.19_*  1.08_*  0.00   0.07_*\n",
      "1738  0.00     0.00     0.00    -0.01     0.27_*  1.05_*  0.01   0.05_*\n",
      "1813  0.31     0.00     0.03    -0.01     0.31_*  1.11_*  0.01   0.10_*\n",
      "2192  0.00     0.00     0.00    -0.01     0.29_*  1.04_*  0.01   0.04_*\n",
      "2410  0.00     0.00     0.00     0.00    -0.08    0.99_*  0.00   0.00  \n",
      "2564  0.00     0.00     0.00    -0.01    -0.10    1.03_*  0.00   0.03_*\n",
      "2979  0.00     0.00     0.00    -0.03    -0.09    0.99_*  0.00   0.00  \n",
      "3219  0.00     0.00     0.00    -0.02    -0.17_*  1.04_*  0.00   0.04_*\n",
      "3333  0.00     0.00     0.00     0.01    -0.11    1.00    0.00   0.01_*\n",
      "3378  0.00     0.00     0.00    -0.01    -0.07    1.02_*  0.00   0.02_*\n",
      "3490  0.00     0.00     0.00    -0.01    -0.10    1.03_*  0.00   0.03_*\n",
      "3636  0.00     0.00     0.00     0.01    -0.11    1.03_*  0.00   0.03_*\n",
      "3912  0.00     0.00     0.05    -0.02     0.30_*  1.03_*  0.01   0.03_*\n",
      "3923  0.00     0.00     0.00     0.01     0.05    1.01_*  0.00   0.00  \n",
      "3952 -0.32     0.00     0.01    -0.02    -0.32_*  1.11_*  0.01   0.10_*\n",
      "3986  0.00     0.00     0.00     0.01    -0.11    1.03_*  0.00   0.03_*\n",
      "4127  0.41     0.00    -0.01     0.02     0.42_*  1.12_*  0.01   0.11_*\n",
      "4143  0.00     0.00     0.00    -0.01    -0.10    1.03_*  0.00   0.03_*\n",
      "4590  0.00     0.00     0.00     0.00    -0.08    1.02_*  0.00   0.02_*\n",
      "4617  0.00     0.00     0.00     0.01    -0.28_*  1.04_*  0.01   0.04_*\n",
      "4621  0.00     0.00     0.00    -0.01    -0.07    1.02_*  0.00   0.02_*\n",
      "4645  0.00     0.00    -0.02     0.01    -0.10    1.03_*  0.00   0.03_*\n",
      "4710  0.00     0.00     0.00     0.00    -0.08    1.02_*  0.00   0.02_*\n",
      "4879  0.00     0.00     0.00     0.01    -0.13    1.04_*  0.00   0.03_*\n",
      "4929  0.00     0.00     0.00    -0.01    -0.10    1.03_*  0.00   0.03_*\n",
      "4942  0.00     0.00     0.00     0.00    -0.08    1.02_*  0.00   0.02_*\n",
      "5034  0.37     0.00    -0.01    -0.01     0.37_*  1.12_*  0.01   0.11_*\n",
      "5261  0.12     0.00     0.00     0.00     0.12    1.06_*  0.00   0.05_*\n",
      "5871  0.42     0.00     0.04    -0.02     0.43_*  1.12_*  0.01   0.11_*\n",
      "5959  0.00     0.03     0.00     0.00     0.05    1.01_*  0.00   0.01_*\n",
      "6005  0.00     0.00     0.00     0.00    -0.08    0.99_*  0.00   0.00  \n",
      "6049  0.00     0.00     0.00    -0.02    -0.16_*  1.04_*  0.00   0.04_*\n",
      "6063  0.00     0.00     0.00    -0.01     0.23_*  1.05_*  0.00   0.05_*\n",
      "6092  0.00     0.00     0.00    -0.01     0.29_*  1.03_*  0.01   0.04_*\n"
     ]
    }
   ],
   "source": [
    "infl <- influence.measures(ylogit_propub)\n",
    "summary(infl)"
   ]
  },
  {
   "cell_type": "code",
   "execution_count": 22,
   "metadata": {},
   "outputs": [
    {
     "data": {
      "text/plain": [
       "\n",
       "Call:\n",
       "glm(formula = Two_yr_Recidivism ~ ., family = \"binomial\", data = logit_input)\n",
       "\n",
       "Deviance Residuals: \n",
       "    Min       1Q   Median       3Q      Max  \n",
       "-2.5875  -0.9257  -0.6413   1.0355   2.0572  \n",
       "\n",
       "Coefficients:\n",
       "                      Estimate Std. Error z value Pr(>|z|)    \n",
       "(Intercept)          -0.793407   0.067365 -11.778  < 2e-16 ***\n",
       "Number_of_Priors      0.131516   0.008431  15.599  < 2e-16 ***\n",
       "score_factor          0.706420   0.063352  11.151  < 2e-16 ***\n",
       "Age_Above_FourtyFive -0.516489   0.077557  -6.660 2.75e-11 ***\n",
       "Age_Below_TwentyFive  0.540449   0.071805   7.527 5.21e-14 ***\n",
       "African_American      0.026285   0.063804   0.412  0.68037    \n",
       "Asian                -0.519606   0.432354  -1.202  0.22944    \n",
       "Hispanic             -0.120019   0.110257  -1.089  0.27635    \n",
       "Native_American      -0.456590   0.655601  -0.696  0.48615    \n",
       "Other                -0.058954   0.129012  -0.457  0.64769    \n",
       "Female               -0.379289   0.072906  -5.202 1.97e-07 ***\n",
       "Misdemeanor          -0.178525   0.059570  -2.997  0.00273 ** \n",
       "---\n",
       "Signif. codes:  0 '***' 0.001 '**' 0.01 '*' 0.05 '.' 0.1 ' ' 1\n",
       "\n",
       "(Dispersion parameter for binomial family taken to be 1)\n",
       "\n",
       "    Null deviance: 8506.4  on 6171  degrees of freedom\n",
       "Residual deviance: 7451.9  on 6160  degrees of freedom\n",
       "AIC: 7475.9\n",
       "\n",
       "Number of Fisher Scoring iterations: 4\n"
      ]
     },
     "metadata": {},
     "output_type": "display_data"
    }
   ],
   "source": [
    "summary(ylogit_propub)"
   ]
  },
  {
   "cell_type": "code",
   "execution_count": 23,
   "metadata": {},
   "outputs": [
    {
     "data": {
      "image/png": "[encoded data removed]",
      "text/plain": [
       "Plot with title \"\""
      ]
     },
     "metadata": {},
     "output_type": "display_data"
    }
   ],
   "source": [
    "logi.hist.plot(logit_input$Number_of_Priors,logit_input$Two_yr_Recidivism, boxp=FALSE, type=\"hist\", col=\"gray\")"
   ]
  },
  {
   "cell_type": "code",
   "execution_count": 24,
   "metadata": {},
   "outputs": [],
   "source": [
    "################################################\n",
    "# This section creates a function called       #\n",
    "# logisticPseudoR2s().  To use it              #\n",
    "# type logisticPseudoR2s(myLogisticModel)      #\n",
    "################################################\n",
    "logisticPseudoR2s <- function(LogModel) {\n",
    "  dev <- LogModel$deviance \n",
    "  nullDev <- LogModel$null.deviance \n",
    "  modelN <-  length(LogModel$fitted.values)\n",
    "  R.l <-  1 -  dev / nullDev\n",
    "  R.cs <- 1- exp ( -(nullDev - dev) / modelN)\n",
    "  R.n <- R.cs / ( 1 - ( exp (-(nullDev / modelN))))\n",
    "  cat(\"Pseudo R^2 for logistic regression\\n\")\n",
    "  cat(\"Hosmer and Lemeshow R^2  \", round(R.l, 3), \"\\n\")\n",
    "  cat(\"Cox and Snell R^2        \", round(R.cs, 3), \"\\n\")\n",
    "  cat(\"Nagelkerke R^2           \", round(R.n, 3),    \"\\n\")\n",
    "}\n",
    "############End of function ######################"
   ]
  },
  {
   "cell_type": "code",
   "execution_count": 25,
   "metadata": {},
   "outputs": [
    {
     "name": "stdout",
     "output_type": "stream",
     "text": [
      "Pseudo R^2 for logistic regression\n",
      "Hosmer and Lemeshow R^2   0.124 \n",
      "Cox and Snell R^2         0.157 \n",
      "Nagelkerke R^2            0.21 \n"
     ]
    }
   ],
   "source": [
    "logisticPseudoR2s(ylogit_propub)"
   ]
  },
  {
   "cell_type": "code",
   "execution_count": 26,
   "metadata": {},
   "outputs": [
    {
     "name": "stdout",
     "output_type": "stream",
     "text": [
      "Start:  AIC=7475.92\n",
      "Two_yr_Recidivism ~ Number_of_Priors + score_factor + Age_Above_FourtyFive + \n",
      "    Age_Below_TwentyFive + African_American + Asian + Hispanic + \n",
      "    Native_American + Other + Female + Misdemeanor\n",
      "\n",
      "                       Df Deviance    AIC\n",
      "- African_American      1   7452.1 7474.1\n",
      "- Other                 1   7452.1 7474.1\n",
      "- Native_American       1   7452.4 7474.4\n",
      "- Hispanic              1   7453.1 7475.1\n",
      "- Asian                 1   7453.5 7475.5\n",
      "<none>                      7451.9 7475.9\n",
      "- Misdemeanor           1   7460.9 7482.9\n",
      "- Female                1   7479.4 7501.4\n",
      "- Age_Above_FourtyFive  1   7497.5 7519.5\n",
      "- Age_Below_TwentyFive  1   7508.7 7530.7\n",
      "- score_factor          1   7576.2 7598.2\n",
      "- Number_of_Priors      1   7749.3 7771.3\n",
      "\n",
      "Step:  AIC=7474.08\n",
      "Two_yr_Recidivism ~ Number_of_Priors + score_factor + Age_Above_FourtyFive + \n",
      "    Age_Below_TwentyFive + Asian + Hispanic + Native_American + \n",
      "    Other + Female + Misdemeanor\n",
      "\n",
      "                       Df Deviance    AIC\n",
      "- Other                 1   7452.4 7472.4\n",
      "- Native_American       1   7452.6 7472.6\n",
      "- Asian                 1   7453.7 7473.7\n",
      "- Hispanic              1   7453.8 7473.8\n",
      "<none>                      7452.1 7474.1\n",
      "- Misdemeanor           1   7461.2 7481.2\n",
      "- Female                1   7479.8 7499.8\n",
      "- Age_Above_FourtyFive  1   7498.9 7518.9\n",
      "- Age_Below_TwentyFive  1   7509.6 7529.6\n",
      "- score_factor          1   7578.5 7598.5\n",
      "- Number_of_Priors      1   7757.8 7777.8\n",
      "\n",
      "Step:  AIC=7472.44\n",
      "Two_yr_Recidivism ~ Number_of_Priors + score_factor + Age_Above_FourtyFive + \n",
      "    Age_Below_TwentyFive + Asian + Hispanic + Native_American + \n",
      "    Female + Misdemeanor\n",
      "\n",
      "                       Df Deviance    AIC\n",
      "- Native_American       1   7453.0 7471.0\n",
      "- Hispanic              1   7454.0 7472.0\n",
      "- Asian                 1   7454.0 7472.0\n",
      "<none>                      7452.4 7472.4\n",
      "- Misdemeanor           1   7461.5 7479.5\n",
      "- Female                1   7480.0 7498.0\n",
      "- Age_Above_FourtyFive  1   7499.2 7517.2\n",
      "- Age_Below_TwentyFive  1   7509.9 7527.9\n",
      "- score_factor          1   7581.5 7599.5\n",
      "- Number_of_Priors      1   7759.3 7777.3\n",
      "\n",
      "Step:  AIC=7470.96\n",
      "Two_yr_Recidivism ~ Number_of_Priors + score_factor + Age_Above_FourtyFive + \n",
      "    Age_Below_TwentyFive + Asian + Hispanic + Female + Misdemeanor\n",
      "\n",
      "                       Df Deviance    AIC\n",
      "- Hispanic              1   7454.5 7470.5\n",
      "- Asian                 1   7454.6 7470.6\n",
      "<none>                      7453.0 7471.0\n",
      "- Misdemeanor           1   7462.1 7478.1\n",
      "- Female                1   7480.6 7496.6\n",
      "- Age_Above_FourtyFive  1   7499.6 7515.6\n",
      "- Age_Below_TwentyFive  1   7510.5 7526.5\n",
      "- score_factor          1   7581.8 7597.8\n",
      "- Number_of_Priors      1   7759.6 7775.6\n",
      "\n",
      "Step:  AIC=7470.52\n",
      "Two_yr_Recidivism ~ Number_of_Priors + score_factor + Age_Above_FourtyFive + \n",
      "    Age_Below_TwentyFive + Asian + Female + Misdemeanor\n",
      "\n",
      "                       Df Deviance    AIC\n",
      "- Asian                 1   7456.1 7470.1\n",
      "<none>                      7454.5 7470.5\n",
      "- Misdemeanor           1   7463.8 7477.8\n",
      "- Female                1   7481.7 7495.7\n",
      "- Age_Above_FourtyFive  1   7501.0 7515.0\n",
      "- Age_Below_TwentyFive  1   7512.0 7526.0\n",
      "- score_factor          1   7586.1 7600.1\n",
      "- Number_of_Priors      1   7763.0 7777.0\n",
      "\n",
      "Step:  AIC=7470.05\n",
      "Two_yr_Recidivism ~ Number_of_Priors + score_factor + Age_Above_FourtyFive + \n",
      "    Age_Below_TwentyFive + Female + Misdemeanor\n",
      "\n",
      "                       Df Deviance    AIC\n",
      "<none>                      7456.1 7470.1\n",
      "- Misdemeanor           1   7465.4 7477.4\n",
      "- Female                1   7482.9 7494.9\n",
      "- Age_Above_FourtyFive  1   7502.9 7514.9\n",
      "- Age_Below_TwentyFive  1   7513.5 7525.5\n",
      "- score_factor          1   7588.1 7600.1\n",
      "- Number_of_Priors      1   7765.7 7777.7\n"
     ]
    },
    {
     "data": {
      "text/plain": [
       "\n",
       "Call:  glm(formula = Two_yr_Recidivism ~ Number_of_Priors + score_factor + \n",
       "    Age_Above_FourtyFive + Age_Below_TwentyFive + Female + Misdemeanor, \n",
       "    family = \"binomial\", data = logit_input)\n",
       "\n",
       "Coefficients:\n",
       "         (Intercept)      Number_of_Priors          score_factor  \n",
       "             -0.8046                0.1327                0.7187  \n",
       "Age_Above_FourtyFive  Age_Below_TwentyFive                Female  \n",
       "             -0.5197                0.5420               -0.3741  \n",
       "         Misdemeanor  \n",
       "             -0.1814  \n",
       "\n",
       "Degrees of Freedom: 6171 Total (i.e. Null);  6165 Residual\n",
       "Null Deviance:\t    8506 \n",
       "Residual Deviance: 7456 \tAIC: 7470"
      ]
     },
     "metadata": {},
     "output_type": "display_data"
    }
   ],
   "source": [
    "step(ylogit_propub,direction = 'backward')"
   ]
  },
  {
   "cell_type": "code",
   "execution_count": 33,
   "metadata": {},
   "outputs": [],
   "source": [
    "# NOTE/COMMENTS:\n",
    "# FIRST CONCLUTION\\NOTE:\n",
    "# Backward step doesn´t \"keep\" african race as DV so the factor \"race\" doesn't seem relevant. (HOWEVER \"Backward KEEPS SEX AND AGE (??) hOW DO WE DRAW ADITIONAL CONCLUTIONS ON THIS?)\n",
    "# We need to discuss if the remaing factors lead us to any conclusion."
   ]
  },
  {
   "cell_type": "code",
   "execution_count": 45,
   "metadata": {},
   "outputs": [
    {
     "data": {
      "text/plain": [
       "\n",
       "Call:\n",
       "lm(formula = Number_of_Priors ~ ., data = logit_input)\n",
       "\n",
       "Residuals:\n",
       "    Min      1Q  Median      3Q     Max \n",
       "-7.4262 -2.0713 -0.6898  1.4519 28.7988 \n",
       "\n",
       "Coefficients: (1 not defined because of singularities)\n",
       "                     Estimate Std. Error t value Pr(>|t|)    \n",
       "(Intercept)           0.77308    0.11238   6.879 6.62e-12 ***\n",
       "Two_yr_Recidivism     1.28572    0.09591  13.405  < 2e-16 ***\n",
       "score_factor         -0.86576    0.14428  -6.001 2.08e-09 ***\n",
       "Age_Above_FourtyFive  1.48940    0.11659  12.774  < 2e-16 ***\n",
       "Age_Below_TwentyFive -4.15521    0.11484 -36.182  < 2e-16 ***\n",
       "African_American      0.82145    0.10242   8.020 1.25e-15 ***\n",
       "Asian                 0.39246    0.63229   0.621   0.5348    \n",
       "Hispanic              0.29012    0.17306   1.676   0.0937 .  \n",
       "Native_American       2.68281    1.05608   2.540   0.0111 *  \n",
       "Other                 0.17655    0.20414   0.865   0.3872    \n",
       "Female                0.03383    0.11650   0.290   0.7715    \n",
       "Misdemeanor          -0.22502    0.09560  -2.354   0.0186 *  \n",
       "Pred_recpos           6.41169    0.15469  41.449  < 2e-16 ***\n",
       "Pred_recR                  NA         NA      NA       NA    \n",
       "---\n",
       "Signif. codes:  0 '***' 0.001 '**' 0.01 '*' 0.05 '.' 0.1 ' ' 1\n",
       "\n",
       "Residual standard error: 3.49 on 6159 degrees of freedom\n",
       "Multiple R-squared:  0.4598,\tAdjusted R-squared:  0.4587 \n",
       "F-statistic: 436.8 on 12 and 6159 DF,  p-value: < 2.2e-16\n"
      ]
     },
     "metadata": {},
     "output_type": "display_data"
    }
   ],
   "source": [
    "modelpropub_priors <- lm(Number_of_Priors ~ ., data=logit_input)\n",
    "summary(modelpropub_priors)"
   ]
  },
  {
   "cell_type": "code",
   "execution_count": 46,
   "metadata": {},
   "outputs": [
    {
     "name": "stdout",
     "output_type": "stream",
     "text": [
      "Start:  AIC=15441.8\n",
      "Number_of_Priors ~ Two_yr_Recidivism + score_factor + Age_Above_FourtyFive + \n",
      "    Age_Below_TwentyFive + African_American + Asian + Hispanic + \n",
      "    Native_American + Other + Female + Misdemeanor + Pred_rec + \n",
      "    Pred_recR\n",
      "\n",
      "\n",
      "Step:  AIC=15441.8\n",
      "Number_of_Priors ~ Two_yr_Recidivism + score_factor + Age_Above_FourtyFive + \n",
      "    Age_Below_TwentyFive + African_American + Asian + Hispanic + \n",
      "    Native_American + Other + Female + Misdemeanor + Pred_rec\n",
      "\n",
      "                       Df Sum of Sq   RSS   AIC\n",
      "- Female                1       1.0 75019 15440\n",
      "- Asian                 1       4.7 75022 15440\n",
      "- Other                 1       9.1 75027 15440\n",
      "<none>                              75018 15442\n",
      "- Hispanic              1      34.2 75052 15443\n",
      "- Misdemeanor           1      67.5 75085 15445\n",
      "- Native_American       1      78.6 75096 15446\n",
      "- score_factor          1     438.6 75456 15476\n",
      "- African_American      1     783.5 75801 15504\n",
      "- Age_Above_FourtyFive  1    1987.6 77005 15601\n",
      "- Two_yr_Recidivism     1    2188.8 77206 15617\n",
      "- Age_Below_TwentyFive  1   15945.5 90963 16629\n",
      "- Pred_rec              1   20925.9 95943 16958\n",
      "\n",
      "Step:  AIC=15439.88\n",
      "Number_of_Priors ~ Two_yr_Recidivism + score_factor + Age_Above_FourtyFive + \n",
      "    Age_Below_TwentyFive + African_American + Asian + Hispanic + \n",
      "    Native_American + Other + Misdemeanor + Pred_rec\n",
      "\n",
      "                       Df Sum of Sq   RSS   AIC\n",
      "- Asian                 1       4.5 75023 15438\n",
      "- Other                 1       8.9 75027 15439\n",
      "<none>                              75019 15440\n",
      "- Hispanic              1      33.7 75052 15441\n",
      "- Misdemeanor           1      67.2 75086 15443\n",
      "- Native_American       1      78.4 75097 15444\n",
      "- score_factor          1     441.3 75460 15474\n",
      "- African_American      1     782.5 75801 15502\n",
      "- Age_Above_FourtyFive  1    1986.9 77005 15599\n",
      "- Two_yr_Recidivism     1    2191.2 77210 15616\n",
      "- Age_Below_TwentyFive  1   15954.3 90973 16628\n",
      "- Pred_rec              1   21721.3 96740 17007\n",
      "\n",
      "Step:  AIC=15438.25\n",
      "Number_of_Priors ~ Two_yr_Recidivism + score_factor + Age_Above_FourtyFive + \n",
      "    Age_Below_TwentyFive + African_American + Hispanic + Native_American + \n",
      "    Other + Misdemeanor + Pred_rec\n",
      "\n",
      "                       Df Sum of Sq   RSS   AIC\n",
      "- Other                 1       8.3 75031 15437\n",
      "<none>                              75023 15438\n",
      "- Hispanic              1      32.5 75056 15439\n",
      "- Misdemeanor           1      67.5 75091 15442\n",
      "- Native_American       1      78.1 75101 15443\n",
      "- score_factor          1     440.4 75463 15472\n",
      "- African_American      1     778.0 75801 15500\n",
      "- Age_Above_FourtyFive  1    1988.4 77011 15598\n",
      "- Two_yr_Recidivism     1    2189.2 77212 15614\n",
      "- Age_Below_TwentyFive  1   15949.9 90973 16626\n",
      "- Pred_rec              1   21719.9 96743 17006\n",
      "\n",
      "Step:  AIC=15436.94\n",
      "Number_of_Priors ~ Two_yr_Recidivism + score_factor + Age_Above_FourtyFive + \n",
      "    Age_Below_TwentyFive + African_American + Hispanic + Native_American + \n",
      "    Misdemeanor + Pred_rec\n",
      "\n",
      "                       Df Sum of Sq   RSS   AIC\n",
      "<none>                              75031 15437\n",
      "- Hispanic              1      28.0 75059 15437\n",
      "- Misdemeanor           1      68.4 75100 15441\n",
      "- Native_American       1      76.9 75108 15441\n",
      "- score_factor          1     448.0 75479 15472\n",
      "- African_American      1     793.1 75825 15500\n",
      "- Age_Above_FourtyFive  1    1980.6 77012 15596\n",
      "- Two_yr_Recidivism     1    2188.7 77220 15612\n",
      "- Age_Below_TwentyFive  1   15941.6 90973 16624\n",
      "- Pred_rec              1   21724.6 96756 17004\n"
     ]
    },
    {
     "data": {
      "text/plain": [
       "\n",
       "Call:\n",
       "lm(formula = Number_of_Priors ~ Two_yr_Recidivism + score_factor + \n",
       "    Age_Above_FourtyFive + Age_Below_TwentyFive + African_American + \n",
       "    Hispanic + Native_American + Misdemeanor + Pred_rec, data = logit_input)\n",
       "\n",
       "Coefficients:\n",
       "         (Intercept)     Two_yr_Recidivism          score_factor  \n",
       "              0.8146                1.2832               -0.8652  \n",
       "Age_Above_FourtyFive  Age_Below_TwentyFive      African_American  \n",
       "              1.4840               -4.1508                0.7925  \n",
       "            Hispanic       Native_American           Misdemeanor  \n",
       "              0.2581                2.6528               -0.2265  \n",
       "         Pred_recpos  \n",
       "              6.4010  \n"
      ]
     },
     "metadata": {},
     "output_type": "display_data"
    }
   ],
   "source": [
    "step(modelpropub_priors,direction = 'backward')"
   ]
  },
  {
   "cell_type": "markdown",
   "metadata": {},
   "source": [
    "WE HAVE NOT TESTED ASSUMPTIONS HERE!!! KEEP THIS IN MIND!!!"
   ]
  },
  {
   "cell_type": "code",
   "execution_count": 47,
   "metadata": {},
   "outputs": [
    {
     "data": {
      "text/plain": [
       "\n",
       "Call:\n",
       "lm(formula = Number_of_Priors ~ Two_yr_Recidivism + score_factor + \n",
       "    Age_Above_FourtyFive + Age_Below_TwentyFive + African_American + \n",
       "    Female + Misdemeanor, data = logit_input)\n",
       "\n",
       "Residuals:\n",
       "   Min     1Q Median     3Q    Max \n",
       "-8.949 -2.377 -0.643  1.371 30.137 \n",
       "\n",
       "Coefficients:\n",
       "                     Estimate Std. Error t value Pr(>|t|)    \n",
       "(Intercept)            1.1959     0.1148  10.416  < 2e-16 ***\n",
       "Two_yr_Recidivism      1.8246     0.1074  16.985  < 2e-16 ***\n",
       "score_factor           3.4274     0.1131  30.309  < 2e-16 ***\n",
       "Age_Above_FourtyFive   1.3196     0.1315  10.038  < 2e-16 ***\n",
       "Age_Below_TwentyFive  -3.3948     0.1281 -26.494  < 2e-16 ***\n",
       "African_American       1.1810     0.1053  11.217  < 2e-16 ***\n",
       "Female                -0.9309     0.1289  -7.224 5.68e-13 ***\n",
       "Misdemeanor           -0.7666     0.1071  -7.160 8.99e-13 ***\n",
       "---\n",
       "Signif. codes:  0 '***' 0.001 '**' 0.01 '*' 0.05 '.' 0.1 ' ' 1\n",
       "\n",
       "Residual standard error: 3.947 on 6164 degrees of freedom\n",
       "Multiple R-squared:  0.3086,\tAdjusted R-squared:  0.3079 \n",
       "F-statistic: 393.1 on 7 and 6164 DF,  p-value: < 2.2e-16\n"
      ]
     },
     "metadata": {},
     "output_type": "display_data"
    }
   ],
   "source": [
    "modelpropub_priors_reduced <- lm(formula = Number_of_Priors ~ Two_yr_Recidivism + score_factor + \n",
    "                                   Age_Above_FourtyFive + Age_Below_TwentyFive + African_American + \n",
    "                                   Female + Misdemeanor, data = logit_input)\n",
    "summary(modelpropub_priors_reduced)"
   ]
  },
  {
   "cell_type": "markdown",
   "metadata": {},
   "source": [
    "\n",
    "Keeping in mind we still need to test assumptions, Number_of_Priors seems influenced by African_Amerinca (dummy coded IV of ethnic/race)\n"
   ]
  },
  {
   "cell_type": "code",
   "execution_count": 34,
   "metadata": {},
   "outputs": [],
   "source": [
    "########################################################################################################################\n",
    "###################################### PART 2 DATA TESTING COMPAS SCORES RAW FILES #####################################\n",
    "########################################################################################################################\n",
    "\n",
    "###################################################################################################################################\n",
    "# First, we will do \"some work\" on  compas-scores-raw.csv file\n",
    "###################################################################################################################################"
   ]
  },
  {
   "cell_type": "code",
   "execution_count": 27,
   "metadata": {},
   "outputs": [],
   "source": [
    "# To remove NA´s fields & We remove rows for Persons with \"weird\" birthdates \n",
    "compas_scores2 <- na.omit(compas_scores_raw)\n",
    "compas_scores3 <- NaRV.omit(compas_scores2)\n",
    "# No change, after running the line above. :)\n",
    "# after group virtual zoom we decided to remove these four rows:\n",
    "compas_scores4 <-compas_scores3[!(compas_scores3$Person_ID==\"51157\" | compas_scores3$Person_ID==\"57823\"),]\n",
    "compas_scores5 <-compas_scores4[!(compas_scores4$Person_ID==\"62384\" | compas_scores4$Person_ID==\"54272\"),]"
   ]
  },
  {
   "cell_type": "code",
   "execution_count": 28,
   "metadata": {},
   "outputs": [],
   "source": [
    "# We merge first and last name into a new column named ID_name & we write a new csv file on current directory\n",
    "compas_scores5$DateOfBirth <- as.Date(compas_scores5$DateOfBirth, format = \"%m/%d/%y\")\n",
    "compas_scores5$ID_name <- paste(compas_scores5$FirstName,compas_scores5$LastName, compas_scores5$DateOfBirth)\n",
    "# we change column \"name\" to \"ID_name\" & we write a new csv file on current directory\n",
    "cox_violent_parsed_filt$dob <- as.Date(cox_violent_parsed_filt$dob, format = \"%d/%m/%y\")\n",
    "cox_violent_parsed_filt$ID_name <- paste(cox_violent_parsed_filt$first, cox_violent_parsed_filt$last, cox_violent_parsed_filt$dob)"
   ]
  },
  {
   "cell_type": "code",
   "execution_count": 30,
   "metadata": {},
   "outputs": [
    {
     "data": {
      "text/html": [
       "<table>\n",
       "<thead><tr><th scope=col>Person_ID</th><th scope=col>AssessmentID</th><th scope=col>Case_ID</th><th scope=col>Agency_Text</th><th scope=col>LastName</th><th scope=col>FirstName</th><th scope=col>MiddleName</th><th scope=col>Sex_Code_Text</th><th scope=col>Ethnic_Code_Text</th><th scope=col>DateOfBirth</th><th scope=col>...</th><th scope=col>RecSupervisionLevelText</th><th scope=col>Scale_ID</th><th scope=col>DisplayText</th><th scope=col>RawScore</th><th scope=col>DecileScore</th><th scope=col>ScoreText</th><th scope=col>AssessmentType</th><th scope=col>IsCompleted</th><th scope=col>IsDeleted</th><th scope=col>ID_name</th></tr></thead>\n",
       "<tbody>\n",
       "\t<tr><td>50844                    </td><td>57167                    </td><td>51950                    </td><td>PRETRIAL                 </td><td>Fisher                   </td><td>Kevin                    </td><td>NULL                     </td><td>Male                     </td><td>Caucasian                </td><td>1992-12-05               </td><td>...                      </td><td>Low                      </td><td> 7                       </td><td>Risk of Violence         </td><td>-2.08                    </td><td>4                        </td><td>Low                      </td><td>New                      </td><td>1                        </td><td>0                        </td><td>Kevin Fisher 1992-12-05  </td></tr>\n",
       "\t<tr><td>50844                    </td><td>57167                    </td><td>51950                    </td><td>PRETRIAL                 </td><td>Fisher                   </td><td>Kevin                    </td><td>NULL                     </td><td>Male                     </td><td>Caucasian                </td><td>1992-12-05               </td><td>...                      </td><td>Low                      </td><td> 8                       </td><td>Risk of Recidivism       </td><td>-1.06                    </td><td>2                        </td><td>Low                      </td><td>New                      </td><td>1                        </td><td>0                        </td><td>Kevin Fisher 1992-12-05  </td></tr>\n",
       "\t<tr><td>50844                    </td><td>57167                    </td><td>51950                    </td><td>PRETRIAL                 </td><td>Fisher                   </td><td>Kevin                    </td><td>NULL                     </td><td>Male                     </td><td>Caucasian                </td><td>1992-12-05               </td><td>...                      </td><td>Low                      </td><td>18                       </td><td>Risk of Failure to Appear</td><td>15.00                    </td><td>1                        </td><td>Low                      </td><td>New                      </td><td>1                        </td><td>0                        </td><td>Kevin Fisher 1992-12-05  </td></tr>\n",
       "\t<tr><td>50848                    </td><td>57174                    </td><td>51956                    </td><td>PRETRIAL                 </td><td>KENDALL                  </td><td>KEVIN                    </td><td>NULL                     </td><td>Male                     </td><td>Caucasian                </td><td>1984-09-16               </td><td>...                      </td><td>Low                      </td><td> 7                       </td><td>Risk of Violence         </td><td>-2.84                    </td><td>2                        </td><td>Low                      </td><td>New                      </td><td>1                        </td><td>0                        </td><td>KEVIN KENDALL 1984-09-16 </td></tr>\n",
       "\t<tr><td>50848                    </td><td>57174                    </td><td>51956                    </td><td>PRETRIAL                 </td><td>KENDALL                  </td><td>KEVIN                    </td><td>NULL                     </td><td>Male                     </td><td>Caucasian                </td><td>1984-09-16               </td><td>...                      </td><td>Low                      </td><td> 8                       </td><td>Risk of Recidivism       </td><td>-1.50                    </td><td>1                        </td><td>Low                      </td><td>New                      </td><td>1                        </td><td>0                        </td><td>KEVIN KENDALL 1984-09-16 </td></tr>\n",
       "\t<tr><td>50848                    </td><td>57174                    </td><td>51956                    </td><td>PRETRIAL                 </td><td>KENDALL                  </td><td>KEVIN                    </td><td>NULL                     </td><td>Male                     </td><td>Caucasian                </td><td>1984-09-16               </td><td>...                      </td><td>Low                      </td><td>18                       </td><td>Risk of Failure to Appear</td><td>19.00                    </td><td>3                        </td><td>Low                      </td><td>New                      </td><td>1                        </td><td>0                        </td><td>KEVIN KENDALL 1984-09-16 </td></tr>\n",
       "</tbody>\n",
       "</table>\n"
      ],
      "text/latex": [
       "\\begin{tabular}{r|lllllllllllllllllllllllllllll}\n",
       " Person\\_ID & AssessmentID & Case\\_ID & Agency\\_Text & LastName & FirstName & MiddleName & Sex\\_Code\\_Text & Ethnic\\_Code\\_Text & DateOfBirth & ... & RecSupervisionLevelText & Scale\\_ID & DisplayText & RawScore & DecileScore & ScoreText & AssessmentType & IsCompleted & IsDeleted & ID\\_name\\\\\n",
       "\\hline\n",
       "\t 50844                     & 57167                     & 51950                     & PRETRIAL                  & Fisher                    & Kevin                     & NULL                      & Male                      & Caucasian                 & 1992-12-05                & ...                       & Low                       &  7                        & Risk of Violence          & -2.08                     & 4                         & Low                       & New                       & 1                         & 0                         & Kevin Fisher 1992-12-05  \\\\\n",
       "\t 50844                     & 57167                     & 51950                     & PRETRIAL                  & Fisher                    & Kevin                     & NULL                      & Male                      & Caucasian                 & 1992-12-05                & ...                       & Low                       &  8                        & Risk of Recidivism        & -1.06                     & 2                         & Low                       & New                       & 1                         & 0                         & Kevin Fisher 1992-12-05  \\\\\n",
       "\t 50844                     & 57167                     & 51950                     & PRETRIAL                  & Fisher                    & Kevin                     & NULL                      & Male                      & Caucasian                 & 1992-12-05                & ...                       & Low                       & 18                        & Risk of Failure to Appear & 15.00                     & 1                         & Low                       & New                       & 1                         & 0                         & Kevin Fisher 1992-12-05  \\\\\n",
       "\t 50848                     & 57174                     & 51956                     & PRETRIAL                  & KENDALL                   & KEVIN                     & NULL                      & Male                      & Caucasian                 & 1984-09-16                & ...                       & Low                       &  7                        & Risk of Violence          & -2.84                     & 2                         & Low                       & New                       & 1                         & 0                         & KEVIN KENDALL 1984-09-16 \\\\\n",
       "\t 50848                     & 57174                     & 51956                     & PRETRIAL                  & KENDALL                   & KEVIN                     & NULL                      & Male                      & Caucasian                 & 1984-09-16                & ...                       & Low                       &  8                        & Risk of Recidivism        & -1.50                     & 1                         & Low                       & New                       & 1                         & 0                         & KEVIN KENDALL 1984-09-16 \\\\\n",
       "\t 50848                     & 57174                     & 51956                     & PRETRIAL                  & KENDALL                   & KEVIN                     & NULL                      & Male                      & Caucasian                 & 1984-09-16                & ...                       & Low                       & 18                        & Risk of Failure to Appear & 19.00                     & 3                         & Low                       & New                       & 1                         & 0                         & KEVIN KENDALL 1984-09-16 \\\\\n",
       "\\end{tabular}\n"
      ],
      "text/markdown": [
       "\n",
       "| Person_ID | AssessmentID | Case_ID | Agency_Text | LastName | FirstName | MiddleName | Sex_Code_Text | Ethnic_Code_Text | DateOfBirth | ... | RecSupervisionLevelText | Scale_ID | DisplayText | RawScore | DecileScore | ScoreText | AssessmentType | IsCompleted | IsDeleted | ID_name |\n",
       "|---|---|---|---|---|---|---|---|---|---|---|---|---|---|---|---|---|---|---|---|---|\n",
       "| 50844                     | 57167                     | 51950                     | PRETRIAL                  | Fisher                    | Kevin                     | NULL                      | Male                      | Caucasian                 | 1992-12-05                | ...                       | Low                       |  7                        | Risk of Violence          | -2.08                     | 4                         | Low                       | New                       | 1                         | 0                         | Kevin Fisher 1992-12-05   |\n",
       "| 50844                     | 57167                     | 51950                     | PRETRIAL                  | Fisher                    | Kevin                     | NULL                      | Male                      | Caucasian                 | 1992-12-05                | ...                       | Low                       |  8                        | Risk of Recidivism        | -1.06                     | 2                         | Low                       | New                       | 1                         | 0                         | Kevin Fisher 1992-12-05   |\n",
       "| 50844                     | 57167                     | 51950                     | PRETRIAL                  | Fisher                    | Kevin                     | NULL                      | Male                      | Caucasian                 | 1992-12-05                | ...                       | Low                       | 18                        | Risk of Failure to Appear | 15.00                     | 1                         | Low                       | New                       | 1                         | 0                         | Kevin Fisher 1992-12-05   |\n",
       "| 50848                     | 57174                     | 51956                     | PRETRIAL                  | KENDALL                   | KEVIN                     | NULL                      | Male                      | Caucasian                 | 1984-09-16                | ...                       | Low                       |  7                        | Risk of Violence          | -2.84                     | 2                         | Low                       | New                       | 1                         | 0                         | KEVIN KENDALL 1984-09-16  |\n",
       "| 50848                     | 57174                     | 51956                     | PRETRIAL                  | KENDALL                   | KEVIN                     | NULL                      | Male                      | Caucasian                 | 1984-09-16                | ...                       | Low                       |  8                        | Risk of Recidivism        | -1.50                     | 1                         | Low                       | New                       | 1                         | 0                         | KEVIN KENDALL 1984-09-16  |\n",
       "| 50848                     | 57174                     | 51956                     | PRETRIAL                  | KENDALL                   | KEVIN                     | NULL                      | Male                      | Caucasian                 | 1984-09-16                | ...                       | Low                       | 18                        | Risk of Failure to Appear | 19.00                     | 3                         | Low                       | New                       | 1                         | 0                         | KEVIN KENDALL 1984-09-16  |\n",
       "\n"
      ],
      "text/plain": [
       "  Person_ID AssessmentID Case_ID Agency_Text LastName FirstName MiddleName\n",
       "1 50844     57167        51950   PRETRIAL    Fisher   Kevin     NULL      \n",
       "2 50844     57167        51950   PRETRIAL    Fisher   Kevin     NULL      \n",
       "3 50844     57167        51950   PRETRIAL    Fisher   Kevin     NULL      \n",
       "4 50848     57174        51956   PRETRIAL    KENDALL  KEVIN     NULL      \n",
       "5 50848     57174        51956   PRETRIAL    KENDALL  KEVIN     NULL      \n",
       "6 50848     57174        51956   PRETRIAL    KENDALL  KEVIN     NULL      \n",
       "  Sex_Code_Text Ethnic_Code_Text DateOfBirth ... RecSupervisionLevelText\n",
       "1 Male          Caucasian        1992-12-05  ... Low                    \n",
       "2 Male          Caucasian        1992-12-05  ... Low                    \n",
       "3 Male          Caucasian        1992-12-05  ... Low                    \n",
       "4 Male          Caucasian        1984-09-16  ... Low                    \n",
       "5 Male          Caucasian        1984-09-16  ... Low                    \n",
       "6 Male          Caucasian        1984-09-16  ... Low                    \n",
       "  Scale_ID DisplayText               RawScore DecileScore ScoreText\n",
       "1  7       Risk of Violence          -2.08    4           Low      \n",
       "2  8       Risk of Recidivism        -1.06    2           Low      \n",
       "3 18       Risk of Failure to Appear 15.00    1           Low      \n",
       "4  7       Risk of Violence          -2.84    2           Low      \n",
       "5  8       Risk of Recidivism        -1.50    1           Low      \n",
       "6 18       Risk of Failure to Appear 19.00    3           Low      \n",
       "  AssessmentType IsCompleted IsDeleted ID_name                 \n",
       "1 New            1           0         Kevin Fisher 1992-12-05 \n",
       "2 New            1           0         Kevin Fisher 1992-12-05 \n",
       "3 New            1           0         Kevin Fisher 1992-12-05 \n",
       "4 New            1           0         KEVIN KENDALL 1984-09-16\n",
       "5 New            1           0         KEVIN KENDALL 1984-09-16\n",
       "6 New            1           0         KEVIN KENDALL 1984-09-16"
      ]
     },
     "metadata": {},
     "output_type": "display_data"
    }
   ],
   "source": [
    "head(compas_scores5)"
   ]
  },
  {
   "cell_type": "code",
   "execution_count": 31,
   "metadata": {},
   "outputs": [
    {
     "data": {
      "text/html": [
       "<table>\n",
       "<thead><tr><th scope=col>id</th><th scope=col>name</th><th scope=col>first</th><th scope=col>last</th><th scope=col>sex</th><th scope=col>dob</th><th scope=col>age</th><th scope=col>age_cat</th><th scope=col>race</th><th scope=col>juv_fel_count</th><th scope=col>...</th><th scope=col>type_of_assessment</th><th scope=col>decile_score_1</th><th scope=col>score_text</th><th scope=col>screening_date</th><th scope=col>v_type_of_assessment</th><th scope=col>v_decile_score</th><th scope=col>v_score_text</th><th scope=col>priors_count_1</th><th scope=col>event</th><th scope=col>ID_name</th></tr></thead>\n",
       "<tbody>\n",
       "\t<tr><td>1                          </td><td>miguel hernandez           </td><td>miguel                     </td><td>hernandez                  </td><td>Male                       </td><td>2019-04-18                 </td><td>69                         </td><td>Greater than 45            </td><td>Other                      </td><td>0                          </td><td>...                        </td><td>Risk of Recidivism         </td><td>1                          </td><td>Low                        </td><td>14/08/2013                 </td><td>Risk of Violence           </td><td>1                          </td><td>Low                        </td><td>0                          </td><td>0                          </td><td>miguel hernandez 2019-04-18</td></tr>\n",
       "\t<tr><td>2                          </td><td>miguel hernandez           </td><td>miguel                     </td><td>hernandez                  </td><td>Male                       </td><td>2019-04-18                 </td><td>69                         </td><td>Greater than 45            </td><td>Other                      </td><td>0                          </td><td>...                        </td><td>Risk of Recidivism         </td><td>1                          </td><td>Low                        </td><td>14/08/2013                 </td><td>Risk of Violence           </td><td>1                          </td><td>Low                        </td><td>0                          </td><td>0                          </td><td>miguel hernandez 2019-04-18</td></tr>\n",
       "\t<tr><td>3                          </td><td>michael ryan               </td><td>michael                    </td><td>ryan                       </td><td>Male                       </td><td>2019-02-06                 </td><td>31                         </td><td>25 - 45                    </td><td>Caucasian                  </td><td>0                          </td><td>...                        </td><td>Risk of Recidivism         </td><td>5                          </td><td>Medium                     </td><td>31/12/2014                 </td><td>Risk of Violence           </td><td>2                          </td><td>Low                        </td><td>0                          </td><td>0                          </td><td>michael ryan 2019-02-06    </td></tr>\n",
       "\t<tr><td>4                          </td><td>kevon dixon                </td><td>kevon                      </td><td>dixon                      </td><td>Male                       </td><td>2019-01-22                 </td><td>34                         </td><td>25 - 45                    </td><td>African-American           </td><td>0                          </td><td>...                        </td><td>Risk of Recidivism         </td><td>3                          </td><td>Low                        </td><td>27/01/2013                 </td><td>Risk of Violence           </td><td>1                          </td><td>Low                        </td><td>0                          </td><td>1                          </td><td>kevon dixon 2019-01-22     </td></tr>\n",
       "\t<tr><td>5                          </td><td>ed philo                   </td><td>ed                         </td><td>philo                      </td><td>Male                       </td><td>2019-05-14                 </td><td>24                         </td><td>Less than 25               </td><td>African-American           </td><td>0                          </td><td>...                        </td><td>Risk of Recidivism         </td><td>4                          </td><td>Low                        </td><td>14/04/2013                 </td><td>Risk of Violence           </td><td>3                          </td><td>Low                        </td><td>4                          </td><td>0                          </td><td>ed philo 2019-05-14        </td></tr>\n",
       "\t<tr><td>6                          </td><td>ed philo                   </td><td>ed                         </td><td>philo                      </td><td>Male                       </td><td>2019-05-14                 </td><td>24                         </td><td>Less than 25               </td><td>African-American           </td><td>0                          </td><td>...                        </td><td>Risk of Recidivism         </td><td>4                          </td><td>Low                        </td><td>14/04/2013                 </td><td>Risk of Violence           </td><td>3                          </td><td>Low                        </td><td>4                          </td><td>0                          </td><td>ed philo 2019-05-14        </td></tr>\n",
       "</tbody>\n",
       "</table>\n"
      ],
      "text/latex": [
       "\\begin{tabular}{r|lllllllllllllllllllllllllllllllllllllllll}\n",
       " id & name & first & last & sex & dob & age & age\\_cat & race & juv\\_fel\\_count & ... & type\\_of\\_assessment & decile\\_score\\_1 & score\\_text & screening\\_date & v\\_type\\_of\\_assessment & v\\_decile\\_score & v\\_score\\_text & priors\\_count\\_1 & event & ID\\_name\\\\\n",
       "\\hline\n",
       "\t 1                           & miguel hernandez            & miguel                      & hernandez                   & Male                        & 2019-04-18                  & 69                          & Greater than 45             & Other                       & 0                           & ...                         & Risk of Recidivism          & 1                           & Low                         & 14/08/2013                  & Risk of Violence            & 1                           & Low                         & 0                           & 0                           & miguel hernandez 2019-04-18\\\\\n",
       "\t 2                           & miguel hernandez            & miguel                      & hernandez                   & Male                        & 2019-04-18                  & 69                          & Greater than 45             & Other                       & 0                           & ...                         & Risk of Recidivism          & 1                           & Low                         & 14/08/2013                  & Risk of Violence            & 1                           & Low                         & 0                           & 0                           & miguel hernandez 2019-04-18\\\\\n",
       "\t 3                           & michael ryan                & michael                     & ryan                        & Male                        & 2019-02-06                  & 31                          & 25 - 45                     & Caucasian                   & 0                           & ...                         & Risk of Recidivism          & 5                           & Medium                      & 31/12/2014                  & Risk of Violence            & 2                           & Low                         & 0                           & 0                           & michael ryan 2019-02-06    \\\\\n",
       "\t 4                           & kevon dixon                 & kevon                       & dixon                       & Male                        & 2019-01-22                  & 34                          & 25 - 45                     & African-American            & 0                           & ...                         & Risk of Recidivism          & 3                           & Low                         & 27/01/2013                  & Risk of Violence            & 1                           & Low                         & 0                           & 1                           & kevon dixon 2019-01-22     \\\\\n",
       "\t 5                           & ed philo                    & ed                          & philo                       & Male                        & 2019-05-14                  & 24                          & Less than 25                & African-American            & 0                           & ...                         & Risk of Recidivism          & 4                           & Low                         & 14/04/2013                  & Risk of Violence            & 3                           & Low                         & 4                           & 0                           & ed philo 2019-05-14        \\\\\n",
       "\t 6                           & ed philo                    & ed                          & philo                       & Male                        & 2019-05-14                  & 24                          & Less than 25                & African-American            & 0                           & ...                         & Risk of Recidivism          & 4                           & Low                         & 14/04/2013                  & Risk of Violence            & 3                           & Low                         & 4                           & 0                           & ed philo 2019-05-14        \\\\\n",
       "\\end{tabular}\n"
      ],
      "text/markdown": [
       "\n",
       "| id | name | first | last | sex | dob | age | age_cat | race | juv_fel_count | ... | type_of_assessment | decile_score_1 | score_text | screening_date | v_type_of_assessment | v_decile_score | v_score_text | priors_count_1 | event | ID_name |\n",
       "|---|---|---|---|---|---|---|---|---|---|---|---|---|---|---|---|---|---|---|---|---|\n",
       "| 1                           | miguel hernandez            | miguel                      | hernandez                   | Male                        | 2019-04-18                  | 69                          | Greater than 45             | Other                       | 0                           | ...                         | Risk of Recidivism          | 1                           | Low                         | 14/08/2013                  | Risk of Violence            | 1                           | Low                         | 0                           | 0                           | miguel hernandez 2019-04-18 |\n",
       "| 2                           | miguel hernandez            | miguel                      | hernandez                   | Male                        | 2019-04-18                  | 69                          | Greater than 45             | Other                       | 0                           | ...                         | Risk of Recidivism          | 1                           | Low                         | 14/08/2013                  | Risk of Violence            | 1                           | Low                         | 0                           | 0                           | miguel hernandez 2019-04-18 |\n",
       "| 3                           | michael ryan                | michael                     | ryan                        | Male                        | 2019-02-06                  | 31                          | 25 - 45                     | Caucasian                   | 0                           | ...                         | Risk of Recidivism          | 5                           | Medium                      | 31/12/2014                  | Risk of Violence            | 2                           | Low                         | 0                           | 0                           | michael ryan 2019-02-06     |\n",
       "| 4                           | kevon dixon                 | kevon                       | dixon                       | Male                        | 2019-01-22                  | 34                          | 25 - 45                     | African-American            | 0                           | ...                         | Risk of Recidivism          | 3                           | Low                         | 27/01/2013                  | Risk of Violence            | 1                           | Low                         | 0                           | 1                           | kevon dixon 2019-01-22      |\n",
       "| 5                           | ed philo                    | ed                          | philo                       | Male                        | 2019-05-14                  | 24                          | Less than 25                | African-American            | 0                           | ...                         | Risk of Recidivism          | 4                           | Low                         | 14/04/2013                  | Risk of Violence            | 3                           | Low                         | 4                           | 0                           | ed philo 2019-05-14         |\n",
       "| 6                           | ed philo                    | ed                          | philo                       | Male                        | 2019-05-14                  | 24                          | Less than 25                | African-American            | 0                           | ...                         | Risk of Recidivism          | 4                           | Low                         | 14/04/2013                  | Risk of Violence            | 3                           | Low                         | 4                           | 0                           | ed philo 2019-05-14         |\n",
       "\n"
      ],
      "text/plain": [
       "  id name             first   last      sex  dob        age age_cat        \n",
       "1 1  miguel hernandez miguel  hernandez Male 2019-04-18 69  Greater than 45\n",
       "2 2  miguel hernandez miguel  hernandez Male 2019-04-18 69  Greater than 45\n",
       "3 3  michael ryan     michael ryan      Male 2019-02-06 31  25 - 45        \n",
       "4 4  kevon dixon      kevon   dixon     Male 2019-01-22 34  25 - 45        \n",
       "5 5  ed philo         ed      philo     Male 2019-05-14 24  Less than 25   \n",
       "6 6  ed philo         ed      philo     Male 2019-05-14 24  Less than 25   \n",
       "  race             juv_fel_count ... type_of_assessment decile_score_1\n",
       "1 Other            0             ... Risk of Recidivism 1             \n",
       "2 Other            0             ... Risk of Recidivism 1             \n",
       "3 Caucasian        0             ... Risk of Recidivism 5             \n",
       "4 African-American 0             ... Risk of Recidivism 3             \n",
       "5 African-American 0             ... Risk of Recidivism 4             \n",
       "6 African-American 0             ... Risk of Recidivism 4             \n",
       "  score_text screening_date v_type_of_assessment v_decile_score v_score_text\n",
       "1 Low        14/08/2013     Risk of Violence     1              Low         \n",
       "2 Low        14/08/2013     Risk of Violence     1              Low         \n",
       "3 Medium     31/12/2014     Risk of Violence     2              Low         \n",
       "4 Low        27/01/2013     Risk of Violence     1              Low         \n",
       "5 Low        14/04/2013     Risk of Violence     3              Low         \n",
       "6 Low        14/04/2013     Risk of Violence     3              Low         \n",
       "  priors_count_1 event ID_name                    \n",
       "1 0              0     miguel hernandez 2019-04-18\n",
       "2 0              0     miguel hernandez 2019-04-18\n",
       "3 0              0     michael ryan 2019-02-06    \n",
       "4 0              1     kevon dixon 2019-01-22     \n",
       "5 4              0     ed philo 2019-05-14        \n",
       "6 4              0     ed philo 2019-05-14        "
      ]
     },
     "metadata": {},
     "output_type": "display_data"
    }
   ],
   "source": [
    "head(cox_violent_parsed_filt)"
   ]
  },
  {
   "cell_type": "code",
   "execution_count": 32,
   "metadata": {},
   "outputs": [],
   "source": [
    "################################################\n",
    "#       THEN WE REMOVE SOME COLUMNS :          #\n",
    "################################################\n",
    "# Next step, we create a vector \"drofromraw\"with all colunms selected for removal. (feel free to change if needed)"
   ]
  },
  {
   "cell_type": "code",
   "execution_count": 35,
   "metadata": {},
   "outputs": [],
   "source": [
    "dropfromraw <- c(\"Person_ID\", \"AssessmentID\", \"Case_ID\", \"LastName\", \"FirstName\", \"MiddleName\", \"Screening_Date\", \"ScaleSet\", \"Screening_Date\", \"RecSupervisionLevelText\", \"DisplayText\", \"RawScore\", \"AssessmentReason\",\"IsCompleted\", \"IsDeleted\",\"ID_name\")\n",
    "compas_scores_redcol = compas_scores5[,!(names(compas_scores5) %in% dropfromraw)]"
   ]
  },
  {
   "cell_type": "code",
   "execution_count": 36,
   "metadata": {},
   "outputs": [
    {
     "data": {
      "text/html": [
       "<table>\n",
       "<thead><tr><th scope=col>Agency_Text</th><th scope=col>Sex_Code_Text</th><th scope=col>Ethnic_Code_Text</th><th scope=col>DateOfBirth</th><th scope=col>ScaleSet_ID</th><th scope=col>Language</th><th scope=col>LegalStatus</th><th scope=col>CustodyStatus</th><th scope=col>MaritalStatus</th><th scope=col>RecSupervisionLevel</th><th scope=col>Scale_ID</th><th scope=col>DecileScore</th><th scope=col>ScoreText</th><th scope=col>AssessmentType</th></tr></thead>\n",
       "<tbody>\n",
       "\t<tr><td>PRETRIAL   </td><td>Male       </td><td>Caucasian  </td><td>1992-12-05 </td><td>22         </td><td>English    </td><td>Pretrial   </td><td>Jail Inmate</td><td>Single     </td><td>1          </td><td> 7         </td><td>4          </td><td>Low        </td><td>New        </td></tr>\n",
       "\t<tr><td>PRETRIAL   </td><td>Male       </td><td>Caucasian  </td><td>1992-12-05 </td><td>22         </td><td>English    </td><td>Pretrial   </td><td>Jail Inmate</td><td>Single     </td><td>1          </td><td> 8         </td><td>2          </td><td>Low        </td><td>New        </td></tr>\n",
       "\t<tr><td>PRETRIAL   </td><td>Male       </td><td>Caucasian  </td><td>1992-12-05 </td><td>22         </td><td>English    </td><td>Pretrial   </td><td>Jail Inmate</td><td>Single     </td><td>1          </td><td>18         </td><td>1          </td><td>Low        </td><td>New        </td></tr>\n",
       "\t<tr><td>PRETRIAL   </td><td>Male       </td><td>Caucasian  </td><td>1984-09-16 </td><td>22         </td><td>English    </td><td>Pretrial   </td><td>Jail Inmate</td><td>Married    </td><td>1          </td><td> 7         </td><td>2          </td><td>Low        </td><td>New        </td></tr>\n",
       "\t<tr><td>PRETRIAL   </td><td>Male       </td><td>Caucasian  </td><td>1984-09-16 </td><td>22         </td><td>English    </td><td>Pretrial   </td><td>Jail Inmate</td><td>Married    </td><td>1          </td><td> 8         </td><td>1          </td><td>Low        </td><td>New        </td></tr>\n",
       "\t<tr><td>PRETRIAL   </td><td>Male       </td><td>Caucasian  </td><td>1984-09-16 </td><td>22         </td><td>English    </td><td>Pretrial   </td><td>Jail Inmate</td><td>Married    </td><td>1          </td><td>18         </td><td>3          </td><td>Low        </td><td>New        </td></tr>\n",
       "</tbody>\n",
       "</table>\n"
      ],
      "text/latex": [
       "\\begin{tabular}{r|llllllllllllll}\n",
       " Agency\\_Text & Sex\\_Code\\_Text & Ethnic\\_Code\\_Text & DateOfBirth & ScaleSet\\_ID & Language & LegalStatus & CustodyStatus & MaritalStatus & RecSupervisionLevel & Scale\\_ID & DecileScore & ScoreText & AssessmentType\\\\\n",
       "\\hline\n",
       "\t PRETRIAL    & Male        & Caucasian   & 1992-12-05  & 22          & English     & Pretrial    & Jail Inmate & Single      & 1           &  7          & 4           & Low         & New        \\\\\n",
       "\t PRETRIAL    & Male        & Caucasian   & 1992-12-05  & 22          & English     & Pretrial    & Jail Inmate & Single      & 1           &  8          & 2           & Low         & New        \\\\\n",
       "\t PRETRIAL    & Male        & Caucasian   & 1992-12-05  & 22          & English     & Pretrial    & Jail Inmate & Single      & 1           & 18          & 1           & Low         & New        \\\\\n",
       "\t PRETRIAL    & Male        & Caucasian   & 1984-09-16  & 22          & English     & Pretrial    & Jail Inmate & Married     & 1           &  7          & 2           & Low         & New        \\\\\n",
       "\t PRETRIAL    & Male        & Caucasian   & 1984-09-16  & 22          & English     & Pretrial    & Jail Inmate & Married     & 1           &  8          & 1           & Low         & New        \\\\\n",
       "\t PRETRIAL    & Male        & Caucasian   & 1984-09-16  & 22          & English     & Pretrial    & Jail Inmate & Married     & 1           & 18          & 3           & Low         & New        \\\\\n",
       "\\end{tabular}\n"
      ],
      "text/markdown": [
       "\n",
       "| Agency_Text | Sex_Code_Text | Ethnic_Code_Text | DateOfBirth | ScaleSet_ID | Language | LegalStatus | CustodyStatus | MaritalStatus | RecSupervisionLevel | Scale_ID | DecileScore | ScoreText | AssessmentType |\n",
       "|---|---|---|---|---|---|---|---|---|---|---|---|---|---|\n",
       "| PRETRIAL    | Male        | Caucasian   | 1992-12-05  | 22          | English     | Pretrial    | Jail Inmate | Single      | 1           |  7          | 4           | Low         | New         |\n",
       "| PRETRIAL    | Male        | Caucasian   | 1992-12-05  | 22          | English     | Pretrial    | Jail Inmate | Single      | 1           |  8          | 2           | Low         | New         |\n",
       "| PRETRIAL    | Male        | Caucasian   | 1992-12-05  | 22          | English     | Pretrial    | Jail Inmate | Single      | 1           | 18          | 1           | Low         | New         |\n",
       "| PRETRIAL    | Male        | Caucasian   | 1984-09-16  | 22          | English     | Pretrial    | Jail Inmate | Married     | 1           |  7          | 2           | Low         | New         |\n",
       "| PRETRIAL    | Male        | Caucasian   | 1984-09-16  | 22          | English     | Pretrial    | Jail Inmate | Married     | 1           |  8          | 1           | Low         | New         |\n",
       "| PRETRIAL    | Male        | Caucasian   | 1984-09-16  | 22          | English     | Pretrial    | Jail Inmate | Married     | 1           | 18          | 3           | Low         | New         |\n",
       "\n"
      ],
      "text/plain": [
       "  Agency_Text Sex_Code_Text Ethnic_Code_Text DateOfBirth ScaleSet_ID Language\n",
       "1 PRETRIAL    Male          Caucasian        1992-12-05  22          English \n",
       "2 PRETRIAL    Male          Caucasian        1992-12-05  22          English \n",
       "3 PRETRIAL    Male          Caucasian        1992-12-05  22          English \n",
       "4 PRETRIAL    Male          Caucasian        1984-09-16  22          English \n",
       "5 PRETRIAL    Male          Caucasian        1984-09-16  22          English \n",
       "6 PRETRIAL    Male          Caucasian        1984-09-16  22          English \n",
       "  LegalStatus CustodyStatus MaritalStatus RecSupervisionLevel Scale_ID\n",
       "1 Pretrial    Jail Inmate   Single        1                    7      \n",
       "2 Pretrial    Jail Inmate   Single        1                    8      \n",
       "3 Pretrial    Jail Inmate   Single        1                   18      \n",
       "4 Pretrial    Jail Inmate   Married       1                    7      \n",
       "5 Pretrial    Jail Inmate   Married       1                    8      \n",
       "6 Pretrial    Jail Inmate   Married       1                   18      \n",
       "  DecileScore ScoreText AssessmentType\n",
       "1 4           Low       New           \n",
       "2 2           Low       New           \n",
       "3 1           Low       New           \n",
       "4 2           Low       New           \n",
       "5 1           Low       New           \n",
       "6 3           Low       New           "
      ]
     },
     "metadata": {},
     "output_type": "display_data"
    }
   ],
   "source": [
    "head(compas_scores_redcol)"
   ]
  },
  {
   "cell_type": "code",
   "execution_count": 37,
   "metadata": {},
   "outputs": [
    {
     "data": {
      "text/plain": [
       " Agency_Text        Sex_Code_Text      Ethnic_Code_Text    DateOfBirth        \n",
       " Length:60831       Length:60831       Length:60831       Min.   :1969-01-01  \n",
       " Class :character   Class :character   Class :character   1st Qu.:1981-09-20  \n",
       " Mode  :character   Mode  :character   Mode  :character   Median :1988-09-26  \n",
       "                                                          Mean   :2000-11-09  \n",
       "                                                          3rd Qu.:1994-11-01  \n",
       "                                                          Max.   :2068-12-28  \n",
       "  ScaleSet_ID      Language         LegalStatus        CustodyStatus     \n",
       " Min.   :17.00   Length:60831       Length:60831       Length:60831      \n",
       " 1st Qu.:22.00   Class :character   Class :character   Class :character  \n",
       " Median :22.00   Mode  :character   Mode  :character   Mode  :character  \n",
       " Mean   :21.82                                                           \n",
       " 3rd Qu.:22.00                                                           \n",
       " Max.   :22.00                                                           \n",
       " MaritalStatus      RecSupervisionLevel    Scale_ID   DecileScore    \n",
       " Length:60831       Min.   :1.00        Min.   : 7   Min.   :-1.000  \n",
       " Class :character   1st Qu.:1.00        1st Qu.: 7   1st Qu.: 1.000  \n",
       " Mode  :character   Median :1.00        Median : 8   Median : 3.000  \n",
       "                    Mean   :1.63        Mean   :11   Mean   : 3.572  \n",
       "                    3rd Qu.:2.00        3rd Qu.:18   3rd Qu.: 5.000  \n",
       "                    Max.   :4.00        Max.   :18   Max.   :10.000  \n",
       "  ScoreText         AssessmentType    \n",
       " Length:60831       Length:60831      \n",
       " Class :character   Class :character  \n",
       " Mode  :character   Mode  :character  \n",
       "                                      \n",
       "                                      \n",
       "                                      "
      ]
     },
     "metadata": {},
     "output_type": "display_data"
    }
   ],
   "source": [
    "summary(compas_scores_redcol)"
   ]
  },
  {
   "cell_type": "code",
   "execution_count": 38,
   "metadata": {},
   "outputs": [],
   "source": [
    "# We recode DateOfBirth as a date field, Otherwise problems arise!!!\n",
    "compas_scores_redcoldate <- compas_scores_redcol\n",
    "compas_scores_redcoldate$DateOfBirth <- as.Date(compas_scores_redcoldate$DateOfBirth, format = \"%m/%d/%y\")\n",
    "# We convert from \"chr\" to factors using as.factor() function for all the remaining columns that are not continuous IV\n",
    "compas_scores_redcoldate$Agency_Text <- as.factor(compas_scores_redcoldate$Agency_Text)\n",
    "compas_scores_redcoldate$Sex_Code_Text <- as.factor(compas_scores_redcoldate$Sex_Code_Text)\n",
    "compas_scores_redcoldate$Ethnic_Code_Text <- as.factor(compas_scores_redcoldate$Ethnic_Code_Text)\n",
    "compas_scores_redcoldate$Language <- as.factor(compas_scores_redcoldate$Language)\n",
    "compas_scores_redcoldate$LegalStatus <- as.factor(compas_scores_redcoldate$LegalStatus)\n",
    "compas_scores_redcoldate$CustodyStatus <- as.factor(compas_scores_redcoldate$CustodyStatus)\n",
    "compas_scores_redcoldate$MaritalStatus <- as.factor(compas_scores_redcoldate$MaritalStatus)\n",
    "compas_scores_redcoldate$ScoreText <- as.factor(compas_scores_redcoldate$ScoreText)"
   ]
  },
  {
   "cell_type": "markdown",
   "metadata": {},
   "source": [
    "We perform a \"visual check\" on our dataframe"
   ]
  },
  {
   "cell_type": "code",
   "execution_count": 39,
   "metadata": {},
   "outputs": [
    {
     "data": {
      "text/html": [
       "<table>\n",
       "<thead><tr><th scope=col>Agency_Text</th><th scope=col>Sex_Code_Text</th><th scope=col>Ethnic_Code_Text</th><th scope=col>DateOfBirth</th><th scope=col>ScaleSet_ID</th><th scope=col>Language</th><th scope=col>LegalStatus</th><th scope=col>CustodyStatus</th><th scope=col>MaritalStatus</th><th scope=col>RecSupervisionLevel</th><th scope=col>Scale_ID</th><th scope=col>DecileScore</th><th scope=col>ScoreText</th><th scope=col>AssessmentType</th></tr></thead>\n",
       "<tbody>\n",
       "\t<tr><td>PRETRIAL   </td><td>Male       </td><td>Caucasian  </td><td>1992-12-05 </td><td>22         </td><td>English    </td><td>Pretrial   </td><td>Jail Inmate</td><td>Single     </td><td>1          </td><td> 7         </td><td>4          </td><td>Low        </td><td>New        </td></tr>\n",
       "\t<tr><td>PRETRIAL   </td><td>Male       </td><td>Caucasian  </td><td>1992-12-05 </td><td>22         </td><td>English    </td><td>Pretrial   </td><td>Jail Inmate</td><td>Single     </td><td>1          </td><td> 8         </td><td>2          </td><td>Low        </td><td>New        </td></tr>\n",
       "\t<tr><td>PRETRIAL   </td><td>Male       </td><td>Caucasian  </td><td>1992-12-05 </td><td>22         </td><td>English    </td><td>Pretrial   </td><td>Jail Inmate</td><td>Single     </td><td>1          </td><td>18         </td><td>1          </td><td>Low        </td><td>New        </td></tr>\n",
       "\t<tr><td>PRETRIAL   </td><td>Male       </td><td>Caucasian  </td><td>1984-09-16 </td><td>22         </td><td>English    </td><td>Pretrial   </td><td>Jail Inmate</td><td>Married    </td><td>1          </td><td> 7         </td><td>2          </td><td>Low        </td><td>New        </td></tr>\n",
       "\t<tr><td>PRETRIAL   </td><td>Male       </td><td>Caucasian  </td><td>1984-09-16 </td><td>22         </td><td>English    </td><td>Pretrial   </td><td>Jail Inmate</td><td>Married    </td><td>1          </td><td> 8         </td><td>1          </td><td>Low        </td><td>New        </td></tr>\n",
       "\t<tr><td>PRETRIAL   </td><td>Male       </td><td>Caucasian  </td><td>1984-09-16 </td><td>22         </td><td>English    </td><td>Pretrial   </td><td>Jail Inmate</td><td>Married    </td><td>1          </td><td>18         </td><td>3          </td><td>Low        </td><td>New        </td></tr>\n",
       "</tbody>\n",
       "</table>\n"
      ],
      "text/latex": [
       "\\begin{tabular}{r|llllllllllllll}\n",
       " Agency\\_Text & Sex\\_Code\\_Text & Ethnic\\_Code\\_Text & DateOfBirth & ScaleSet\\_ID & Language & LegalStatus & CustodyStatus & MaritalStatus & RecSupervisionLevel & Scale\\_ID & DecileScore & ScoreText & AssessmentType\\\\\n",
       "\\hline\n",
       "\t PRETRIAL    & Male        & Caucasian   & 1992-12-05  & 22          & English     & Pretrial    & Jail Inmate & Single      & 1           &  7          & 4           & Low         & New        \\\\\n",
       "\t PRETRIAL    & Male        & Caucasian   & 1992-12-05  & 22          & English     & Pretrial    & Jail Inmate & Single      & 1           &  8          & 2           & Low         & New        \\\\\n",
       "\t PRETRIAL    & Male        & Caucasian   & 1992-12-05  & 22          & English     & Pretrial    & Jail Inmate & Single      & 1           & 18          & 1           & Low         & New        \\\\\n",
       "\t PRETRIAL    & Male        & Caucasian   & 1984-09-16  & 22          & English     & Pretrial    & Jail Inmate & Married     & 1           &  7          & 2           & Low         & New        \\\\\n",
       "\t PRETRIAL    & Male        & Caucasian   & 1984-09-16  & 22          & English     & Pretrial    & Jail Inmate & Married     & 1           &  8          & 1           & Low         & New        \\\\\n",
       "\t PRETRIAL    & Male        & Caucasian   & 1984-09-16  & 22          & English     & Pretrial    & Jail Inmate & Married     & 1           & 18          & 3           & Low         & New        \\\\\n",
       "\\end{tabular}\n"
      ],
      "text/markdown": [
       "\n",
       "| Agency_Text | Sex_Code_Text | Ethnic_Code_Text | DateOfBirth | ScaleSet_ID | Language | LegalStatus | CustodyStatus | MaritalStatus | RecSupervisionLevel | Scale_ID | DecileScore | ScoreText | AssessmentType |\n",
       "|---|---|---|---|---|---|---|---|---|---|---|---|---|---|\n",
       "| PRETRIAL    | Male        | Caucasian   | 1992-12-05  | 22          | English     | Pretrial    | Jail Inmate | Single      | 1           |  7          | 4           | Low         | New         |\n",
       "| PRETRIAL    | Male        | Caucasian   | 1992-12-05  | 22          | English     | Pretrial    | Jail Inmate | Single      | 1           |  8          | 2           | Low         | New         |\n",
       "| PRETRIAL    | Male        | Caucasian   | 1992-12-05  | 22          | English     | Pretrial    | Jail Inmate | Single      | 1           | 18          | 1           | Low         | New         |\n",
       "| PRETRIAL    | Male        | Caucasian   | 1984-09-16  | 22          | English     | Pretrial    | Jail Inmate | Married     | 1           |  7          | 2           | Low         | New         |\n",
       "| PRETRIAL    | Male        | Caucasian   | 1984-09-16  | 22          | English     | Pretrial    | Jail Inmate | Married     | 1           |  8          | 1           | Low         | New         |\n",
       "| PRETRIAL    | Male        | Caucasian   | 1984-09-16  | 22          | English     | Pretrial    | Jail Inmate | Married     | 1           | 18          | 3           | Low         | New         |\n",
       "\n"
      ],
      "text/plain": [
       "  Agency_Text Sex_Code_Text Ethnic_Code_Text DateOfBirth ScaleSet_ID Language\n",
       "1 PRETRIAL    Male          Caucasian        1992-12-05  22          English \n",
       "2 PRETRIAL    Male          Caucasian        1992-12-05  22          English \n",
       "3 PRETRIAL    Male          Caucasian        1992-12-05  22          English \n",
       "4 PRETRIAL    Male          Caucasian        1984-09-16  22          English \n",
       "5 PRETRIAL    Male          Caucasian        1984-09-16  22          English \n",
       "6 PRETRIAL    Male          Caucasian        1984-09-16  22          English \n",
       "  LegalStatus CustodyStatus MaritalStatus RecSupervisionLevel Scale_ID\n",
       "1 Pretrial    Jail Inmate   Single        1                    7      \n",
       "2 Pretrial    Jail Inmate   Single        1                    8      \n",
       "3 Pretrial    Jail Inmate   Single        1                   18      \n",
       "4 Pretrial    Jail Inmate   Married       1                    7      \n",
       "5 Pretrial    Jail Inmate   Married       1                    8      \n",
       "6 Pretrial    Jail Inmate   Married       1                   18      \n",
       "  DecileScore ScoreText AssessmentType\n",
       "1 4           Low       New           \n",
       "2 2           Low       New           \n",
       "3 1           Low       New           \n",
       "4 2           Low       New           \n",
       "5 1           Low       New           \n",
       "6 3           Low       New           "
      ]
     },
     "metadata": {},
     "output_type": "display_data"
    }
   ],
   "source": [
    "head(compas_scores_redcoldate)"
   ]
  },
  {
   "cell_type": "code",
   "execution_count": 40,
   "metadata": {},
   "outputs": [
    {
     "data": {
      "text/plain": [
       "         Agency_Text    Sex_Code_Text          Ethnic_Code_Text\n",
       " Broward County:  123   Female:13329   African-American:27012  \n",
       " DRRD          :  564   Male  :47502   Caucasian       :21780  \n",
       " PRETRIAL      :41088                  Hispanic        : 8739  \n",
       " Probation     :19056                  Other           : 2592  \n",
       "                                       Asian           :  324  \n",
       "                                       Native American :  219  \n",
       "                                       (Other)         :  165  \n",
       "  DateOfBirth          ScaleSet_ID       Language    \n",
       " Min.   :1969-01-01   Min.   :17.00   English:60579  \n",
       " 1st Qu.:1981-09-20   1st Qu.:22.00   Spanish:  252  \n",
       " Median :1988-09-26   Median :22.00                  \n",
       " Mean   :2000-11-09   Mean   :21.82                  \n",
       " 3rd Qu.:1994-11-01   3rd Qu.:22.00                  \n",
       " Max.   :2068-12-28   Max.   :22.00                  \n",
       "                                                     \n",
       "              LegalStatus                CustodyStatus  \n",
       " Conditional Release:  420   Jail Inmate        :30120  \n",
       " Deferred Sentencing:   12   Parole             :   21  \n",
       " Other              : 4356   Pretrial Defendant : 7641  \n",
       " Parole Violator    :   18   Prison Inmate      :   15  \n",
       " Post Sentence      :18333   Probation          :22968  \n",
       " Pretrial           :37566   Residential Program:   66  \n",
       " Probation Violator :  126                              \n",
       "           MaritalStatus   RecSupervisionLevel    Scale_ID   DecileScore    \n",
       " Divorced         : 3879   Min.   :1.00        Min.   : 7   Min.   :-1.000  \n",
       " Married          : 8169   1st Qu.:1.00        1st Qu.: 7   1st Qu.: 1.000  \n",
       " Separated        : 1803   Median :1.00        Median : 8   Median : 3.000  \n",
       " Significant Other: 1260   Mean   :1.63        Mean   :11   Mean   : 3.572  \n",
       " Single           :45120   3rd Qu.:2.00        3rd Qu.:18   3rd Qu.: 5.000  \n",
       " Unknown          :  213   Max.   :4.00        Max.   :18   Max.   :10.000  \n",
       " Widowed          :  387                                                    \n",
       "  ScoreText     AssessmentType    \n",
       " High  : 6823   Length:60831      \n",
       " Low   :41477   Class :character  \n",
       " Medium:12486   Mode  :character  \n",
       " N/A   :   45                     \n",
       "                                  \n",
       "                                  \n",
       "                                  "
      ]
     },
     "metadata": {},
     "output_type": "display_data"
    }
   ],
   "source": [
    "summary(compas_scores_redcoldate)"
   ]
  },
  {
   "cell_type": "code",
   "execution_count": 41,
   "metadata": {},
   "outputs": [
    {
     "data": {
      "text/html": [
       "<table>\n",
       "<thead><tr><th></th><th scope=col>Deferred Sentencing</th><th scope=col>Other</th><th scope=col>Parole Violator</th><th scope=col>Post Sentence</th><th scope=col>Pretrial</th><th scope=col>Probation Violator</th></tr></thead>\n",
       "<tbody>\n",
       "\t<tr><th scope=row>Conditional Release</th><td>0</td><td>0</td><td>0</td><td>0</td><td>0</td><td>0</td></tr>\n",
       "\t<tr><th scope=row>Deferred Sentencing</th><td>1</td><td>0</td><td>0</td><td>0</td><td>0</td><td>0</td></tr>\n",
       "\t<tr><th scope=row>Other</th><td>0</td><td>1</td><td>0</td><td>0</td><td>0</td><td>0</td></tr>\n",
       "\t<tr><th scope=row>Parole Violator</th><td>0</td><td>0</td><td>1</td><td>0</td><td>0</td><td>0</td></tr>\n",
       "\t<tr><th scope=row>Post Sentence</th><td>0</td><td>0</td><td>0</td><td>1</td><td>0</td><td>0</td></tr>\n",
       "\t<tr><th scope=row>Pretrial</th><td>0</td><td>0</td><td>0</td><td>0</td><td>1</td><td>0</td></tr>\n",
       "\t<tr><th scope=row>Probation Violator</th><td>0</td><td>0</td><td>0</td><td>0</td><td>0</td><td>1</td></tr>\n",
       "</tbody>\n",
       "</table>\n"
      ],
      "text/latex": [
       "\\begin{tabular}{r|llllll}\n",
       "  & Deferred Sentencing & Other & Parole Violator & Post Sentence & Pretrial & Probation Violator\\\\\n",
       "\\hline\n",
       "\tConditional Release & 0 & 0 & 0 & 0 & 0 & 0\\\\\n",
       "\tDeferred Sentencing & 1 & 0 & 0 & 0 & 0 & 0\\\\\n",
       "\tOther & 0 & 1 & 0 & 0 & 0 & 0\\\\\n",
       "\tParole Violator & 0 & 0 & 1 & 0 & 0 & 0\\\\\n",
       "\tPost Sentence & 0 & 0 & 0 & 1 & 0 & 0\\\\\n",
       "\tPretrial & 0 & 0 & 0 & 0 & 1 & 0\\\\\n",
       "\tProbation Violator & 0 & 0 & 0 & 0 & 0 & 1\\\\\n",
       "\\end{tabular}\n"
      ],
      "text/markdown": [
       "\n",
       "| <!--/--> | Deferred Sentencing | Other | Parole Violator | Post Sentence | Pretrial | Probation Violator |\n",
       "|---|---|---|---|---|---|---|\n",
       "| Conditional Release | 0 | 0 | 0 | 0 | 0 | 0 |\n",
       "| Deferred Sentencing | 1 | 0 | 0 | 0 | 0 | 0 |\n",
       "| Other | 0 | 1 | 0 | 0 | 0 | 0 |\n",
       "| Parole Violator | 0 | 0 | 1 | 0 | 0 | 0 |\n",
       "| Post Sentence | 0 | 0 | 0 | 1 | 0 | 0 |\n",
       "| Pretrial | 0 | 0 | 0 | 0 | 1 | 0 |\n",
       "| Probation Violator | 0 | 0 | 0 | 0 | 0 | 1 |\n",
       "\n"
      ],
      "text/plain": [
       "                    Deferred Sentencing Other Parole Violator Post Sentence\n",
       "Conditional Release 0                   0     0               0            \n",
       "Deferred Sentencing 1                   0     0               0            \n",
       "Other               0                   1     0               0            \n",
       "Parole Violator     0                   0     1               0            \n",
       "Post Sentence       0                   0     0               1            \n",
       "Pretrial            0                   0     0               0            \n",
       "Probation Violator  0                   0     0               0            \n",
       "                    Pretrial Probation Violator\n",
       "Conditional Release 0        0                 \n",
       "Deferred Sentencing 0        0                 \n",
       "Other               0        0                 \n",
       "Parole Violator     0        0                 \n",
       "Post Sentence       0        0                 \n",
       "Pretrial            1        0                 \n",
       "Probation Violator  0        1                 "
      ]
     },
     "metadata": {},
     "output_type": "display_data"
    }
   ],
   "source": [
    "#This function shows how the dummy coding is performed by lm() in R - This line is just for testing verification purposes\n",
    "# If needed we can use another column if we like to see how such columns are dummy coded by lm() funcion. Just change column name after $\n",
    "contrasts(compas_scores_redcoldate$LegalStatus)"
   ]
  },
  {
   "cell_type": "code",
   "execution_count": 42,
   "metadata": {},
   "outputs": [],
   "source": [
    "Ymodel_compas_scores_redcoldate <- lm(DecileScore ~ ., data=compas_scores_redcoldate)"
   ]
  },
  {
   "cell_type": "code",
   "execution_count": 43,
   "metadata": {},
   "outputs": [
    {
     "data": {
      "text/plain": [
       "\n",
       "Call:\n",
       "lm(formula = DecileScore ~ ., data = compas_scores_redcoldate)\n",
       "\n",
       "Residuals:\n",
       "    Min      1Q  Median      3Q     Max \n",
       "-1.9925 -0.8127 -0.1467  0.8105  2.7372 \n",
       "\n",
       "Coefficients:\n",
       "                                   Estimate Std. Error  t value Pr(>|t|)    \n",
       "(Intercept)                       8.664e+00  1.929e-01   44.927  < 2e-16 ***\n",
       "Agency_TextDRRD                  -1.197e-01  9.631e-02   -1.243 0.213722    \n",
       "Agency_TextPRETRIAL              -1.295e-01  8.563e-02   -1.512 0.130500    \n",
       "Agency_TextProbation             -1.487e-01  8.653e-02   -1.719 0.085689 .  \n",
       "Sex_Code_TextMale                 2.172e-03  9.397e-03    0.231 0.817213    \n",
       "Ethnic_Code_TextAfrican-American -2.752e-01  1.328e-01   -2.072 0.038313 *  \n",
       "Ethnic_Code_TextArabic           -2.757e-01  1.720e-01   -1.603 0.108993    \n",
       "Ethnic_Code_TextAsian            -5.237e-01  1.429e-01   -3.666 0.000247 ***\n",
       "Ethnic_Code_TextCaucasian        -3.672e-01  1.329e-01   -2.763 0.005729 ** \n",
       "Ethnic_Code_TextHispanic         -3.890e-01  1.332e-01   -2.920 0.003498 ** \n",
       "Ethnic_Code_TextNative American  -1.939e-01  1.474e-01   -1.316 0.188339    \n",
       "Ethnic_Code_TextOriental         -3.010e-01  2.016e-01   -1.494 0.135299    \n",
       "Ethnic_Code_TextOther            -4.925e-01  1.341e-01   -3.671 0.000241 ***\n",
       "DateOfBirth                      -1.028e-05  3.489e-07  -29.454  < 2e-16 ***\n",
       "ScaleSet_ID                       1.090e-04  4.882e-03    0.022 0.982195    \n",
       "LanguageSpanish                  -4.360e-02  6.091e-02   -0.716 0.474158    \n",
       "LegalStatusDeferred Sentencing   -1.065e-01  2.818e-01   -0.378 0.705447    \n",
       "LegalStatusOther                 -1.416e-01  5.234e-02   -2.706 0.006804 ** \n",
       "LegalStatusParole Violator        2.368e-01  2.289e-01    1.035 0.300880    \n",
       "LegalStatusPost Sentence         -8.449e-02  5.060e-02   -1.670 0.094999 .  \n",
       "LegalStatusPretrial              -2.010e-01  6.528e-02   -3.079 0.002078 ** \n",
       "LegalStatusProbation Violator     2.471e-01  9.945e-02    2.485 0.012952 *  \n",
       "CustodyStatusParole              -2.074e-01  2.102e-01   -0.987 0.323775    \n",
       "CustodyStatusPretrial Defendant   4.554e-02  1.245e-02    3.657 0.000256 ***\n",
       "CustodyStatusPrison Inmate       -6.099e-02  2.446e-01   -0.249 0.803118    \n",
       "CustodyStatusProbation           -4.071e-02  4.217e-02   -0.965 0.334420    \n",
       "CustodyStatusResidential Program -2.048e-02  1.174e-01   -0.174 0.861531    \n",
       "MaritalStatusMarried             -1.220e-01  1.868e-02   -6.527 6.74e-11 ***\n",
       "MaritalStatusSeparated            7.898e-02  2.714e-02    2.910 0.003614 ** \n",
       "MaritalStatusSignificant Other    1.165e-01  3.132e-02    3.720 0.000200 ***\n",
       "MaritalStatusSingle               2.242e-01  1.652e-02   13.571  < 2e-16 ***\n",
       "MaritalStatusUnknown             -1.133e-02  6.690e-02   -0.169 0.865502    \n",
       "MaritalStatusWidowed              1.494e-01  5.058e-02    2.954 0.003135 ** \n",
       "RecSupervisionLevel               2.760e-01  5.951e-03   46.386  < 2e-16 ***\n",
       "Scale_ID                         -1.461e-02  7.800e-04  -18.735  < 2e-16 ***\n",
       "ScoreTextLow                     -6.098e+00  1.702e-02 -358.177  < 2e-16 ***\n",
       "ScoreTextMedium                  -2.547e+00  1.620e-02 -157.190  < 2e-16 ***\n",
       "ScoreTextN/A                     -9.126e+00  1.424e-01  -64.090  < 2e-16 ***\n",
       "AssessmentTypeNew                -1.076e-01  1.512e-02   -7.120 1.09e-12 ***\n",
       "---\n",
       "Signif. codes:  0 '***' 0.001 '**' 0.01 '*' 0.05 '.' 0.1 ' ' 1\n",
       "\n",
       "Residual standard error: 0.9468 on 60792 degrees of freedom\n",
       "Multiple R-squared:  0.8693,\tAdjusted R-squared:  0.8692 \n",
       "F-statistic: 1.064e+04 on 38 and 60792 DF,  p-value: < 2.2e-16\n"
      ]
     },
     "metadata": {},
     "output_type": "display_data"
    }
   ],
   "source": [
    "summary(Ymodel_compas_scores_redcoldate)"
   ]
  },
  {
   "cell_type": "code",
   "execution_count": 44,
   "metadata": {},
   "outputs": [
    {
     "name": "stdout",
     "output_type": "stream",
     "text": [
      "Start:  AIC=-6617.46\n",
      "DecileScore ~ Agency_Text + Sex_Code_Text + Ethnic_Code_Text + \n",
      "    DateOfBirth + ScaleSet_ID + Language + LegalStatus + CustodyStatus + \n",
      "    MaritalStatus + RecSupervisionLevel + Scale_ID + ScoreText + \n",
      "    AssessmentType\n",
      "\n",
      "                      Df Sum of Sq    RSS   AIC\n",
      "- ScaleSet_ID          1         0  54491 -6619\n",
      "- Sex_Code_Text        1         0  54491 -6619\n",
      "- Language             1         0  54491 -6619\n",
      "- Agency_Text          3         4  54495 -6619\n",
      "<none>                              54491 -6617\n",
      "- CustodyStatus        5        14  54505 -6612\n",
      "- LegalStatus          6        35  54525 -6591\n",
      "- AssessmentType       1        45  54536 -6569\n",
      "- Ethnic_Code_Text     8       206  54697 -6404\n",
      "- Scale_ID             1       315  54805 -6269\n",
      "- DateOfBirth          1       778  55268 -5758\n",
      "- MaritalStatus        6       848  55338 -5691\n",
      "- RecSupervisionLevel  1      1929  56420 -4504\n",
      "- ScoreText            3    156766 211257 75805\n",
      "\n",
      "Step:  AIC=-6619.46\n",
      "DecileScore ~ Agency_Text + Sex_Code_Text + Ethnic_Code_Text + \n",
      "    DateOfBirth + Language + LegalStatus + CustodyStatus + MaritalStatus + \n",
      "    RecSupervisionLevel + Scale_ID + ScoreText + AssessmentType\n",
      "\n",
      "                      Df Sum of Sq    RSS   AIC\n",
      "- Sex_Code_Text        1         0  54491 -6621\n",
      "- Language             1         0  54491 -6621\n",
      "- Agency_Text          3         4  54495 -6621\n",
      "<none>                              54491 -6619\n",
      "- CustodyStatus        5        14  54505 -6614\n",
      "- LegalStatus          6        36  54527 -6591\n",
      "- AssessmentType       1        46  54537 -6570\n",
      "- Ethnic_Code_Text     8       206  54697 -6406\n",
      "- Scale_ID             1       315  54805 -6271\n",
      "- DateOfBirth          1       778  55268 -5759\n",
      "- MaritalStatus        6       848  55339 -5692\n",
      "- RecSupervisionLevel  1      1941  56432 -4492\n",
      "- ScoreText            3    156778 211269 75807\n",
      "\n",
      "Step:  AIC=-6621.4\n",
      "DecileScore ~ Agency_Text + Ethnic_Code_Text + DateOfBirth + \n",
      "    Language + LegalStatus + CustodyStatus + MaritalStatus + \n",
      "    RecSupervisionLevel + Scale_ID + ScoreText + AssessmentType\n",
      "\n",
      "                      Df Sum of Sq    RSS   AIC\n",
      "- Language             1         0  54491 -6623\n",
      "- Agency_Text          3         4  54495 -6623\n",
      "<none>                              54491 -6621\n",
      "- CustodyStatus        5        14  54505 -6616\n",
      "- LegalStatus          6        36  54527 -6593\n",
      "- AssessmentType       1        46  54537 -6572\n",
      "- Ethnic_Code_Text     8       206  54697 -6408\n",
      "- Scale_ID             1       315  54805 -6273\n",
      "- DateOfBirth          1       779  55270 -5760\n",
      "- MaritalStatus        6       848  55339 -5694\n",
      "- RecSupervisionLevel  1      1944  56435 -4491\n",
      "- ScoreText            3    156863 211354 75829\n",
      "\n",
      "Step:  AIC=-6622.89\n",
      "DecileScore ~ Agency_Text + Ethnic_Code_Text + DateOfBirth + \n",
      "    LegalStatus + CustodyStatus + MaritalStatus + RecSupervisionLevel + \n",
      "    Scale_ID + ScoreText + AssessmentType\n",
      "\n",
      "                      Df Sum of Sq    RSS   AIC\n",
      "- Agency_Text          3         4  54496 -6624\n",
      "<none>                              54491 -6623\n",
      "- CustodyStatus        5        14  54505 -6617\n",
      "- LegalStatus          6        37  54528 -6594\n",
      "- AssessmentType       1        46  54538 -6573\n",
      "- Ethnic_Code_Text     8       207  54698 -6408\n",
      "- Scale_ID             1       315  54806 -6275\n",
      "- DateOfBirth          1       779  55271 -5761\n",
      "- MaritalStatus        6       848  55339 -5696\n",
      "- RecSupervisionLevel  1      1945  56437 -4491\n",
      "- ScoreText            3    156866 211357 75828\n",
      "\n",
      "Step:  AIC=-6624.27\n",
      "DecileScore ~ Ethnic_Code_Text + DateOfBirth + LegalStatus + \n",
      "    CustodyStatus + MaritalStatus + RecSupervisionLevel + Scale_ID + \n",
      "    ScoreText + AssessmentType\n",
      "\n",
      "                      Df Sum of Sq    RSS   AIC\n",
      "<none>                              54496 -6624\n",
      "- CustodyStatus        5        15  54510 -6618\n",
      "- LegalStatus          6        40  54536 -6592\n",
      "- AssessmentType       1        45  54541 -6576\n",
      "- Ethnic_Code_Text     8       209  54704 -6408\n",
      "- Scale_ID             1       314  54810 -6276\n",
      "- DateOfBirth          1       779  55274 -5763\n",
      "- MaritalStatus        6       851  55347 -5693\n",
      "- RecSupervisionLevel  1      1956  56452 -4481\n",
      "- ScoreText            3    156932 211428 75842\n"
     ]
    },
    {
     "data": {
      "text/plain": [
       "\n",
       "Call:\n",
       "lm(formula = DecileScore ~ Ethnic_Code_Text + DateOfBirth + LegalStatus + \n",
       "    CustodyStatus + MaritalStatus + RecSupervisionLevel + Scale_ID + \n",
       "    ScoreText + AssessmentType, data = compas_scores_redcoldate)\n",
       "\n",
       "Coefficients:\n",
       "                     (Intercept)  Ethnic_Code_TextAfrican-American  \n",
       "                       8.533e+00                        -2.740e-01  \n",
       "          Ethnic_Code_TextArabic             Ethnic_Code_TextAsian  \n",
       "                      -2.756e-01                        -5.250e-01  \n",
       "       Ethnic_Code_TextCaucasian          Ethnic_Code_TextHispanic  \n",
       "                      -3.664e-01                        -3.907e-01  \n",
       " Ethnic_Code_TextNative American          Ethnic_Code_TextOriental  \n",
       "                      -1.935e-01                        -3.004e-01  \n",
       "           Ethnic_Code_TextOther                       DateOfBirth  \n",
       "                      -4.906e-01                        -1.027e-05  \n",
       "  LegalStatusDeferred Sentencing                  LegalStatusOther  \n",
       "                      -8.609e-02                        -1.471e-01  \n",
       "      LegalStatusParole Violator          LegalStatusPost Sentence  \n",
       "                       2.305e-01                        -8.809e-02  \n",
       "             LegalStatusPretrial     LegalStatusProbation Violator  \n",
       "                      -1.980e-01                         2.588e-01  \n",
       "             CustodyStatusParole   CustodyStatusPretrial Defendant  \n",
       "                      -2.124e-01                         4.535e-02  \n",
       "      CustodyStatusPrison Inmate            CustodyStatusProbation  \n",
       "                      -6.818e-02                        -4.819e-02  \n",
       "CustodyStatusResidential Program              MaritalStatusMarried  \n",
       "                      -1.908e-02                        -1.223e-01  \n",
       "          MaritalStatusSeparated    MaritalStatusSignificant Other  \n",
       "                       7.903e-02                         1.169e-01  \n",
       "             MaritalStatusSingle              MaritalStatusUnknown  \n",
       "                       2.245e-01                        -1.134e-02  \n",
       "            MaritalStatusWidowed               RecSupervisionLevel  \n",
       "                       1.485e-01                         2.765e-01  \n",
       "                        Scale_ID                      ScoreTextLow  \n",
       "                      -1.461e-02                        -6.098e+00  \n",
       "                 ScoreTextMedium                      ScoreTextN/A  \n",
       "                      -2.547e+00                        -9.127e+00  \n",
       "               AssessmentTypeNew  \n",
       "                      -1.064e-01  \n"
      ]
     },
     "metadata": {},
     "output_type": "display_data"
    }
   ],
   "source": [
    "step(Ymodel_compas_scores_redcoldate, direction = \"backward\")"
   ]
  },
  {
   "cell_type": "code",
   "execution_count": null,
   "metadata": {},
   "outputs": [],
   "source": []
  }
 ],
 "metadata": {
  "kernelspec": {
   "display_name": "R",
   "language": "R",
   "name": "ir"
  },
  "language_info": {
   "codemirror_mode": "r",
   "file_extension": ".r",
   "mimetype": "text/x-r-source",
   "name": "R",
   "pygments_lexer": "r",
   "version": "3.6.1"
  }
 },
 "nbformat": 4,
 "nbformat_minor": 4
}
